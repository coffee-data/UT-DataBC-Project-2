{
 "cells": [
  {
   "cell_type": "code",
   "execution_count": 1,
   "metadata": {},
   "outputs": [],
   "source": [
    "import pandas as pd"
   ]
  },
  {
   "cell_type": "code",
   "execution_count": 2,
   "metadata": {},
   "outputs": [],
   "source": [
    "path = 'exchange_rates_VIZREADY.csv'"
   ]
  },
  {
   "cell_type": "code",
   "execution_count": 3,
   "metadata": {
    "scrolled": true
   },
   "outputs": [
    {
     "data": {
      "text/html": [
       "<div>\n",
       "<style scoped>\n",
       "    .dataframe tbody tr th:only-of-type {\n",
       "        vertical-align: middle;\n",
       "    }\n",
       "\n",
       "    .dataframe tbody tr th {\n",
       "        vertical-align: top;\n",
       "    }\n",
       "\n",
       "    .dataframe thead th {\n",
       "        text-align: right;\n",
       "    }\n",
       "</style>\n",
       "<table border=\"1\" class=\"dataframe\">\n",
       "  <thead>\n",
       "    <tr style=\"text-align: right;\">\n",
       "      <th></th>\n",
       "      <th>Unnamed: 0</th>\n",
       "      <th>Country</th>\n",
       "      <th>Scale</th>\n",
       "      <th>Date</th>\n",
       "      <th>Conversions_Numeric</th>\n",
       "    </tr>\n",
       "  </thead>\n",
       "  <tbody>\n",
       "    <tr>\n",
       "      <th>0</th>\n",
       "      <td>0</td>\n",
       "      <td>Afghanistan, Islamic Rep. of</td>\n",
       "      <td>Units</td>\n",
       "      <td>1963</td>\n",
       "      <td>3.510964e+01</td>\n",
       "    </tr>\n",
       "    <tr>\n",
       "      <th>1</th>\n",
       "      <td>1</td>\n",
       "      <td>Albania</td>\n",
       "      <td>Units</td>\n",
       "      <td>1963</td>\n",
       "      <td>NaN</td>\n",
       "    </tr>\n",
       "    <tr>\n",
       "      <th>2</th>\n",
       "      <td>2</td>\n",
       "      <td>Algeria</td>\n",
       "      <td>Units</td>\n",
       "      <td>1963</td>\n",
       "      <td>4.937060e+00</td>\n",
       "    </tr>\n",
       "    <tr>\n",
       "      <th>3</th>\n",
       "      <td>3</td>\n",
       "      <td>Angola</td>\n",
       "      <td>Units</td>\n",
       "      <td>1963</td>\n",
       "      <td>2.875203e-08</td>\n",
       "    </tr>\n",
       "    <tr>\n",
       "      <th>4</th>\n",
       "      <td>4</td>\n",
       "      <td>Anguilla</td>\n",
       "      <td>Units</td>\n",
       "      <td>1963</td>\n",
       "      <td>1.714118e+00</td>\n",
       "    </tr>\n",
       "  </tbody>\n",
       "</table>\n",
       "</div>"
      ],
      "text/plain": [
       "   Unnamed: 0                       Country  Scale  Date  Conversions_Numeric\n",
       "0           0  Afghanistan, Islamic Rep. of  Units  1963         3.510964e+01\n",
       "1           1                       Albania  Units  1963                  NaN\n",
       "2           2                       Algeria  Units  1963         4.937060e+00\n",
       "3           3                        Angola  Units  1963         2.875203e-08\n",
       "4           4                      Anguilla  Units  1963         1.714118e+00"
      ]
     },
     "execution_count": 3,
     "metadata": {},
     "output_type": "execute_result"
    }
   ],
   "source": [
    "xchangerates = pd.read_csv(path)\n",
    "xchangerates.head()"
   ]
  },
  {
   "cell_type": "code",
   "execution_count": 4,
   "metadata": {},
   "outputs": [
    {
     "data": {
      "text/html": [
       "<div>\n",
       "<style scoped>\n",
       "    .dataframe tbody tr th:only-of-type {\n",
       "        vertical-align: middle;\n",
       "    }\n",
       "\n",
       "    .dataframe tbody tr th {\n",
       "        vertical-align: top;\n",
       "    }\n",
       "\n",
       "    .dataframe thead th {\n",
       "        text-align: right;\n",
       "    }\n",
       "</style>\n",
       "<table border=\"1\" class=\"dataframe\">\n",
       "  <thead>\n",
       "    <tr style=\"text-align: right;\">\n",
       "      <th></th>\n",
       "      <th>Unnamed: 0</th>\n",
       "      <th>Unnamed: 0.1</th>\n",
       "      <th>Unnamed: 0.1.1</th>\n",
       "      <th>Country</th>\n",
       "      <th>Continents</th>\n",
       "      <th>Unit</th>\n",
       "      <th>Country_Code</th>\n",
       "      <th>Weight</th>\n",
       "      <th>Type</th>\n",
       "      <th>Type of Coffee</th>\n",
       "      <th>Date</th>\n",
       "      <th>Price</th>\n",
       "      <th>unit_price(/kg)</th>\n",
       "    </tr>\n",
       "  </thead>\n",
       "  <tbody>\n",
       "    <tr>\n",
       "      <th>0</th>\n",
       "      <td>0</td>\n",
       "      <td>0</td>\n",
       "      <td>0</td>\n",
       "      <td>Burundi</td>\n",
       "      <td>Africa</td>\n",
       "      <td>kg</td>\n",
       "      <td>BIF</td>\n",
       "      <td>1</td>\n",
       "      <td>P</td>\n",
       "      <td>Arabica</td>\n",
       "      <td>Jan-1963</td>\n",
       "      <td>20.0</td>\n",
       "      <td>20.00</td>\n",
       "    </tr>\n",
       "    <tr>\n",
       "      <th>1</th>\n",
       "      <td>1</td>\n",
       "      <td>1</td>\n",
       "      <td>1</td>\n",
       "      <td>Cameroon</td>\n",
       "      <td>Africa</td>\n",
       "      <td>kg</td>\n",
       "      <td>XAF</td>\n",
       "      <td>1</td>\n",
       "      <td>G</td>\n",
       "      <td>Robusta</td>\n",
       "      <td>Jan-1963</td>\n",
       "      <td>90.3</td>\n",
       "      <td>90.30</td>\n",
       "    </tr>\n",
       "    <tr>\n",
       "      <th>2</th>\n",
       "      <td>2</td>\n",
       "      <td>2</td>\n",
       "      <td>2</td>\n",
       "      <td>Côte d'Ivoire</td>\n",
       "      <td>Africa</td>\n",
       "      <td>kg</td>\n",
       "      <td>XAF</td>\n",
       "      <td>1</td>\n",
       "      <td>G</td>\n",
       "      <td>Robusta</td>\n",
       "      <td>Jan-1963</td>\n",
       "      <td>80.0</td>\n",
       "      <td>80.00</td>\n",
       "    </tr>\n",
       "    <tr>\n",
       "      <th>3</th>\n",
       "      <td>3</td>\n",
       "      <td>5</td>\n",
       "      <td>5</td>\n",
       "      <td>Kenya</td>\n",
       "      <td>Africa</td>\n",
       "      <td>kg</td>\n",
       "      <td>KES</td>\n",
       "      <td>50</td>\n",
       "      <td>G</td>\n",
       "      <td>Arabica</td>\n",
       "      <td>Jan-1963</td>\n",
       "      <td>274.0</td>\n",
       "      <td>5.48</td>\n",
       "    </tr>\n",
       "    <tr>\n",
       "      <th>4</th>\n",
       "      <td>4</td>\n",
       "      <td>6</td>\n",
       "      <td>6</td>\n",
       "      <td>Madagascar, Rep. of</td>\n",
       "      <td>Africa</td>\n",
       "      <td>kg</td>\n",
       "      <td>MGF</td>\n",
       "      <td>1</td>\n",
       "      <td>G</td>\n",
       "      <td>Robusta</td>\n",
       "      <td>Jan-1963</td>\n",
       "      <td>83.0</td>\n",
       "      <td>83.00</td>\n",
       "    </tr>\n",
       "  </tbody>\n",
       "</table>\n",
       "</div>"
      ],
      "text/plain": [
       "   Unnamed: 0  Unnamed: 0.1  Unnamed: 0.1.1              Country Continents  \\\n",
       "0           0             0               0              Burundi     Africa   \n",
       "1           1             1               1             Cameroon     Africa   \n",
       "2           2             2               2        Côte d'Ivoire     Africa   \n",
       "3           3             5               5                Kenya     Africa   \n",
       "4           4             6               6  Madagascar, Rep. of     Africa   \n",
       "\n",
       "  Unit Country_Code  Weight Type Type of Coffee      Date  Price  \\\n",
       "0   kg          BIF       1    P        Arabica  Jan-1963   20.0   \n",
       "1   kg          XAF       1    G        Robusta  Jan-1963   90.3   \n",
       "2   kg          XAF       1    G        Robusta  Jan-1963   80.0   \n",
       "3   kg          KES      50    G        Arabica  Jan-1963  274.0   \n",
       "4   kg          MGF       1    G        Robusta  Jan-1963   83.0   \n",
       "\n",
       "   unit_price(/kg)  \n",
       "0            20.00  \n",
       "1            90.30  \n",
       "2            80.00  \n",
       "3             5.48  \n",
       "4            83.00  "
      ]
     },
     "execution_count": 4,
     "metadata": {},
     "output_type": "execute_result"
    }
   ],
   "source": [
    "growerpath = 'deconstructed_GrowerPrices/Grower_Prices_VIZREADY_countrynameupdated.csv'\n",
    "grower_prices = pd.read_csv(growerpath)\n",
    "grower_prices.head()"
   ]
  },
  {
   "cell_type": "code",
   "execution_count": null,
   "metadata": {},
   "outputs": [],
   "source": [
    "grower_prices = grower_prices.merge(xchangerates, how='inner', on=['Country','Date')\n",
    "grower_prices.head(30)"
   ]
  },
  {
   "cell_type": "code",
   "execution_count": null,
   "metadata": {},
   "outputs": [],
   "source": [
    "grower_prices = grower_prices.drop(columns='Unnamed: 0.1')"
   ]
  },
  {
   "cell_type": "code",
   "execution_count": null,
   "metadata": {},
   "outputs": [],
   "source": [
    "grower_prices = grower_prices.drop(columns='Unnamed: 0_x')"
   ]
  },
  {
   "cell_type": "code",
   "execution_count": null,
   "metadata": {},
   "outputs": [],
   "source": [
    "grower_prices.head()"
   ]
  },
  {
   "cell_type": "code",
   "execution_count": null,
   "metadata": {},
   "outputs": [],
   "source": [
    "grower_prices.to_csv('deconstructed_GrowerPrices/merged_grower_prices_exchange_rates.csv')"
   ]
  },
  {
   "cell_type": "code",
   "execution_count": null,
   "metadata": {},
   "outputs": [],
   "source": [
    "retailpath = 'deconstructed_RetailPrices/RetailPrice_CLEANED_VIZREADY_countrynameupdated.csv'\n",
    "retail_prices = pd.read_csv(retailpath)\n",
    "retail_prices.head()"
   ]
  },
  {
   "cell_type": "code",
   "execution_count": null,
   "metadata": {},
   "outputs": [],
   "source": [
    "retail_prices = retail_prices.merge(xchangerates, how='inner', on='Country')\n",
    "retail_prices.head()"
   ]
  },
  {
   "cell_type": "code",
   "execution_count": null,
   "metadata": {},
   "outputs": [],
   "source": [
    "retail_prices = retail_prices.drop(columns='Unnamed: 0_x')"
   ]
  },
  {
   "cell_type": "code",
   "execution_count": null,
   "metadata": {},
   "outputs": [],
   "source": [
    "retail_prices = retail_prices.drop(columns='Unnamed: 0.1')"
   ]
  },
  {
   "cell_type": "code",
   "execution_count": null,
   "metadata": {},
   "outputs": [],
   "source": [
    "retail_prices = retail_prices.drop(columns='Unnamed: 0.1.1')"
   ]
  },
  {
   "cell_type": "code",
   "execution_count": null,
   "metadata": {},
   "outputs": [],
   "source": [
    "retail_prices.head()"
   ]
  },
  {
   "cell_type": "code",
   "execution_count": null,
   "metadata": {},
   "outputs": [],
   "source": [
    "retail_prices.to_csv('deconstructed_RetailPrices/merged_grower_prices_exchange_rates.csv')"
   ]
  },
  {
   "cell_type": "code",
   "execution_count": null,
   "metadata": {},
   "outputs": [],
   "source": []
  }
 ],
 "metadata": {
  "kernelspec": {
   "display_name": "Python 3",
   "language": "python",
   "name": "python3"
  },
  "language_info": {
   "codemirror_mode": {
    "name": "ipython",
    "version": 3
   },
   "file_extension": ".py",
   "mimetype": "text/x-python",
   "name": "python",
   "nbconvert_exporter": "python",
   "pygments_lexer": "ipython3",
   "version": "3.7.6"
  }
 },
 "nbformat": 4,
 "nbformat_minor": 2
}
