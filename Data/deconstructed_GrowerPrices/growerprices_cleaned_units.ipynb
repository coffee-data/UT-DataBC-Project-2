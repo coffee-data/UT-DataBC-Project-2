{
 "cells": [
  {
   "cell_type": "code",
   "execution_count": 14,
   "metadata": {},
   "outputs": [],
   "source": [
    "import pandas as pd\n"
   ]
  },
  {
   "cell_type": "code",
   "execution_count": 15,
   "metadata": {},
   "outputs": [],
   "source": [
    "file = \"GrowerPrices_CLEANED.csv\"\n",
    "df = pd.read_csv(file)\n"
   ]
  },
  {
   "cell_type": "code",
   "execution_count": 16,
   "metadata": {},
   "outputs": [
    {
     "data": {
      "text/html": [
       "<div>\n",
       "<style scoped>\n",
       "    .dataframe tbody tr th:only-of-type {\n",
       "        vertical-align: middle;\n",
       "    }\n",
       "\n",
       "    .dataframe tbody tr th {\n",
       "        vertical-align: top;\n",
       "    }\n",
       "\n",
       "    .dataframe thead th {\n",
       "        text-align: right;\n",
       "    }\n",
       "</style>\n",
       "<table border=\"1\" class=\"dataframe\">\n",
       "  <thead>\n",
       "    <tr style=\"text-align: right;\">\n",
       "      <th></th>\n",
       "      <th>Unnamed: 0</th>\n",
       "      <th>Country</th>\n",
       "      <th>Continents</th>\n",
       "      <th>Unit</th>\n",
       "      <th>Country_Code</th>\n",
       "      <th>Weight</th>\n",
       "      <th>Type</th>\n",
       "      <th>Type of Coffee</th>\n",
       "      <th>Date</th>\n",
       "      <th>Price</th>\n",
       "      <th>unit_price(/kg)</th>\n",
       "    </tr>\n",
       "  </thead>\n",
       "  <tbody>\n",
       "    <tr>\n",
       "      <td>0</td>\n",
       "      <td>0</td>\n",
       "      <td>Burundi</td>\n",
       "      <td>Africa</td>\n",
       "      <td>kg</td>\n",
       "      <td>BIF</td>\n",
       "      <td>1</td>\n",
       "      <td>P</td>\n",
       "      <td>Arabica</td>\n",
       "      <td>Jan-1963</td>\n",
       "      <td>20.0</td>\n",
       "      <td></td>\n",
       "    </tr>\n",
       "    <tr>\n",
       "      <td>1</td>\n",
       "      <td>1</td>\n",
       "      <td>Cameroon</td>\n",
       "      <td>Africa</td>\n",
       "      <td>kg</td>\n",
       "      <td>XAF</td>\n",
       "      <td>1</td>\n",
       "      <td>G</td>\n",
       "      <td>Robusta</td>\n",
       "      <td>Jan-1963</td>\n",
       "      <td>90.3</td>\n",
       "      <td></td>\n",
       "    </tr>\n",
       "    <tr>\n",
       "      <td>2</td>\n",
       "      <td>2</td>\n",
       "      <td>Côte d'Ivoire</td>\n",
       "      <td>Africa</td>\n",
       "      <td>kg</td>\n",
       "      <td>XAF</td>\n",
       "      <td>1</td>\n",
       "      <td>G</td>\n",
       "      <td>Robusta</td>\n",
       "      <td>Jan-1963</td>\n",
       "      <td>80.0</td>\n",
       "      <td></td>\n",
       "    </tr>\n",
       "    <tr>\n",
       "      <td>3</td>\n",
       "      <td>3</td>\n",
       "      <td>Ethiopia</td>\n",
       "      <td>Africa</td>\n",
       "      <td>kg</td>\n",
       "      <td>ETB</td>\n",
       "      <td>17</td>\n",
       "      <td>G</td>\n",
       "      <td>Arabica</td>\n",
       "      <td>Jan-1963</td>\n",
       "      <td>NaN</td>\n",
       "      <td></td>\n",
       "    </tr>\n",
       "    <tr>\n",
       "      <td>4</td>\n",
       "      <td>4</td>\n",
       "      <td>Gabon</td>\n",
       "      <td>Africa</td>\n",
       "      <td>kg</td>\n",
       "      <td>XAF</td>\n",
       "      <td>1</td>\n",
       "      <td>D</td>\n",
       "      <td>Robusta</td>\n",
       "      <td>Jan-1963</td>\n",
       "      <td>NaN</td>\n",
       "      <td></td>\n",
       "    </tr>\n",
       "  </tbody>\n",
       "</table>\n",
       "</div>"
      ],
      "text/plain": [
       "   Unnamed: 0        Country Continents Unit Country_Code  Weight Type  \\\n",
       "0           0        Burundi     Africa   kg          BIF       1    P   \n",
       "1           1       Cameroon     Africa   kg          XAF       1    G   \n",
       "2           2  Côte d'Ivoire     Africa   kg          XAF       1    G   \n",
       "3           3       Ethiopia     Africa   kg          ETB      17    G   \n",
       "4           4          Gabon     Africa   kg          XAF       1    D   \n",
       "\n",
       "  Type of Coffee      Date  Price unit_price(/kg)  \n",
       "0        Arabica  Jan-1963   20.0                  \n",
       "1        Robusta  Jan-1963   90.3                  \n",
       "2        Robusta  Jan-1963   80.0                  \n",
       "3        Arabica  Jan-1963    NaN                  \n",
       "4        Robusta  Jan-1963    NaN                  "
      ]
     },
     "execution_count": 16,
     "metadata": {},
     "output_type": "execute_result"
    }
   ],
   "source": [
    "df[\"unit_price(/kg)\"]=\"\"\n",
    "df.head()"
   ]
  },
  {
   "cell_type": "code",
   "execution_count": 17,
   "metadata": {},
   "outputs": [],
   "source": [
    "df.loc[df[\"Unit\"]==\"kg\",\"unit_price(/kg)\"]= (df[\"Price\"]/ df[\"Weight\"]).round(2)\n",
    "df.loc[df[\"Unit\"]==\"L\",\"unit_price(/kg)\"]= (df[\"Price\"]/ df[\"Weight\"]/1016).round(2)\n",
    "df.loc[df[\"Unit\"]==\"m\",\"unit_price(/kg)\"]= (df[\"Price\"]/ df[\"Weight\"]/1000).round(2)\n",
    "df.loc[df[\"Unit\"]==\"lb\",\"unit_price(/kg)\"]= (df[\"Price\"]/ df[\"Weight\"]/0.45).round(2)\n",
    "df.loc[df[\"Unit\"]==\"SQ\",\"unit_price(/kg)\"]= (df[\"Price\"]/ df[\"Weight\"]/45.9).round(2)"
   ]
  },
  {
   "cell_type": "code",
   "execution_count": 18,
   "metadata": {},
   "outputs": [],
   "source": [
    "df = df[df['Price'].notna()]\n",
    "df = df[df['Unit'].notna()]\n",
    "df = df[(df[['Price']] != 0).all(axis=1)]"
   ]
  },
  {
   "cell_type": "code",
   "execution_count": 19,
   "metadata": {},
   "outputs": [],
   "source": [
    "df.to_csv(\"Grower_Prices_Cleaned_Units.csv\")"
   ]
  },
  {
   "cell_type": "code",
   "execution_count": null,
   "metadata": {},
   "outputs": [],
   "source": []
  }
 ],
 "metadata": {
  "kernelspec": {
   "display_name": "Python 3",
   "language": "python",
   "name": "python3"
  },
  "language_info": {
   "codemirror_mode": {
    "name": "ipython",
    "version": 3
   },
   "file_extension": ".py",
   "mimetype": "text/x-python",
   "name": "python",
   "nbconvert_exporter": "python",
   "pygments_lexer": "ipython3",
   "version": "3.7.4"
  }
 },
 "nbformat": 4,
 "nbformat_minor": 2
}
