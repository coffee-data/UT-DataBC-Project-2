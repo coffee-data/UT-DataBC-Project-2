{
 "cells": [
  {
   "cell_type": "markdown",
   "metadata": {},
   "source": [
    "## Clean up script for arabica_ratings_raw. \n",
    "Decisions arround data management will be recorded here.\n"
   ]
  },
  {
   "cell_type": "code",
   "execution_count": 1,
   "metadata": {},
   "outputs": [],
   "source": [
    "# Dependencies\n",
    "import pandas as pd\n",
    "import numpy as np\n",
    "import re"
   ]
  },
  {
   "cell_type": "code",
   "execution_count": 2,
   "metadata": {},
   "outputs": [
    {
     "output_type": "execute_result",
     "data": {
      "text/plain": "   Unnamed: 0  quality_score  view_certificate_1  view_certificate_2  \\\n0           0          90.58                 NaN                 NaN   \n1           1          89.92                 NaN                 NaN   \n2           2          89.75                 NaN                 NaN   \n3           3          89.00                 NaN                 NaN   \n4           4          88.83                 NaN                 NaN   \n\n   Cupping Protocol and Descriptors  View Green Analysis Details  \\\n0                               NaN                          NaN   \n1                               NaN                          NaN   \n2                               NaN                          NaN   \n3                               NaN                          NaN   \n4                               NaN                          NaN   \n\n   Request a Sample  Species                     Owner Country of Origin  ...  \\\n0               NaN  Arabica                 metad plc          Ethiopia  ...   \n1               NaN  Arabica                 metad plc          Ethiopia  ...   \n2               NaN  Arabica  Grounds for Health Admin         Guatemala  ...   \n3               NaN  Arabica       Yidnekachew Dabessa          Ethiopia  ...   \n4               NaN  Arabica                 metad plc          Ethiopia  ...   \n\n  Quakers  Color Category Two Defects NA.3        Expiration  \\\n0     0.0  Green       0 full defects  NaN   April 3rd, 2016   \n1     0.0  Green       1 full defects  NaN   April 3rd, 2016   \n2     0.0    NaN       0 full defects  NaN    May 31st, 2011   \n3     0.0  Green       2 full defects  NaN  March 25th, 2016   \n4     0.0  Green       2 full defects  NaN   April 3rd, 2016   \n\n                   Certification Body  \\\n0  METAD Agricultural Development plc   \n1  METAD Agricultural Development plc   \n2        Specialty Coffee Association   \n3  METAD Agricultural Development plc   \n4  METAD Agricultural Development plc   \n\n                               Certification Address  \\\n0  BAWA Center, 3rd Floor (Gerji), Addis Ababa, E...   \n1  BAWA Center, 3rd Floor (Gerji), Addis Ababa, E...   \n2        117 W 4th St, Suite 300 Santa Ana, CA 92701   \n3  BAWA Center, 3rd Floor (Gerji), Addis Ababa, E...   \n4  BAWA Center, 3rd Floor (Gerji), Addis Ababa, E...   \n\n                               Certification Contact  Unnamed: 51 Notes  \n0  Aman Adinew (Emebet Dinku) - +251-116-292534, ...          NaN   NaN  \n1  Aman Adinew (Emebet Dinku) - +251-116-292534, ...          NaN   NaN  \n2                        Chris Buck - (562) 624-4100          NaN   NaN  \n3  Aman Adinew (Emebet Dinku) - +251-116-292534, ...          NaN   NaN  \n4  Aman Adinew (Emebet Dinku) - +251-116-292534, ...          NaN   NaN  \n\n[5 rows x 53 columns]",
      "text/html": "<div>\n<style scoped>\n    .dataframe tbody tr th:only-of-type {\n        vertical-align: middle;\n    }\n\n    .dataframe tbody tr th {\n        vertical-align: top;\n    }\n\n    .dataframe thead th {\n        text-align: right;\n    }\n</style>\n<table border=\"1\" class=\"dataframe\">\n  <thead>\n    <tr style=\"text-align: right;\">\n      <th></th>\n      <th>Unnamed: 0</th>\n      <th>quality_score</th>\n      <th>view_certificate_1</th>\n      <th>view_certificate_2</th>\n      <th>Cupping Protocol and Descriptors</th>\n      <th>View Green Analysis Details</th>\n      <th>Request a Sample</th>\n      <th>Species</th>\n      <th>Owner</th>\n      <th>Country of Origin</th>\n      <th>...</th>\n      <th>Quakers</th>\n      <th>Color</th>\n      <th>Category Two Defects</th>\n      <th>NA.3</th>\n      <th>Expiration</th>\n      <th>Certification Body</th>\n      <th>Certification Address</th>\n      <th>Certification Contact</th>\n      <th>Unnamed: 51</th>\n      <th>Notes</th>\n    </tr>\n  </thead>\n  <tbody>\n    <tr>\n      <td>0</td>\n      <td>0</td>\n      <td>90.58</td>\n      <td>NaN</td>\n      <td>NaN</td>\n      <td>NaN</td>\n      <td>NaN</td>\n      <td>NaN</td>\n      <td>Arabica</td>\n      <td>metad plc</td>\n      <td>Ethiopia</td>\n      <td>...</td>\n      <td>0.0</td>\n      <td>Green</td>\n      <td>0 full defects</td>\n      <td>NaN</td>\n      <td>April 3rd, 2016</td>\n      <td>METAD Agricultural Development plc</td>\n      <td>BAWA Center, 3rd Floor (Gerji), Addis Ababa, E...</td>\n      <td>Aman Adinew (Emebet Dinku) - +251-116-292534, ...</td>\n      <td>NaN</td>\n      <td>NaN</td>\n    </tr>\n    <tr>\n      <td>1</td>\n      <td>1</td>\n      <td>89.92</td>\n      <td>NaN</td>\n      <td>NaN</td>\n      <td>NaN</td>\n      <td>NaN</td>\n      <td>NaN</td>\n      <td>Arabica</td>\n      <td>metad plc</td>\n      <td>Ethiopia</td>\n      <td>...</td>\n      <td>0.0</td>\n      <td>Green</td>\n      <td>1 full defects</td>\n      <td>NaN</td>\n      <td>April 3rd, 2016</td>\n      <td>METAD Agricultural Development plc</td>\n      <td>BAWA Center, 3rd Floor (Gerji), Addis Ababa, E...</td>\n      <td>Aman Adinew (Emebet Dinku) - +251-116-292534, ...</td>\n      <td>NaN</td>\n      <td>NaN</td>\n    </tr>\n    <tr>\n      <td>2</td>\n      <td>2</td>\n      <td>89.75</td>\n      <td>NaN</td>\n      <td>NaN</td>\n      <td>NaN</td>\n      <td>NaN</td>\n      <td>NaN</td>\n      <td>Arabica</td>\n      <td>Grounds for Health Admin</td>\n      <td>Guatemala</td>\n      <td>...</td>\n      <td>0.0</td>\n      <td>NaN</td>\n      <td>0 full defects</td>\n      <td>NaN</td>\n      <td>May 31st, 2011</td>\n      <td>Specialty Coffee Association</td>\n      <td>117 W 4th St, Suite 300 Santa Ana, CA 92701</td>\n      <td>Chris Buck - (562) 624-4100</td>\n      <td>NaN</td>\n      <td>NaN</td>\n    </tr>\n    <tr>\n      <td>3</td>\n      <td>3</td>\n      <td>89.00</td>\n      <td>NaN</td>\n      <td>NaN</td>\n      <td>NaN</td>\n      <td>NaN</td>\n      <td>NaN</td>\n      <td>Arabica</td>\n      <td>Yidnekachew Dabessa</td>\n      <td>Ethiopia</td>\n      <td>...</td>\n      <td>0.0</td>\n      <td>Green</td>\n      <td>2 full defects</td>\n      <td>NaN</td>\n      <td>March 25th, 2016</td>\n      <td>METAD Agricultural Development plc</td>\n      <td>BAWA Center, 3rd Floor (Gerji), Addis Ababa, E...</td>\n      <td>Aman Adinew (Emebet Dinku) - +251-116-292534, ...</td>\n      <td>NaN</td>\n      <td>NaN</td>\n    </tr>\n    <tr>\n      <td>4</td>\n      <td>4</td>\n      <td>88.83</td>\n      <td>NaN</td>\n      <td>NaN</td>\n      <td>NaN</td>\n      <td>NaN</td>\n      <td>NaN</td>\n      <td>Arabica</td>\n      <td>metad plc</td>\n      <td>Ethiopia</td>\n      <td>...</td>\n      <td>0.0</td>\n      <td>Green</td>\n      <td>2 full defects</td>\n      <td>NaN</td>\n      <td>April 3rd, 2016</td>\n      <td>METAD Agricultural Development plc</td>\n      <td>BAWA Center, 3rd Floor (Gerji), Addis Ababa, E...</td>\n      <td>Aman Adinew (Emebet Dinku) - +251-116-292534, ...</td>\n      <td>NaN</td>\n      <td>NaN</td>\n    </tr>\n  </tbody>\n</table>\n<p>5 rows × 53 columns</p>\n</div>"
     },
     "metadata": {},
     "execution_count": 2
    }
   ],
   "source": [
    "# Read CSV into pandas dataframe.\n",
    "df = pd.read_csv('arabica_ratings_raw.csv')\n",
    "df.head()"
   ]
  },
  {
   "cell_type": "code",
   "execution_count": 5,
   "metadata": {},
   "outputs": [
    {
     "output_type": "execute_result",
     "data": {
      "text/plain": "Index(['quality_score', 'Species', 'Owner', 'Country of Origin', 'Farm Name',\n       'Lot Number', 'Mill', 'ICO Number', 'Company', 'Altitude', 'Region',\n       'Producer', 'Number of Bags', 'Bag Weight', 'In-Country Partner',\n       'Harvest Year', 'Grading Date', 'Variety', 'Status',\n       'Processing Method', 'Aroma', 'Flavor', 'Aftertaste', 'Acidity', 'Body',\n       'Balance', 'Uniformity', 'Clean Cup', 'Sweetness', 'Cupper Points',\n       'Total Cup Points', 'Moisture', 'Category One Defects', 'Quakers',\n       'Color', 'Category Two Defects', 'Expiration', 'Certification Body',\n       'Certification Address', 'Certification Contact'],\n      dtype='object')"
     },
     "metadata": {},
     "execution_count": 5
    }
   ],
   "source": [
    "## Drop columns, view_certificate_1, view_certificate_2, Cupping Protocol and Descriptors, View Green Analysis Details, Request a Sample. No data\n",
    "\n",
    "df1 = df.drop(columns =['Unnamed: 0','Owner.1','NA','Unnamed: 51','Notes','view_certificate_1','view_certificate_2','Cupping Protocol and Descriptors','View Green Analysis Details','Request a Sample','NA.1','NA.2','NA.3'])\n",
    "df1.columns"
   ]
  },
  {
   "cell_type": "code",
   "execution_count": 6,
   "metadata": {},
   "outputs": [],
   "source": [
    "## Scan for N/A and convert to blank\n",
    "## Count number of blanks per column \n",
    "df1=df1.replace('n/a',\"\",regex=True)\n",
    "df1=df1.replace(np.nan,\"\",regex=True)\n"
   ]
  },
  {
   "cell_type": "code",
   "execution_count": 7,
   "metadata": {},
   "outputs": [],
   "source": [
    "df1.index.name = 'ID'\n"
   ]
  },
  {
   "cell_type": "code",
   "execution_count": 8,
   "metadata": {},
   "outputs": [
    {
     "output_type": "execute_result",
     "data": {
      "text/plain": "quality_score              int32\nSpecies                   object\nOwner                     object\nCountry of Origin         object\nFarm Name                 object\nLot Number                object\nMill                      object\nICO Number                object\nCompany                   object\nAltitude                  object\nRegion                    object\nProducer                  object\nNumber of Bags             int64\nBag Weight                object\nIn-Country Partner        object\nHarvest Year              object\nGrading Date              object\nVariety                   object\nStatus                    object\nProcessing Method         object\nAroma                    float64\nFlavor                   float64\nAftertaste               float64\nAcidity                  float64\nBody                     float64\nBalance                  float64\nUniformity               float64\nClean Cup                float64\nSweetness                float64\nCupper Points            float64\nTotal Cup Points          object\nMoisture                  object\nCategory One Defects      object\nQuakers                   object\nColor                     object\nCategory Two Defects      object\nExpiration                object\nCertification Body        object\nCertification Address     object\nCertification Contact     object\ndtype: object"
     },
     "metadata": {},
     "execution_count": 8
    }
   ],
   "source": [
    "## quality score convert to int\n",
    "df1.astype({'quality_score':'int32'}).dtypes"
   ]
  },
  {
   "cell_type": "code",
   "execution_count": 9,
   "metadata": {},
   "outputs": [],
   "source": [
    "df2 = df1.copy()\n",
    "df3 = df1.copy()"
   ]
  },
  {
   "cell_type": "code",
   "execution_count": 10,
   "metadata": {},
   "outputs": [],
   "source": [
    "## remove lbs/kgs before counter\n",
    "counter = -1\n",
    "        \n",
    "for row in df3['Bag Weight']:\n",
    "   counter += 1\n",
    "   if \"kg\" in row and \"lbs\" in row:\n",
    "        df3.iloc[counter, 13] = \"\""
   ]
  },
  {
   "cell_type": "code",
   "execution_count": 11,
   "metadata": {},
   "outputs": [],
   "source": [
    "## list keeping track of cells with lbs for conversion later\n",
    "counter = 0\n",
    "idx_lst = []\n",
    "for idx, row in enumerate(df3['Bag Weight']):\n",
    "    if \"lbs\" in row:\n",
    "        counter += 1\n",
    "\n",
    "        idx_lst.append(idx)"
   ]
  },
  {
   "cell_type": "code",
   "execution_count": 12,
   "metadata": {},
   "outputs": [],
   "source": [
    "counter = -1\n",
    "        \n",
    "for row in df2['Bag Weight']:\n",
    "   counter += 1\n",
    "   if \"kg\" in row and \"lbs\" in row: \n",
    "        df2.iloc[counter, 13] = 0"
   ]
  },
  {
   "cell_type": "code",
   "execution_count": 13,
   "metadata": {
    "tags": [
     "outputPrepend"
    ]
   },
   "outputs": [],
   "source": [
    "## Bag Weight convert to all kg. Drop all letters and make int\n",
    "# if the cell has lbs and kg make the cell empty\n",
    "\n",
    "counter = -1\n",
    "        \n",
    "for row in df2['Bag Weight']:\n",
    "   counter += 1\n",
    "   if row ==0:\n",
    "       continue\n",
    "   if \"kg\" in row:\n",
    "        fixed = re.sub(r'[a-z]+','',row,re.I) \n",
    "        df2.iloc[counter, 13] = fixed\n",
    "   if \"lbs\" in row:\n",
    "        fixed= re.sub(r'[a-z]+','',row,re.I)\n",
    "        df2.iloc[counter, 13] = fixed\n"
   ]
  },
  {
   "cell_type": "code",
   "execution_count": 14,
   "metadata": {},
   "outputs": [],
   "source": [
    "#type conversion\n",
    "\n",
    "df2['Bag Weight'] = df2['Bag Weight'].astype(int)"
   ]
  },
  {
   "cell_type": "code",
   "execution_count": 15,
   "metadata": {},
   "outputs": [],
   "source": [
    "## convert lbs to kg\n",
    "for i in idx_lst:\n",
    "   df2.iloc[i,13]=df2.iloc[i,13]*.453592\n",
    "\n"
   ]
  },
  {
   "cell_type": "code",
   "execution_count": null,
   "metadata": {},
   "outputs": [],
   "source": [
    "df2.dtypes"
   ]
  },
  {
   "cell_type": "markdown",
   "metadata": {},
   "source": [
    "## Altitude String Observations\n",
    "\n",
    "### Observed\n",
    "1. Since this data collects from bilingual participants, abbreviations differ. \n",
    "    - MSNM: Spanish — meters above sea level\n",
    "    - MASL: English — meters above sea level\n",
    "    - F: English — feet\n",
    "    - 公尺: Chinese — meter\n",
    "2. There is the appearance of ranges (i.e. 640m-1400m).\n",
    "    - This is difficult because it requires making a decision about the data. Maybe we set the data for ranges in separate columns.\n",
    "    \n",
    "### Conclusions\n",
    "The majority of the data is in meters, so it will be our goal to convert all values to meters, therefore:\n",
    "1. First, cleaned of any debris (non-values).\n",
    "2. Second, the data must be sorted to find values that are not meters and convert them.\n",
    "3. Third, the data must be split by lower and upper ranges.\n",
    "\n",
    "### Results\n",
    "After printing using a for loop and if statements, it was discovered:\n",
    "<br>\n",
    " - 'm' is present 360 times. <br>\n",
    " - 'f' is present 26 times. <br>\n",
    " - Otherwise, a number is present 700 times. <br>\n",
    " - Garbage present 226 times. <br> <br>\n",
    "\n",
    "Total count: 1312 <br>\n",
    "Expected count: 1312"
   ]
  },
  {
   "cell_type": "code",
   "execution_count": 16,
   "metadata": {},
   "outputs": [],
   "source": [
    "# Get length of index for reference\n",
    "len_index = len(df2.index)"
   ]
  },
  {
   "cell_type": "markdown",
   "metadata": {},
   "source": [
    "## Cleaning Altitude Code\n",
    "The following code iterates over each element in 'Altitude' and checks it against some rules. Does it contain 'm' for meter, 'f' for foot, neither? Once checked, it appends a corrected string into a corresponding new column for replacement."
   ]
  },
  {
   "cell_type": "code",
   "execution_count": 17,
   "metadata": {
    "scrolled": true,
    "tags": [
     "outputPrepend"
    ]
   },
   "outputs": [
    {
     "output_type": "stream",
     "name": "stdout",
     "text": "g on [1500]\n                -------------------------\n                \n\n                    Digit result: 1500 meters\n                    Non-digit result: \n                    \n\n                ---(String Conversion 3)---\n                Working on [1100]\n                -------------------------\n                \n\n                    Digit result: 1100 meters\n                    Non-digit result: \n                    \n\n                ---(String Conversion 3)---\n                Working on [1200]\n                -------------------------\n                \n\n                    Digit result: 1200 meters\n                    Non-digit result: \n                    \n\n                ---(String Conversion 3)---\n                Working on [4000]\n                -------------------------\n                \n\n                    Digit result: 4000 feet\n                    Non-digit result: \n                    \n\n                ---(String Conversion 3)---\n                Working on [1350]\n                -------------------------\n                \n\n                    Digit result: 1350 meters\n                    Non-digit result: \n                    \n\n                ---(String Conversion 3)---\n                Working on [1400]\n                -------------------------\n                \n\n                    Digit result: 1400 meters\n                    Non-digit result: \n                    \n\n                ---(String Conversion 3)---\n                Working on [1300]\n                -------------------------\n                \n\n                    Digit result: 1300 meters\n                    Non-digit result: \n                    \n\n                ---(String Conversion 3)---\n                Working on [1550]\n                -------------------------\n                \n\n                    Digit result: 1550 meters\n                    Non-digit result: \n                    \n\n                ---(String Conversion 3)---\n                Working on [12OO]\n                -------------------------\n                \n\n                    Digit result: 12 meters\n                    Non-digit result: OO\n                    \n\n                ---(String Conversion 3)---\n                Working on [1300]\n                -------------------------\n                \n\n                    Digit result: 1300 meters\n                    Non-digit result: \n                    \n\n                ---(String Conversion 3)---\n                Working on [1400]\n                -------------------------\n                \n\n                    Digit result: 1400 meters\n                    Non-digit result: \n                    \n\n                ---(String Conversion 3)---\n                Working on [1100]\n                -------------------------\n                \n\n                    Digit result: 1100 meters\n                    Non-digit result: \n                    \n\n                ---(String Conversion 3)---\n                Working on [4300]\n                -------------------------\n                \n\n                    Digit result: 4300 feet\n                    Non-digit result: \n                    \n\n                ---(String Conversion 3)---\n                Working on [1320]\n                -------------------------\n                \n\n                    Digit result: 1320 meters\n                    Non-digit result: \n                    \n\n                ---(String Conversion 3)---\n                Working on [1250]\n                -------------------------\n                \n\n                    Digit result: 1250 meters\n                    Non-digit result: \n                    \n\n                ---(String Conversion 3)---\n                Working on [1350]\n                -------------------------\n                \n\n                    Digit result: 1350 meters\n                    Non-digit result: \n                    \n\n                ---(String Conversion 3)---\n                Working on [1850]\n                -------------------------\n                \n\n                    Digit result: 1850 meters\n                    Non-digit result: \n                    \n\n                ---(String Conversion 3)---\n                Working on [1150]\n                -------------------------\n                \n\n                    Digit result: 1150 meters\n                    Non-digit result: \n                    \n\n        ---(String Conversion 1)---\n        Working on [4000 PSNM]\n        -------------------------\n        \n\n        Digit result: 4000 meters\n        Non-digit result:  PSNM\n        \n\n        ---(String Conversion 1)---\n        Working on [800M]\n        -------------------------\n        \n\n        Digit result: 800 meters\n        Non-digit result: M\n        \n\n                ---(String Conversion 3)---\n                Working on [1400]\n                -------------------------\n                \n\n                    Digit result: 1400 meters\n                    Non-digit result: \n                    \n\n                ---(String Conversion 3)---\n                Working on [1300]\n                -------------------------\n                \n\n                    Digit result: 1300 meters\n                    Non-digit result: \n                    \n\n        ---(String Conversion 1)---\n        Working on [1,600 meters]\n        -------------------------\n        \n\n        Digit result: 1600 meters\n        Non-digit result: , meters\n        \n\n                ---(String Conversion 3)---\n                Working on [1400]\n                -------------------------\n                \n\n                    Digit result: 1400 meters\n                    Non-digit result: \n                    \n\n                ---(String Conversion 3)---\n                Working on [1200]\n                -------------------------\n                \n\n                    Digit result: 1200 meters\n                    Non-digit result: \n                    \n\n                ---(String Conversion 3)---\n                Working on [1500]\n                -------------------------\n                \n\n                    Digit result: 1500 meters\n                    Non-digit result: \n                    \n\n        ---(String Conversion 1)---\n        Working on [4000 P.S.N.M]\n        -------------------------\n        \n\n        Digit result: 4000 meters\n        Non-digit result:  P.S.N.M\n        \n\n                ---(String Conversion 3)---\n                Working on [4300]\n                -------------------------\n                \n\n                    Digit result: 4300 feet\n                    Non-digit result: \n                    \n\n                ---(String Conversion 3)---\n                Working on [1300]\n                -------------------------\n                \n\n                    Digit result: 1300 meters\n                    Non-digit result: \n                    \n\n                ---(String Conversion 3)---\n                Working on [1300]\n                -------------------------\n                \n\n                    Digit result: 1300 meters\n                    Non-digit result: \n                    \n\n                ---(String Conversion 3)---\n                Working on [1050]\n                -------------------------\n                \n\n                    Digit result: 1050 meters\n                    Non-digit result: \n                    \n\n                ---(String Conversion 3)---\n                Working on [650]\n                -------------------------\n                \n\n                    Digit result: 650 meters\n                    Non-digit result: \n                    \n\n                ---(String Conversion 3)---\n                Working on [1350]\n                -------------------------\n                \n\n                    Digit result: 1350 meters\n                    Non-digit result: \n                    \n\n        ---(String Conversion 1)---\n        Working on [4000 P.S.N.M]\n        -------------------------\n        \n\n        Digit result: 4000 meters\n        Non-digit result:  P.S.N.M\n        \n\n        ---(String Conversion 1)---\n        Working on [1200 meters]\n        -------------------------\n        \n\n        Digit result: 1200 meters\n        Non-digit result:  meters\n        \n\n                ---(String Conversion 3)---\n                Working on [4300]\n                -------------------------\n                \n\n                    Digit result: 4300 feet\n                    Non-digit result: \n                    \n\n                ---(String Conversion 3)---\n                Working on [850]\n                -------------------------\n                \n\n                    Digit result: 850 meters\n                    Non-digit result: \n                    \n\n        ---(String Conversion 1)---\n        Working on [1200 msm]\n        -------------------------\n        \n\n        Digit result: 1200 meters\n        Non-digit result:  msm\n        \n\n                ---(String Conversion 3)---\n                Working on [1248]\n                -------------------------\n                \n\n                    Digit result: 1248 meters\n                    Non-digit result: \n                    \n\n                ---(String Conversion 3)---\n                Working on [1000]\n                -------------------------\n                \n\n                    Digit result: 1000 meters\n                    Non-digit result: \n                    \n\n                ---(String Conversion 3)---\n                Working on [4300]\n                -------------------------\n                \n\n                    Digit result: 4300 feet\n                    Non-digit result: \n                    \n\n        ---(String Conversion 1)---\n        Working on [750-800 M]\n        -------------------------\n        \n\n        Digit result: 750-800 meters\n        Non-digit result:  M\n        \n\n                ---(String Conversion 3)---\n                Working on [1300]\n                -------------------------\n                \n\n                    Digit result: 1300 meters\n                    Non-digit result: \n                    \n\n                ---(String Conversion 3)---\n                Working on [4300]\n                -------------------------\n                \n\n                    Digit result: 4300 feet\n                    Non-digit result: \n                    \n\n                ---(String Conversion 3)---\n                Working on [890]\n                -------------------------\n                \n\n                    Digit result: 890 meters\n                    Non-digit result: \n                    \n\n        ---(String Conversion 1)---\n        Working on [4000 P.S.N.M.]\n        -------------------------\n        \n\n        Digit result: 4000 meters\n        Non-digit result:  P.S.N.M.\n        \n\n                ---(String Conversion 3)---\n                Working on [1500]\n                -------------------------\n                \n\n                    Digit result: 1500 meters\n                    Non-digit result: \n                    \n\n        ---(String Conversion 1)---\n        Working on [400-1250m]\n        -------------------------\n        \n\n        Digit result: 400-1250 meters\n        Non-digit result: m\n        \n\n                ---(String Conversion 3)---\n                Working on [1200]\n                -------------------------\n                \n\n                    Digit result: 1200 meters\n                    Non-digit result: \n                    \n\n        ---(String Conversion 1)---\n        Working on [900-1500 masl]\n        -------------------------\n        \n\n        Digit result: 900-1500 meters\n        Non-digit result:  masl\n        \n\n        ---(String Conversion 1)---\n        Working on [1200 m]\n        -------------------------\n        \n\n        Digit result: 1200 meters\n        Non-digit result:  m\n        \n\n                ---(String Conversion 3)---\n                Working on [1100]\n                -------------------------\n                \n\n                    Digit result: 1100 meters\n                    Non-digit result: \n                    \n\n                ---(String Conversion 3)---\n                Working on [4300]\n                -------------------------\n                \n\n                    Digit result: 4300 feet\n                    Non-digit result: \n                    \n\n                ---(String Conversion 3)---\n                Working on [1400]\n                -------------------------\n                \n\n                    Digit result: 1400 meters\n                    Non-digit result: \n                    \n\n                ---(String Conversion 3)---\n                Working on [3500]\n                -------------------------\n                \n\n                    Digit result: 3500 feet\n                    Non-digit result: \n                    \n\n                ---(String Conversion 3)---\n                Working on [1250]\n                -------------------------\n                \n\n                    Digit result: 1250 meters\n                    Non-digit result: \n                    \n\n                ---(String Conversion 3)---\n                Working on [1350]\n                -------------------------\n                \n\n                    Digit result: 1350 meters\n                    Non-digit result: \n                    \n\n        ---(String Conversion 1)---\n        Working on [1000+ meters]\n        -------------------------\n        \n\n        Digit result: 1000 meters\n        Non-digit result: + meters\n        \n\n                ---(String Conversion 3)---\n                Working on [4300]\n                -------------------------\n                \n\n                    Digit result: 4300 feet\n                    Non-digit result: \n                    \n\n                ---(String Conversion 3)---\n                Working on [1100]\n                -------------------------\n                \n\n                    Digit result: 1100 meters\n                    Non-digit result: \n                    \n\n                ---(String Conversion 3)---\n                Working on [1200]\n                -------------------------\n                \n\n                    Digit result: 1200 meters\n                    Non-digit result: \n                    \n\n                ---(String Conversion 3)---\n                Working on [1100]\n                -------------------------\n                \n\n                    Digit result: 1100 meters\n                    Non-digit result: \n                    \n\n                ---(String Conversion 3)---\n                Working on [1280]\n                -------------------------\n                \n\n                    Digit result: 1280 meters\n                    Non-digit result: \n                    \n\n                ---(String Conversion 3)---\n                Working on [850]\n                -------------------------\n                \n\n                    Digit result: 850 meters\n                    Non-digit result: \n                    \n\n                ---(String Conversion 3)---\n                Working on [1500]\n                -------------------------\n                \n\n                    Digit result: 1500 meters\n                    Non-digit result: \n                    \n\n                ---(String Conversion 3)---\n                Working on [1250]\n                -------------------------\n                \n\n                    Digit result: 1250 meters\n                    Non-digit result: \n                    \n\n                ---(String Conversion 3)---\n                Working on [1700]\n                -------------------------\n                \n\n                    Digit result: 1700 meters\n                    Non-digit result: \n                    \n\n                ---(String Conversion 3)---\n                Working on [4300]\n                -------------------------\n                \n\n                    Digit result: 4300 feet\n                    Non-digit result: \n                    \n\n                ---(String Conversion 3)---\n                Working on [1140]\n                -------------------------\n                \n\n                    Digit result: 1140 meters\n                    Non-digit result: \n                    \n\n                ---(String Conversion 3)---\n                Working on [1200]\n                -------------------------\n                \n\n                    Digit result: 1200 meters\n                    Non-digit result: \n                    \n\n                ---(String Conversion 3)---\n                Working on [1250]\n                -------------------------\n                \n\n                    Digit result: 1250 meters\n                    Non-digit result: \n                    \n\n                ---(String Conversion 3)---\n                Working on [1350]\n                -------------------------\n                \n\n                    Digit result: 1350 meters\n                    Non-digit result: \n                    \n\n        ---(String Conversion 1)---\n        Working on [1,200 meters]\n        -------------------------\n        \n\n        Digit result: 1200 meters\n        Non-digit result: , meters\n        \n\n        ---(String Conversion 1)---\n        Working on [640m-1400m]\n        -------------------------\n        \n\n        Digit result: 640-1400 meters\n        Non-digit result: mm\n        \n\n        ---(String Conversion 1)---\n        Working on [1200 msm]\n        -------------------------\n        \n\n        Digit result: 1200 meters\n        Non-digit result:  msm\n        \n\n                ---(String Conversion 3)---\n                Working on [800]\n                -------------------------\n                \n\n                    Digit result: 800 meters\n                    Non-digit result: \n                    \n\n                ---(String Conversion 3)---\n                Working on [1800]\n                -------------------------\n                \n\n                    Digit result: 1800 meters\n                    Non-digit result: \n                    \n\n        ---(String Conversion 1)---\n        Working on [1,000 meters]\n        -------------------------\n        \n\n        Digit result: 1000 meters\n        Non-digit result: , meters\n        \n\n        ---(String Conversion 1)---\n        Working on [1450 msnm]\n        -------------------------\n        \n\n        Digit result: 1450 meters\n        Non-digit result:  msnm\n        \n\n        ---(String Conversion 1)---\n        Working on [1450 msnm]\n        -------------------------\n        \n\n        Digit result: 1450 meters\n        Non-digit result:  msnm\n        \n\n        ---(String Conversion 1)---\n        Working on [1450 msnm]\n        -------------------------\n        \n\n        Digit result: 1450 meters\n        Non-digit result:  msnm\n        \n\n                ---(String Conversion 3)---\n                Working on [900]\n                -------------------------\n                \n\n                    Digit result: 900 meters\n                    Non-digit result: \n                    \n\n        ---(String Conversion 1)---\n        Working on [~350m]\n        -------------------------\n        \n\n        Digit result: 350 meters\n        Non-digit result: ~m\n        \n\n                ---(String Conversion 3)---\n                Working on [1100]\n                -------------------------\n                \n\n                    Digit result: 1100 meters\n                    Non-digit result: \n                    \n\n                ---(String Conversion 3)---\n                Working on [4650]\n                -------------------------\n                \n\n                    Digit result: 4650 feet\n                    Non-digit result: \n                    \n\n                ---(String Conversion 3)---\n                Working on [1400]\n                -------------------------\n                \n\n                    Digit result: 1400 meters\n                    Non-digit result: \n                    \n----- SUCCESS -----\n\nMeters is present 361 times.\nFeet is present 26 times.\nOtherwise, number is present 700 times.\nGarbage present 225 times.\n---\nProcess count: 1312\nCanon count (canon_col): 1312\nExpected count: 1312\n\n"
    }
   ],
   "source": [
    "##Fix altitude data\n",
    "\n",
    "# Function for checking string for number\n",
    "def hasNumbers(inputString):\n",
    "    return any(char.isdigit() for char in inputString)\n",
    "\n",
    "# Assign alt column to variable (as series)\n",
    "alt = df2['Altitude']\n",
    "count_y = 0\n",
    "count_y_num = 0\n",
    "count_y_f = 0\n",
    "count_garb = 0\n",
    "\n",
    "str_meter = []\n",
    "str_feet = []\n",
    "str_garb = []\n",
    "str_num = []\n",
    "\n",
    "# New column for appending\n",
    "canon_col = []\n",
    "\n",
    "for idx, elt in enumerate(alt):\n",
    "    # if element contains m (suggesting meters)\n",
    "    if 'm' in elt.lower() or '公尺' in elt.lower():\n",
    "        count_y += 1\n",
    "        \n",
    "        ### --- Begin Canonincalizing --- ###\n",
    "        elt_new = \"\"\n",
    "        elt_garb = \"\"\n",
    "\n",
    "        # Print for user\n",
    "        print(f\"\"\"\n",
    "        ---(String Conversion 1)---\n",
    "        Working on [{elt}]\n",
    "        -------------------------\n",
    "        \"\"\")\n",
    "\n",
    "        # Itertate over each character in a string\n",
    "        for char in elt:\n",
    "\n",
    "            # If character is numeric, add to new string in elt\n",
    "            if char.isdigit() or \"-\" in char:\n",
    "                elt_new += char\n",
    "\n",
    "            # If not, add to garbage variable\n",
    "            else:\n",
    "                elt_garb += char\n",
    "\n",
    "        elt_new = elt_new + \" meters\"\n",
    "\n",
    "        print(f\"\"\"\n",
    "        Digit result: {elt_new}\n",
    "        Non-digit result: {elt_garb}\n",
    "        \"\"\")\n",
    "\n",
    "        # Append canon_col with new string\n",
    "        canon_col.append(elt_new)\n",
    "\n",
    "        ### --- End Canonicalizing --- ###\n",
    "        \n",
    "    # if not, it must be a different type\n",
    "    else:\n",
    "        \n",
    "        # if element has numbers, what kind?\n",
    "        if hasNumbers(elt):\n",
    "            \n",
    "            # are they feet?\n",
    "            if 'f' in elt.lower():\n",
    "                count_y_f += 1\n",
    "                str_feet.append(elt)\n",
    "                \n",
    "                ### --- Begin Canonincalizing --- ###\n",
    "                elt_new = \"\"\n",
    "                elt_garb = \"\"\n",
    "\n",
    "                # Print for user\n",
    "                print(f\"\"\"\n",
    "                ---(String Conversion 2)---\n",
    "                Working on [{elt}]\n",
    "                -------------------------\n",
    "                \"\"\")\n",
    "\n",
    "                # Itertate over each character in a string\n",
    "                for char in elt:\n",
    "\n",
    "                    # If character is numeric, add to new string in elt\n",
    "                    if char.isdigit() or \"-\" in char:\n",
    "                        elt_new += char\n",
    "\n",
    "                    # If not, add to garbage variable\n",
    "                    else:\n",
    "                        elt_garb += char\n",
    "                        \n",
    "                elt_new = elt_new + \" feet\"\n",
    "\n",
    "                print(f\"\"\"\n",
    "                Digit result: {elt_new}\n",
    "                Non-digit result: {elt_garb}\n",
    "                \"\"\")\n",
    "                \n",
    "                # Append canon_col with new string\n",
    "                canon_col.append(elt_new)\n",
    "                \n",
    "                ### --- End Canonicalizing --- ###\n",
    "                \n",
    "            # are they other?\n",
    "            if 'f' not in elt.lower():\n",
    "                count_y_num += 1\n",
    "                \n",
    "                ### --- Begin Canonincalizing --- ###\n",
    "                elt_new = \"\"\n",
    "                elt_garb = \"\"\n",
    "\n",
    "                # Print for user\n",
    "                print(f\"\"\"\n",
    "                ---(String Conversion 3)---\n",
    "                Working on [{elt}]\n",
    "                -------------------------\n",
    "                \"\"\")\n",
    "\n",
    "                # Itertate over each character in a string\n",
    "                for char in elt:\n",
    "\n",
    "                    # If character is numeric, add to new string in elt\n",
    "                    if char.isdigit() or \"-\" in char:\n",
    "                        elt_new += char\n",
    "\n",
    "                    # If not, add to garbage variable\n",
    "                    else:\n",
    "                        elt_garb += char\n",
    "               \n",
    "                # Try checking if value is metric\n",
    "                try:\n",
    "                    if int(elt_new) > 3000:\n",
    "                        elt_new = elt_new + \" feet\"\n",
    "                    else:\n",
    "                        elt_new = elt_new + \" meters\"\n",
    "                    print(f\"\"\"\n",
    "                    Digit result: {elt_new}\n",
    "                    Non-digit result: {elt_garb}\n",
    "                    \"\"\")\n",
    "                    \n",
    "                # On values that error, add 'range'\n",
    "                except:\n",
    "                    \n",
    "                    # Split this range into list with (2 elements)\n",
    "                    list = elt_new.split(\"-\", 1)\n",
    "                    # Is the larger number meters?\n",
    "                    if int(list[1]) > 3000:\n",
    "                        elt_new = elt_new + \" feet\"\n",
    "                    else:\n",
    "                        elt_new = elt_new + \" meters\"\n",
    "\n",
    "                    print(f\"!!! — Converted range: [{elt_new}]\")\n",
    "\n",
    "                \n",
    "                # Append canon_col with new string\n",
    "                canon_col.append(elt_new)\n",
    "                \n",
    "                ### --- End Canonicalizing --- ###\n",
    "        else:\n",
    "            count_garb += 1\n",
    "            canon_col.append(elt)\n",
    "\n",
    "q_sum = count_y+count_y_f+count_y_num+count_garb\n",
    "\n",
    "if q_sum != len_index or len(canon_col) != len_index:\n",
    "    print(\"ERROR\")\n",
    "else:\n",
    "    print(\"----- SUCCESS -----\")\n",
    "            \n",
    "print(f\"\"\"\n",
    "Meters is present {count_y} times.\n",
    "Feet is present {count_y_f} times.\n",
    "Otherwise, number is present {count_y_num} times.\n",
    "Garbage present {count_garb} times.\n",
    "---\n",
    "Process count: {count_y+count_y_f+count_y_num+count_garb}\n",
    "Canon count (canon_col): {len(canon_col)}\n",
    "Expected count: {len_index}\n",
    "\"\"\")"
   ]
  },
  {
   "cell_type": "code",
   "execution_count": 18,
   "metadata": {
    "scrolled": true
   },
   "outputs": [],
   "source": [
    "# Split strings to new columns for units\n",
    "df2['New_Altitude'] = canon_col\n",
    "list_split = df2[\"New_Altitude\"].str.split(\" \", expand = True) \n",
    "df2['New_Altitude'] = list_split[0]\n",
    "df2['Altitude_Units'] = list_split[1]"
   ]
  },
  {
   "cell_type": "code",
   "execution_count": 19,
   "metadata": {},
   "outputs": [
    {
     "output_type": "stream",
     "name": "stdout",
     "text": "1950-2200\n1950-2200\n1600-1800\n1800-2200\n1950-2200\n\n\n1570-1700\n1570-1700\n1795-1850\n1855-1955\n1872\n1943\n2000\n1570-1700\n2080\n1200-1800\n\n1450\n1700-2000\n2019\n1300\n1320\n2112\n\n1250\n\n1950\n1400\n1200\n\n\n1300\n1300\n1750-1800\n1800\n\n\n\n1941\n1300\n12\n12\n1000\n1754\n1250\n\n900-1500\n1520-2200\n1400-1900\n1500-2000\n1400\n\n1400-1900\n1800\n1600\n1800-2000\n5000\n4650\n\n\n1700\n1500\n13001400\n\n1680\n1900\n1800-2000\n1600\n5600-5760\n1800-2000\n1950\n\n1250\n1400\n1700\n1770\n1300\n1300\n1600\n1200\n\n\n\n1550\n1550\n1250-1400\n1400\n\n2560\n1700\n\n2136\n\n\n\n1800\n\n1900\n1300\n-1\n1580\n1100\n1400\n\n3500-5200\n\n16001950\n800\n1620\n16001950\n1200\n1200\n1000\n\n350\n1400-1900\n\n1500-2000\n1500-2000\n\n1800\n1450\n1200\n800-1050\n1350\n1200\n170\n1150\n1600\n1750\n1900\n1750\n1200\n\n1000\n1550\n2000\n4300\n5000\n1200\n1700-1850\n\n1500-2000\n1754\n1500\n\n1800\n5000\n4000\n1550\n16001900\n\n1750\n14501700\n1800\n1300\n1100\n1200\n1750\n1680\n1700\n1800\n1100\n4300\n2000\n1350\n1500\n\n\nTEST\n1300\n1400\n\n16001950\n1200\n\n900\n\n1800\n1500\n\n1500\n\n442\n1800\n1700\n12001350\n900-1200\n3600-6200\n4400-4700\n1000\n1200\n2560\n1500\n3607\n1400\n16001950\n16001950\n1800\n442\n1620\n1600\n4000\n1700\n\n1450\n1170\n1400\n1700\n1700\n\n1700\n3664\n1565\n3280\n16001950\n9001100\n1150\n1850\n1545-1668\n1400\n1530\n\n1500\n894-1183\n4300\n1500\n1750\n\n1500-1700\n\n442\n968\n\n16001950\n1550\n\n1480\n1800\n\n1800\n1500\n5440-5760\n1600\n4000\n4000\n1480\n1450\n16001950\n1550\n1260\n1700\n1200\n-\n1650\n1700\n\n890\n1300\n1350\n934\n1200\n442\n\nnone\n\n\n16001950\n950\n1550\n900\n1500\n1400\n2527\n\n1850\n1500\n1200\n1\n480-570\n1650-1703\n1200\n1200-1400\n4000\n1260\n800\n1750\n4300\n1218\n1300\n1250\n4921\n\n\n1800\n890\n442\n750\n\n1650\n442\n1400\n2800\n16001950\n1500-1600\n1750\n1750\n\n700\n1300\n1600\n1600\n\n890\n1700\n1400\n1250\n934\n1200\n1350\n800\n1550-1700\n4451\n1750\n1800-2000\n4300\n4300\n1750\n1450\n4300\n1100\n1200-1600\n5000\n\n890\n3702\n\n1100\n16001950\n1200\n1700-2000\n1800\n1600\n1550\n1550\n1000\n16001950\n1000\n2136\n1100\n1799\n\n1850\n1000\n4000\n16001950\n1400\n1500\n1600\n\n1850\n1400\n1650\n1350\n1750\n1750\n1170\n940\n1400\n5000\n16001950\n4600\n\n1600\n439\n1700\n442\n1850\n\n1800\n1200\n1330\n442\n\n1600\n1813\n4000\n1500\n4300\n\n1450\n\n\n\n900-1200\n1650\n\n\n1227\n1200\n1650\n1700\n1100\n1300\n\n1100-1300\n\n4200\n1000\n4300\n\n1880\n1750\n\n\n1600\n1900\n\n2100\n\n\n442\n1261\n1000\n800\n1483\n1500\n1750\n1300\n\n\n1000\n4300\n1200\n175\n16001950\n1600-1800\n1880\n1800\n890\n1901\n168\n\n1550\n1500\n1450\n1200\n1600\n1350\n1500\n1400-1900\n1500\n800\n1653\n16001950\n1800\nunkown\n1450\n1350\n5000\n\n1800\n4300\n1500\n532\n1089\n16001950\n700\n1750\n1380\n1000\n950\n4600\n1000\n900\n1200\n1850\n1799\n\n905\n1\n700-800\n\n1200\n1200-1400\n\n1300\n\n1400\n\n\n16001950\n1880\n1300-1400\n\n890\n894\n872\n1473\n1645\n442\n1550\n13001800\n4500\n1500\n900-1100\n1200\n1800\n2800\n1500\n1100-1300\n1250\n1600-1950\n1750\n1000\n1000\n16001950\n750\n1200\n1200\n\n1500-1750\n1750\n4500\n1600-1950\n\n1050-1850\n\n\n1800\n\n\n890\n1350\n1500\n350\n2000\n775\n1200\n1600\n1059\n1300\n11000\n1400-1900\n1400\n1500\n1500\n\n1800-2000\n1750\n5440-5760\n1450\n1248\n1040\n1400\n\n1050-1850\n\n1754\n1700\n905\n1250\n1900\n1040\n4000\n900\n1200-2000\n1200\n1500\n1800\n16001950\n1400\n1550\n1250\n4300\n1380\n1200\n1100\n1800\n1700\n4000\n4000\n1500\n518\n650\n1250\n1850\n1400\n905\n1100\n1500\n16001950\n1442\n5000\n165\n\n\n1300\n1550\n1200\n1200\n14001850\n16001950\n\n1100\n\n890\n934\n1300\n1200\n1300\n\n1\n\n1700\n1550\n1200\n1296\n1400-1900\n1240\n1500\n1800\n\n1500\n-\n1100\n950\n18005900\n\n1400\n1800\n\n4000\n1050\n\n200\n\n1200-1300\n800\n1400-1500\n1317\n1400-1900\n1200-1400\n\n\n1750\n1750\n1750\n1250\n1150\n16001950\n900-1050\n890\n1250\n1400\n4000\n800\n1400-1500\n1600\n\n1500-1700\n1260\n4300\n1750\n4300\n1679\n1100\n1650\n\n1250\n16001950\n\n1600\n1500\n1700\n1700\n518\n\n1600\n1600\n\n2285\n1\n1400\n1296\n1000\nHuanuco\n1260\n1170\n\n16001950\n1560\n1400\n1300\n1170\n1300\n1350\n1150\n1250\n1450\n442\n\n1750\n1750\n1396\n982\n\n934\n1850\n1550\n1580\n1268\n\n5500\n1450\n1100\n5000\n\n1300\n200\n600\n4300\n1750\n1300\n\n5500-6000\n441\n1170\n4300\n1100\n12001400\n950\n442\n1100\n\n1450\n1\n1500\n1350\n1180\n1100\n650\n1338\n\n533\n4563\n1170\n1250\n\n1100\n900\n1750\n16001950\n\n\n934\n1500\n1000\n1500-1800\n1600\n1\n800\n1350\n1500\n\n1700\n1100\n1200-1600\n1200\n800\n1750\n1144\n1350\n1000\n1200\n1800\n1300\n\n894\n1\n1200-1400\n1500\n1500-1700\n\n13\n\n1300\n1800\n1250\n1040\n1250\n\n1600\n1600\n1600\n944\n1500-1800\n1250\n1300-1400\n2500\n600\n800\n1200-1400\n1400\n1800-2000\n600-700\n894-1183\n940\n1000\n1050\n\n950\n4600\n16001950\n1901\n4000\n1400\n1020\n1250\n13001800\n1877\n\n1000-1500\n\n1000\n1300\n981\n690\n1650\n1000\n1100\n1600\n518\n1900\n973\n1250\n3280\n1\n1\n4001\n1350-1500\n1400\n1200-1400\n700\n1300\n1556\n1100\n1350\n1550\n16001950\n\n1250\n4300\n1500\n1250\n900-950\n1600-1800\n\n1700\n1040\n1500-1700\n\n774\n1250\n1100\n1550\n1650\n1750\n16001950\n890\n1700\n4000\n1450\n1800\n\n\n1\n1200-1800\n1700\n1260\n\n1400\n1850\n\n150\n750\n1400\n5500-6000\n1650\n1400\n1200\n1400\n940\n\n1200\n190164\n800\n13\n1800\n1100\n850\n1260\n4300\n1400\n1600\n1650\n4921\n\n4500-6000\n4000\n1100\n1400\n\n160-200\n4000\n1200\n1599\n4000\n900\n1200\n400-1250\n600\n1150\n1600\n1100\n1000\n1250\n1100\n1200-1600\n125\n\n1050-1850\n\n1100\n4500\n1100\n1400\n110\n1422\n1100\n1550\n1550\n\n4300\n763\n1100\n1750\n1880\n\n\n1500\n1130\n1100\n1350\n1200\n1400\n1200\n1450\n1800\n1000\n1100\n680\n1\n1100\n1400\n1700\n1700\n650\n5000\n1500\n1200\n1002000\n1200\n1200-1400\n1450\n1400-1500\n1200\n1550\n990-1000\n1200-1400\n\n1800\n1450\n1000\n\n0\n695\n1100\n5600\n1456\n1500\n2800\n1650\n1300\n1642\n1200\n\n\n1450\n\n3280\n1600\n4000\n758\n1350\n\n1525\n1700\n1100\n800\n950\n1100\n200\n1901\n1600\n1100\n3500\n\n1700\n1200\n550\n1100\n7001400\n5000\n900\n688\n300\n1186\n\n1300\n1200\n1210\n1100\n100\n\n1800\n\n3825\n5440-5760\n110000\n1450\n1680\n1350\n1450\n1300\n1200\n1000\n\n\n1200-1500\n1500\n185\n990-1000\n1200\n1550\n1550\n\n\n\n\n\n1400\n1200\n1400\n4540\n\n\n50\n1500\n1650\n280\n1250\n3800\n4000\n1250\n\n6100\n1450\n1450\n600\n1450\n1700\n600\n1050\n1550\n1700\n1700\n\n600\n4300\n940\n\n\n995\n1400\n1600\n3000\n4287\n900\n\n\n700\n1400\n808\n1550\n1100-1275\n1400\n4300\n1250\n1550\n1000\n4300\n\n1100\n850\n\n200\n150\n250\n1300\n1300\n1250\n3845\n13001500\n250\n800\n1250\n1100\n\n\n\n1300\n1100\n1100\n1100\n1250\n1250\n\n1500\n1700\n1250\n1300\n\n190164\n800-1200\n500-700\n800\n\n1100\n1400\n1022\n1300\n1450\n1050\n\n1100\n4000\n1250\n800\n4300\n1400\n975\n1264\n\n1250\n1550\n1800\n3500-5200\n1050\n700\n1550\n1550\n1100\n4000\n4000\n800\n200\n1200\n950\n750\n\n850\n1000\n4000\n1650\n1320\n13001800\n\n1550\n1450\n1200\n1700\n2800\n1500\n1100\n1200\n\n4000\n1350\n1400\n1300\n1550\n12\n1300\n1400\n1100\n\n4300\n1320\n1250\n1350\n1850\n1150\n\n\n4000\n800\n1400\n1300\n\n1600\n1400\n1200\n\n1500\n\n4000\n4300\n1300\n\n\n\n1300\n1050\n650\n1350\n\n4000\n1200\n4300\n850\n\n1200\n1248\n\n1000\n\n4300\n750-800\n\n1300\n4300\n890\n4000\n1500\n400-1250\n\n1200\n900-1500\n\n1200\n\n1100\n4300\n\n\n\n1400\n3500\n1250\n1350\n1000\n\n4300\n\n1100\n1200\n1100\n1280\n850\n1500\n1250\n\n\n1700\n\n4300\n1140\n1200\n1250\n\n\n1350\n1200\n\n\n640-1400\n1200\n800\n1800\n1000\n\n1450\n1450\n1450\n900\n350\n1100\n4650\nTEST\n1400\n"
    }
   ],
   "source": [
    "# Get rid of random string values\n",
    "for idx, i in enumerate(df2['New_Altitude']):\n",
    "    if hasNumbers(i):\n",
    "        pass\n",
    "    else:\n",
    "        df2['New_Altitude'][idx] = \"\"\n",
    "    print(i)"
   ]
  },
  {
   "cell_type": "code",
   "execution_count": 20,
   "metadata": {},
   "outputs": [
    {
     "output_type": "stream",
     "name": "stdout",
     "text": "1300-1400\n1600-1950\n1600-1950\n1600-1900\n1450-1700\n1600-1950\n1200-1350\n1600-1950\n1600-1950\n1600-1950\n9001-100\n1600-1950\n1600-1950\n1600-1950\n1600-1950\n1600-1950\n1600-1950\n1600-1950\n1600-1950\n1600-1950\n1600-1950\n1600-1950\n1600-1950\n1300-1800\n1600-1950\n1100-0\n1600-1950\n1600-1950\n1400-1850\n1600-1950\n1800-5900\n1600-1950\n1600-1950\n1600-1950\n1200-1400\n1600-1950\n1600-1950\n1300-1800\n1600-1950\n1600-1950\n1901-64\n1002-000\n7001-400\n1100-00\n1300-1500\n1901-64\n1300-1800\n"
    }
   ],
   "source": [
    "for idx, i in enumerate(df2['New_Altitude']):\n",
    "    try:\n",
    "        if int(i) > 9000:   \n",
    "            df2['New_Altitude'][idx] = print(i[:4]+'-'+i[4:])\n",
    "        if int(i) < 500:\n",
    "            df2['New_Altitude'][idx] = \"\"\n",
    "    except:\n",
    "        pass"
   ]
  },
  {
   "cell_type": "code",
   "execution_count": 21,
   "metadata": {
    "scrolled": false
   },
   "outputs": [
    {
     "output_type": "execute_result",
     "data": {
      "text/plain": "                           Cocarive           002/1352/0045   \n42                                       Cocarive           002/1352/0045   \n43                  Sunshine Valley Estate 向陽高山咖啡                  Taiwan   \n44                               NKG COFFEE MILLS                     NIL   \n45                                                          002/1251/0071   \n46                                    Great Lakes                       0   \n47                                                                   NONE   \n48                                                                   NONE   \n49                                                                      x   \n\n                                  Company                       Altitude  ...  \\\nID                                                                        ...   \n0       METAD Agricultural Developmet plc                      1950-2200  ...   \n1       METAD Agricultural Developmet plc                      1950-2200  ...   \n2                                                          1600 - 1800 m  ...   \n3   Yidnekachew Debessa Coffee Plantation                      1800-2200  ...   \n4       METAD Agricultural Developmet plc                      1950-2200  ...   \n5                                                                         ...   \n6   Richmond Investment-coffee department                                 ...   \n7                                                              1570-1700  ...   \n8                                                              1570-1700  ...   \n9                  DIAMOND ENTERPRISE PLC                      1795-1850  ...   \n10                Fahem Coffee Plantation                      1855-1955  ...   \n11               Coffee Quality Institute  Meters above sea level: 1.872  ...   \n12               Coffee Quality Institute  Meters above sea level: 1.943  ...   \n13                                                               2000 ft  ...   \n14                                                             1570-1700  ...   \n15               Coffee Quality Institute  Meters above sea level: 2.080  ...   \n16                                                            1200-1800m  ...   \n17                                                                        ...   \n18                 Yunnan Coffee Exchange                           1450  ...   \n19                         Essence Coffee                     1700-2000m  ...   \n20               Coffee Quality Institute  Meters above sea level: 2.019  ...   \n21                 The Coffee Source Inc.                      1300 MSNM  ...   \n22                                                                  1320  ...   \n23               Coffee Quality Institute  Meters above sea level: 2.112  ...   \n24                                                                        ...   \n25                               NUCOFFEE                          1250m  ...   \n26                                                                        ...   \n27                  Kabum Trading company                           1950  ...   \n28                      CIGRAH S.A DE C.V                           1400  ...   \n29               Taiwan Coffee Laboratory                           1200  ...   \n30                                                                        ...   \n31                                                                        ...   \n32                               NUCOFFEE                           1300  ...   \n33                 Exclusive Coffees S.A.                           1300  ...   \n34          Haider Abamecha Coffee Export                      1750-1800  ...   \n35                           C dorman Ltd                           1800  ...   \n36       Kona Pacific Farmers Cooperative                                 ...   \n37                                                                        ...   \n38                                                                        ...   \n39               Coffee Quality Institute  Meters above sea level: 1.941  ...   \n40                             Lanna Cafe                           1300  ...   \n41                                                                   1.2  ...   \n42                                                                   1.2  ...   \n43               Taiwan Coffee Laboratory                         1000 M  ...   \n44                       Keremara Limited                           1754  ...   \n45                               NUCOFFEE                          1250m  ...   \n46                                   UCDA                                 ...   \n47                       LUSSO COFFEE LAB                     900-1,500m  ...   \n48                       LUSSO COFFEE LAB                    1520m-2200m  ...   \n49                            Kawacom Ltd                     1400-1900M  ...   \n\n           Color Category Two Defects            Expiration  \\\nID                                                            \n0          Green       0 full defects       April 3rd, 2016   \n1          Green       1 full defects       April 3rd, 2016   \n2                      0 full defects        May 31st, 2011   \n3          Green       2 full defects      March 25th, 2016   \n4          Green       2 full defects       April 3rd, 2016   \n5   Bluish-Green       1 full defects   September 3rd, 2014   \n6   Bluish-Green       0 full defects  September 17th, 2013   \n7                      0 full defects   September 2nd, 2011   \n8                      0 full defects   September 2nd, 2011   \n9          Green       4 full defects      March 29th, 2016   \n10                     1 full defects      March 26th, 2016   \n11                     0 full defects      March 12th, 2016   \n12                     0 full defects      March 12th, 2016   \n13                     2 full defects        May 31st, 2011   \n14                     2 full defects     August 31st, 2011   \n15                     0 full defects      March 12th, 2016   \n16                     0 full defects        May 31st, 2011   \n17                     2 full defects       June 16th, 2011   \n18         Green       0 full defects       April 7th, 2017   \n19                     8 full defects      March 24th, 2016   \n20          None       0 full defects      March 12th, 2016   \n21         Green       2 full defects       April 2nd, 2015   \n22         Green       0 full defects       July 26th, 2013   \n23                     0 full defects      March 12th, 2016   \n24  Bluish-Green       1 full defects   September 3rd, 2014   \n25         Green       2 full defects    December 2nd, 2012   \n26                     2 full defects       June 16th, 2011   \n27         Green       1 full defects       June 26th, 2015   \n28         Green       3 full defects        May 18th, 2018   \n29         Green       0 full defects        May 18th, 2017   \n30                     2 full defects        May 18th, 2011   \n31  Bluish-Green       1 full defects   September 3rd, 2014   \n32         Green       2 full defects    December 2nd, 2012   \n33    Blue-Green       0 full defects    December 2nd, 2016   \n34         Green       3 full defects      March 26th, 2016   \n35    Blue-Green       1 full defects        May 30th, 2015   \n36                     4 full defects       April 6th, 2013   \n37                     1 full defects    January 28th, 2012   \n38                     2 full defects       June 17th, 2011   \n39                     0 full defects      March 12th, 2016   \n40         Green       9 full defects      April 12th, 2013   \n41                     2 full defects     January 4th, 2012   \n42                     3 full defects     January 4th, 2012   \n43         Green       0 full defects        June 9th, 2016   \n44  Bluish-Green       2 full defects    January 29th, 2016   \n45    Blue-Green       2 full defects    December 2nd, 2012   \n46                     0 full defects     October 1st, 2015   \n47         Green       1 full defects      March 20th, 2015   \n48         Green       1 full defects    February 6th, 2015   \n49    Blue-Green       0 full defects   February 12th, 2013   \n\n                            Certification Body  \\\nID                                               \n0           METAD Agricultural Development plc   \n1           METAD Agricultural Development plc   \n2                 Specialty Coffee Association   \n3           METAD Agricultural Development plc   \n4           METAD Agricultural Development plc   \n5           Specialty Coffee Institute of Asia   \n6           Specialty Coffee Institute of Asia   \n7                  Ethiopia Commodity Exchange   \n8                  Ethiopia Commodity Exchange   \n9           METAD Agricultural Development plc   \n10          METAD Agricultural Development plc   \n11                                    Almacafé   \n12                                    Almacafé   \n13                Specialty Coffee Association   \n14                 Ethiopia Commodity Exchange   \n15                                    Almacafé   \n16                Specialty Coffee Association   \n17                 Ethiopia Commodity Exchange   \n18                      Yunnan Coffee Exchange   \n19                Blossom Valley International   \n20                                    Almacafé   \n21                Specialty Coffee Association   \n22                                     AMECAFE   \n23                                    Almacafé   \n24          Specialty Coffee Institute of Asia   \n25                                    NUCOFFEE   \n26                 Ethiopia Commodity Exchange   \n27         Uganda Coffee Development Authority   \n28                Instituto Hondureño del Café   \n29                Specialty Coffee Association   \n30                Specialty Coffee Association   \n31          Specialty Coffee Institute of Asia   \n32                                    NUCOFFEE   \n33  Specialty Coffee Association of Costa Rica   \n34          METAD Agricultural Development plc   \n35            Kenya Coffee Traders Association   \n36                Specialty Coffee Association   \n37                Specialty Coffee Association   \n38                 Ethiopia Commodity Exchange   \n39                                    Almacafé   \n40                Specialty Coffee Association   \n41                Specialty Coffee Association   \n42                Specialty Coffee Association   \n43                Specialty Coffee Association   \n44            Kenya Coffee Traders Association   \n45                                    NUCOFFEE   \n46         Uganda Coffee Development Authority   \n47                Specialty Coffee Association   \n48                Specialty Coffee Association   \n49              Africa Fine Coffee Association   \n\n                                Certification Address  \\\nID                                                      \n0   BAWA Center, 3rd Floor (Gerji), Addis Ababa, E...   \n1   BAWA Center, 3rd Floor (Gerji), Addis Ababa, E...   \n2         117 W 4th St, Suite 300 Santa Ana, CA 92701   \n3   BAWA Center, 3rd Floor (Gerji), Addis Ababa, E...   \n4   BAWA Center, 3rd Floor (Gerji), Addis Ababa, E...   \n5   3F, 259-1 Ulgiro-3-ga, Joong-gu, Seoul, South ...   \n6   3F, 259-1 Ulgiro-3-ga, Joong-gu, Seoul, South ...   \n7   Al-Sam Tower 2, 3rd Floor Lideta, Addis Ababa,...   \n8   Al-Sam Tower 2, 3rd Floor Lideta, Addis Ababa,...   \n9   BAWA Center, 3rd Floor (Gerji), Addis Ababa, E...   \n10  BAWA Center, 3rd Floor (Gerji), Addis Ababa, E...   \n11  Calle 73 No. 8-13 Piso 2 Torre B Bogota, Colombia   \n12  Calle 73 No. 8-13 Piso 2 Torre B Bogota, Colombia   \n13        117 W 4th St, Suite 300 Santa Ana, CA 92701   \n14  Al-Sam Tower 2, 3rd Floor Lideta, Addis Ababa,...   \n15  Calle 73 No. 8-13 Piso 2 Torre B Bogota, Colombia   \n16        117 W 4th St, Suite 300 Santa Ana, CA 92701   \n17  Al-Sam Tower 2, 3rd Floor Lideta, Addis Ababa,...   \n18  Warehouse of YCE, Chuangye Road, Munaihe Indus...   \n19                   No.72 Mo-Fan St. Taiwan Zip: 403   \n20  Calle 73 No. 8-13 Piso 2 Torre B Bogota, Colombia   \n21        117 W 4th St, Suite 300 Santa Ana, CA 92701   \n22  Tenayuca 107 Col. Vertiz Narvarte México D.F. ...   \n23  Calle 73 No. 8-13 Piso 2 Torre B Bogota, Colombia   \n24  3F, 259-1 Ulgiro-3-ga, Joong-gu, Seoul, South ...   \n25               Av. Nações Unidas, 18.001 - 5° floor   \n26  Al-Sam Tower 2, 3rd Floor Lideta, Addis Ababa,...   \n27  Coffee House, Plot 35, Jinja Road, P.O. Box 72...   \n28  Laboratorio de Control de Calidad de Café ( CN...   \n29        117 W 4th St, Suite 300 Santa Ana, CA 92701   \n30        117 W 4th St, Suite 300 Santa Ana, CA 92701   \n31  3F, 259-1 Ulgiro-3-ga, Joong-gu, Seoul, South ...   \n32               Av. Nações Unidas, 18.001 - 5° floor   \n33  Blvd Rohrmoser, de Prisma Dental 200 norte y 2...   \n34  BAWA Center, 3rd Floor (Gerji), Addis Ababa, E...   \n35                   P.O. Box 646 00100Nairobi, Kenya   \n36        117 W 4th St, Suite 300 Santa Ana, CA 92701   \n37        117 W 4th St, Suite 300 Santa Ana, CA 92701   \n38  Al-Sam Tower 2, 3rd Floor Lideta, Addis Ababa,...   \n39  Calle 73 No. 8-13 Piso 2 Torre B Bogota, Colombia   \n40        117 W 4th St, Suite 300 Santa Ana, CA 92701   \n41        117 W 4th St, Suite 300 Santa Ana, CA 92701   \n42        117 W 4th St, Suite 300 Santa Ana, CA 92701   \n43        117 W 4th St, Suite 300 Santa Ana, CA 92701   \n44                   P.O. Box 646 00100Nairobi, Kenya   \n45               Av. Nações Unidas, 18.001 - 5° floor   \n46  Coffee House, Plot 35, Jinja Road, P.O. Box 72...   \n47        117 W 4th St, Suite 300 Santa Ana, CA 92701   \n48        117 W 4th St, Suite 300 Santa Ana, CA 92701   \n49  P.O.Box 27405, Plot 4, Bazarabuza Drive, Bugol...   \n\n                                Certification Contact New_Altitude  \\\nID                                                                   \n0   Aman Adinew (Emebet Dinku) - +251-116-292534, ...    1950-2200   \n1   Aman Adinew (Emebet Dinku) - +251-116-292534, ...    1950-2200   \n2                         Chris Buck - (562) 624-4100    1600-1800   \n3   Aman Adinew (Emebet Dinku) - +251-116-292534, ...    1800-2200   \n4   Aman Adinew (Emebet Dinku) - +251-116-292534, ...    1950-2200   \n5   Sung-Yong Steven Kil - 82-10-7912-1456-English...                \n6   Sung-Yong Steven Kil - 82-10-7912-1456-English...                \n7                                  - +251 11 554 7001    1570-1700   \n8                                  - +251 11 554 7001    1570-1700   \n9   Aman Adinew (Emebet Dinku) - +251-116-292534, ...    1795-1850   \n10  Aman Adinew (Emebet Dinku) - +251-116-292534, ...    1855-1955   \n11                          Rodrigo Alarcon - 3136600         1872   \n12                          Rodrigo Alarcon - 3136600         1943   \n13                        Chris Buck - (562) 624-4100         2000   \n14                                 - +251 11 554 7001    1570-1700   \n15                          Rodrigo Alarcon - 3136600         2080   \n16                        Chris Buck - (562) 624-4100    1200-1800   \n17                                 - +251 11 554 7001                \n18                          Zooey Li - +8608792891121         1450   \n19                       Damon Chen - +886-4-23022323    1700-2000   \n20                          Rodrigo Alarcon - 3136600         2019   \n21                        Chris Buck - (562) 624-4100         1300   \n22         Sylvia Gutiérrez - 52-55-56884569 ext 6792         1320   \n23                          Rodrigo Alarcon - 3136600         2112   \n24  Sung-Yong Steven Kil - 82-10-7912-1456-English...                \n25                                                  -         1250   \n26                                 - +251 11 554 7001                \n27           Clare Rwakatogoro - 256-41-256940/233073         1950   \n28                      Ramon Reyes - + 504 9693-9042         1400   \n29                        Chris Buck - (562) 624-4100         1200   \n30                        Chris Buck - (562) 624-4100                \n31  Sung-Yong Steven Kil - 82-10-7912-1456-English...                \n32                                                  -         1300   \n33                Noelia Villalobos - (506) 2220 0685         1300   \n34  Aman Adinew (Emebet Dinku) - +251-116-292534, ...    1750-1800   \n35               Ivy Sarah Nderitu - +254 786 821 621         1800   \n36                        Chris Buck - (562) 624-4100                \n37                        Chris Buck - (562) 624-4100                \n38                                 - +251 11 554 7001                \n39                          Rodrigo Alarcon - 3136600         1941   \n40                        Chris Buck - (562) 624-4100         1300   \n41                        Chris Buck - (562) 624-4100                \n42                        Chris Buck - (562) 624-4100                \n43                        Chris Buck - (562) 624-4100         1000   \n44               Ivy Sarah Nderitu - +254 786 821 621         1754   \n45                                                  -         1250   \n46           Clare Rwakatogoro - 256-41-256940/233073                \n47                        Chris Buck - (562) 624-4100     900-1500   \n48                        Chris Buck - (562) 624-4100    1520-2200   \n49                     Faith Asaji - +256 414 269 140    1400-1900   \n\n   Altitude_Units Lower_Altitude Upper_Altitude  \nID                                               \n0          meters           1950           2200  \n1          meters           1950           2200  \n2          meters           1600           1800  \n3          meters           1800           2200  \n4          meters           1950           2200  \n5            None                          None  \n6            None                          None  \n7          meters           1570           1700  \n8          meters           1570           1700  \n9          meters           1795           1850  \n10         meters           1855           1955  \n11         meters           1872           None  \n12         meters           1943           None  \n13           feet           2000           None  \n14         meters           1570           1700  \n15         meters           2080           None  \n16         meters           1200           1800  \n17           None                          None  \n18         meters           1450           None  \n19         meters           1700           2000  \n20         meters           2019           None  \n21         meters           1300           None  \n22         meters           1320           None  \n23         meters           2112           None  \n24           None                          None  \n25         meters           1250           None  \n26           None                          None  \n27         meters           1950           None  \n28         meters           1400           None  \n29         meters           1200           None  \n30           None                          None  \n31           None                          None  \n32         meters           1300           None  \n33         meters           1300           None  \n34         meters           1750           1800  \n35         meters           1800           None  \n36           None                          None  \n37           None                          None  \n38           None                          None  \n39         meters           1941           None  \n40         meters           1300           None  \n41         meters                          None  \n42         meters                          None  \n43         meters           1000           None  \n44         meters           1754           None  \n45         meters           1250           None  \n46           None                          None  \n47         meters            900           1500  \n48         meters           1520           2200  \n49         meters           1400           1900  \n\n[50 rows x 44 columns]",
      "text/html": "<div>\n<style scoped>\n    .dataframe tbody tr th:only-of-type {\n        vertical-align: middle;\n    }\n\n    .dataframe tbody tr th {\n        vertical-align: top;\n    }\n\n    .dataframe thead th {\n        text-align: right;\n    }\n</style>\n<table border=\"1\" class=\"dataframe\">\n  <thead>\n    <tr style=\"text-align: right;\">\n      <th></th>\n      <th>quality_score</th>\n      <th>Species</th>\n      <th>Owner</th>\n      <th>Country of Origin</th>\n      <th>Farm Name</th>\n      <th>Lot Number</th>\n      <th>Mill</th>\n      <th>ICO Number</th>\n      <th>Company</th>\n      <th>Altitude</th>\n      <th>...</th>\n      <th>Color</th>\n      <th>Category Two Defects</th>\n      <th>Expiration</th>\n      <th>Certification Body</th>\n      <th>Certification Address</th>\n      <th>Certification Contact</th>\n      <th>New_Altitude</th>\n      <th>Altitude_Units</th>\n      <th>Lower_Altitude</th>\n      <th>Upper_Altitude</th>\n    </tr>\n    <tr>\n      <th>ID</th>\n      <th></th>\n      <th></th>\n      <th></th>\n      <th></th>\n      <th></th>\n      <th></th>\n      <th></th>\n      <th></th>\n      <th></th>\n      <th></th>\n      <th></th>\n      <th></th>\n      <th></th>\n      <th></th>\n      <th></th>\n      <th></th>\n      <th></th>\n      <th></th>\n      <th></th>\n      <th></th>\n      <th></th>\n    </tr>\n  </thead>\n  <tbody>\n    <tr>\n      <td>0</td>\n      <td>90.58</td>\n      <td>Arabica</td>\n      <td>metad plc</td>\n      <td>Ethiopia</td>\n      <td>METAD PLC</td>\n      <td></td>\n      <td>METAD PLC</td>\n      <td>2014/2015</td>\n      <td>METAD Agricultural Developmet plc</td>\n      <td>1950-2200</td>\n      <td>...</td>\n      <td>Green</td>\n      <td>0 full defects</td>\n      <td>April 3rd, 2016</td>\n      <td>METAD Agricultural Development plc</td>\n      <td>BAWA Center, 3rd Floor (Gerji), Addis Ababa, E...</td>\n      <td>Aman Adinew (Emebet Dinku) - +251-116-292534, ...</td>\n      <td>1950-2200</td>\n      <td>meters</td>\n      <td>1950</td>\n      <td>2200</td>\n    </tr>\n    <tr>\n      <td>1</td>\n      <td>89.92</td>\n      <td>Arabica</td>\n      <td>metad plc</td>\n      <td>Ethiopia</td>\n      <td>METAD PLC</td>\n      <td></td>\n      <td>METAD PLC</td>\n      <td>2014/2015</td>\n      <td>METAD Agricultural Developmet plc</td>\n      <td>1950-2200</td>\n      <td>...</td>\n      <td>Green</td>\n      <td>1 full defects</td>\n      <td>April 3rd, 2016</td>\n      <td>METAD Agricultural Development plc</td>\n      <td>BAWA Center, 3rd Floor (Gerji), Addis Ababa, E...</td>\n      <td>Aman Adinew (Emebet Dinku) - +251-116-292534, ...</td>\n      <td>1950-2200</td>\n      <td>meters</td>\n      <td>1950</td>\n      <td>2200</td>\n    </tr>\n    <tr>\n      <td>2</td>\n      <td>89.75</td>\n      <td>Arabica</td>\n      <td>Grounds for Health Admin</td>\n      <td>Guatemala</td>\n      <td>San Marcos Barrancas \"San Cristobal Cuch</td>\n      <td></td>\n      <td></td>\n      <td></td>\n      <td></td>\n      <td>1600 - 1800 m</td>\n      <td>...</td>\n      <td></td>\n      <td>0 full defects</td>\n      <td>May 31st, 2011</td>\n      <td>Specialty Coffee Association</td>\n      <td>117 W 4th St, Suite 300 Santa Ana, CA 92701</td>\n      <td>Chris Buck - (562) 624-4100</td>\n      <td>1600-1800</td>\n      <td>meters</td>\n      <td>1600</td>\n      <td>1800</td>\n    </tr>\n    <tr>\n      <td>3</td>\n      <td>89.00</td>\n      <td>Arabica</td>\n      <td>Yidnekachew Dabessa</td>\n      <td>Ethiopia</td>\n      <td>Yidnekachew Dabessa Coffee Plantation</td>\n      <td></td>\n      <td>Wolensu</td>\n      <td></td>\n      <td>Yidnekachew Debessa Coffee Plantation</td>\n      <td>1800-2200</td>\n      <td>...</td>\n      <td>Green</td>\n      <td>2 full defects</td>\n      <td>March 25th, 2016</td>\n      <td>METAD Agricultural Development plc</td>\n      <td>BAWA Center, 3rd Floor (Gerji), Addis Ababa, E...</td>\n      <td>Aman Adinew (Emebet Dinku) - +251-116-292534, ...</td>\n      <td>1800-2200</td>\n      <td>meters</td>\n      <td>1800</td>\n      <td>2200</td>\n    </tr>\n    <tr>\n      <td>4</td>\n      <td>88.83</td>\n      <td>Arabica</td>\n      <td>metad plc</td>\n      <td>Ethiopia</td>\n      <td>METAD PLC</td>\n      <td></td>\n      <td>METAD PLC</td>\n      <td>2014/2015</td>\n      <td>METAD Agricultural Developmet plc</td>\n      <td>1950-2200</td>\n      <td>...</td>\n      <td>Green</td>\n      <td>2 full defects</td>\n      <td>April 3rd, 2016</td>\n      <td>METAD Agricultural Development plc</td>\n      <td>BAWA Center, 3rd Floor (Gerji), Addis Ababa, E...</td>\n      <td>Aman Adinew (Emebet Dinku) - +251-116-292534, ...</td>\n      <td>1950-2200</td>\n      <td>meters</td>\n      <td>1950</td>\n      <td>2200</td>\n    </tr>\n    <tr>\n      <td>5</td>\n      <td>88.83</td>\n      <td>Arabica</td>\n      <td>Ji-Ae Ahn</td>\n      <td>Brazil</td>\n      <td></td>\n      <td></td>\n      <td></td>\n      <td></td>\n      <td></td>\n      <td></td>\n      <td>...</td>\n      <td>Bluish-Green</td>\n      <td>1 full defects</td>\n      <td>September 3rd, 2014</td>\n      <td>Specialty Coffee Institute of Asia</td>\n      <td>3F, 259-1 Ulgiro-3-ga, Joong-gu, Seoul, South ...</td>\n      <td>Sung-Yong Steven Kil - 82-10-7912-1456-English...</td>\n      <td></td>\n      <td>None</td>\n      <td></td>\n      <td>None</td>\n    </tr>\n    <tr>\n      <td>6</td>\n      <td>88.75</td>\n      <td>Arabica</td>\n      <td>Hugo Valdivia</td>\n      <td>Peru</td>\n      <td></td>\n      <td></td>\n      <td>HVC</td>\n      <td></td>\n      <td>Richmond Investment-coffee department</td>\n      <td></td>\n      <td>...</td>\n      <td>Bluish-Green</td>\n      <td>0 full defects</td>\n      <td>September 17th, 2013</td>\n      <td>Specialty Coffee Institute of Asia</td>\n      <td>3F, 259-1 Ulgiro-3-ga, Joong-gu, Seoul, South ...</td>\n      <td>Sung-Yong Steven Kil - 82-10-7912-1456-English...</td>\n      <td></td>\n      <td>None</td>\n      <td></td>\n      <td>None</td>\n    </tr>\n    <tr>\n      <td>7</td>\n      <td>88.67</td>\n      <td>Arabica</td>\n      <td>Ethiopia Commodity Exchange</td>\n      <td>Ethiopia</td>\n      <td>Aolme</td>\n      <td></td>\n      <td>C.P.W.E</td>\n      <td>010/0338</td>\n      <td></td>\n      <td>1570-1700</td>\n      <td>...</td>\n      <td></td>\n      <td>0 full defects</td>\n      <td>September 2nd, 2011</td>\n      <td>Ethiopia Commodity Exchange</td>\n      <td>Al-Sam Tower 2, 3rd Floor Lideta, Addis Ababa,...</td>\n      <td>- +251 11 554 7001</td>\n      <td>1570-1700</td>\n      <td>meters</td>\n      <td>1570</td>\n      <td>1700</td>\n    </tr>\n    <tr>\n      <td>8</td>\n      <td>88.42</td>\n      <td>Arabica</td>\n      <td>Ethiopia Commodity Exchange</td>\n      <td>Ethiopia</td>\n      <td>Aolme</td>\n      <td></td>\n      <td>C.P.W.E</td>\n      <td>010/0338</td>\n      <td></td>\n      <td>1570-1700</td>\n      <td>...</td>\n      <td></td>\n      <td>0 full defects</td>\n      <td>September 2nd, 2011</td>\n      <td>Ethiopia Commodity Exchange</td>\n      <td>Al-Sam Tower 2, 3rd Floor Lideta, Addis Ababa,...</td>\n      <td>- +251 11 554 7001</td>\n      <td>1570-1700</td>\n      <td>meters</td>\n      <td>1570</td>\n      <td>1700</td>\n    </tr>\n    <tr>\n      <td>9</td>\n      <td>88.25</td>\n      <td>Arabica</td>\n      <td>Diamond Enterprise Plc</td>\n      <td>Ethiopia</td>\n      <td>Tulla Coffee Farm</td>\n      <td></td>\n      <td>Tulla Coffee Farm</td>\n      <td>2014/15</td>\n      <td>DIAMOND ENTERPRISE PLC</td>\n      <td>1795-1850</td>\n      <td>...</td>\n      <td>Green</td>\n      <td>4 full defects</td>\n      <td>March 29th, 2016</td>\n      <td>METAD Agricultural Development plc</td>\n      <td>BAWA Center, 3rd Floor (Gerji), Addis Ababa, E...</td>\n      <td>Aman Adinew (Emebet Dinku) - +251-116-292534, ...</td>\n      <td>1795-1850</td>\n      <td>meters</td>\n      <td>1795</td>\n      <td>1850</td>\n    </tr>\n    <tr>\n      <td>10</td>\n      <td>88.08</td>\n      <td>Arabica</td>\n      <td>Mohammed Lalo</td>\n      <td>Ethiopia</td>\n      <td>Fahem Coffee Plantation</td>\n      <td></td>\n      <td></td>\n      <td></td>\n      <td>Fahem Coffee Plantation</td>\n      <td>1855-1955</td>\n      <td>...</td>\n      <td></td>\n      <td>1 full defects</td>\n      <td>March 26th, 2016</td>\n      <td>METAD Agricultural Development plc</td>\n      <td>BAWA Center, 3rd Floor (Gerji), Addis Ababa, E...</td>\n      <td>Aman Adinew (Emebet Dinku) - +251-116-292534, ...</td>\n      <td>1855-1955</td>\n      <td>meters</td>\n      <td>1855</td>\n      <td>1955</td>\n    </tr>\n    <tr>\n      <td>11</td>\n      <td>87.92</td>\n      <td>Arabica</td>\n      <td>CQI Q Coffee Sample Representative</td>\n      <td>United States</td>\n      <td>El filo</td>\n      <td></td>\n      <td></td>\n      <td>unknown</td>\n      <td>Coffee Quality Institute</td>\n      <td>Meters above sea level: 1.872</td>\n      <td>...</td>\n      <td></td>\n      <td>0 full defects</td>\n      <td>March 12th, 2016</td>\n      <td>Almacafé</td>\n      <td>Calle 73 No. 8-13 Piso 2 Torre B Bogota, Colombia</td>\n      <td>Rodrigo Alarcon - 3136600</td>\n      <td>1872</td>\n      <td>meters</td>\n      <td>1872</td>\n      <td>None</td>\n    </tr>\n    <tr>\n      <td>12</td>\n      <td>87.92</td>\n      <td>Arabica</td>\n      <td>CQI Q Coffee Sample Representative</td>\n      <td>United States</td>\n      <td>Los Cedros</td>\n      <td></td>\n      <td></td>\n      <td>unknown</td>\n      <td>Coffee Quality Institute</td>\n      <td>Meters above sea level: 1.943</td>\n      <td>...</td>\n      <td></td>\n      <td>0 full defects</td>\n      <td>March 12th, 2016</td>\n      <td>Almacafé</td>\n      <td>Calle 73 No. 8-13 Piso 2 Torre B Bogota, Colombia</td>\n      <td>Rodrigo Alarcon - 3136600</td>\n      <td>1943</td>\n      <td>meters</td>\n      <td>1943</td>\n      <td>None</td>\n    </tr>\n    <tr>\n      <td>13</td>\n      <td>87.92</td>\n      <td>Arabica</td>\n      <td>Grounds for Health Admin</td>\n      <td>United States (Hawaii)</td>\n      <td>Arianna Farms</td>\n      <td></td>\n      <td></td>\n      <td></td>\n      <td></td>\n      <td>2000 ft</td>\n      <td>...</td>\n      <td></td>\n      <td>2 full defects</td>\n      <td>May 31st, 2011</td>\n      <td>Specialty Coffee Association</td>\n      <td>117 W 4th St, Suite 300 Santa Ana, CA 92701</td>\n      <td>Chris Buck - (562) 624-4100</td>\n      <td>2000</td>\n      <td>feet</td>\n      <td>2000</td>\n      <td>None</td>\n    </tr>\n    <tr>\n      <td>14</td>\n      <td>87.83</td>\n      <td>Arabica</td>\n      <td>Ethiopia Commodity Exchange</td>\n      <td>Ethiopia</td>\n      <td>Aolme</td>\n      <td></td>\n      <td>C.P.W.E</td>\n      <td>010/0338</td>\n      <td></td>\n      <td>1570-1700</td>\n      <td>...</td>\n      <td></td>\n      <td>2 full defects</td>\n      <td>August 31st, 2011</td>\n      <td>Ethiopia Commodity Exchange</td>\n      <td>Al-Sam Tower 2, 3rd Floor Lideta, Addis Ababa,...</td>\n      <td>- +251 11 554 7001</td>\n      <td>1570-1700</td>\n      <td>meters</td>\n      <td>1570</td>\n      <td>1700</td>\n    </tr>\n    <tr>\n      <td>15</td>\n      <td>87.58</td>\n      <td>Arabica</td>\n      <td>CQI Q Coffee Sample Representative</td>\n      <td>United States</td>\n      <td>El Águila</td>\n      <td></td>\n      <td></td>\n      <td>unknown</td>\n      <td>Coffee Quality Institute</td>\n      <td>Meters above sea level: 2.080</td>\n      <td>...</td>\n      <td></td>\n      <td>0 full defects</td>\n      <td>March 12th, 2016</td>\n      <td>Almacafé</td>\n      <td>Calle 73 No. 8-13 Piso 2 Torre B Bogota, Colombia</td>\n      <td>Rodrigo Alarcon - 3136600</td>\n      <td>2080</td>\n      <td>meters</td>\n      <td>2080</td>\n      <td>None</td>\n    </tr>\n    <tr>\n      <td>16</td>\n      <td>87.42</td>\n      <td>Arabica</td>\n      <td>Grounds for Health Admin</td>\n      <td>Indonesia</td>\n      <td>Toarco Jaya</td>\n      <td></td>\n      <td></td>\n      <td></td>\n      <td></td>\n      <td>1200-1800m</td>\n      <td>...</td>\n      <td></td>\n      <td>0 full defects</td>\n      <td>May 31st, 2011</td>\n      <td>Specialty Coffee Association</td>\n      <td>117 W 4th St, Suite 300 Santa Ana, CA 92701</td>\n      <td>Chris Buck - (562) 624-4100</td>\n      <td>1200-1800</td>\n      <td>meters</td>\n      <td>1200</td>\n      <td>1800</td>\n    </tr>\n    <tr>\n      <td>17</td>\n      <td>87.33</td>\n      <td>Arabica</td>\n      <td>Ethiopia Commodity Exchange</td>\n      <td>Ethiopia</td>\n      <td></td>\n      <td></td>\n      <td></td>\n      <td>010/0056</td>\n      <td></td>\n      <td></td>\n      <td>...</td>\n      <td></td>\n      <td>2 full defects</td>\n      <td>June 16th, 2011</td>\n      <td>Ethiopia Commodity Exchange</td>\n      <td>Al-Sam Tower 2, 3rd Floor Lideta, Addis Ababa,...</td>\n      <td>- +251 11 554 7001</td>\n      <td></td>\n      <td>None</td>\n      <td></td>\n      <td>None</td>\n    </tr>\n    <tr>\n      <td>18</td>\n      <td>87.25</td>\n      <td>Arabica</td>\n      <td>Yunnan Coffee Exchange</td>\n      <td>China</td>\n      <td>Echo Coffee</td>\n      <td>YNC-06114</td>\n      <td>Echo Coffee Mill</td>\n      <td></td>\n      <td>Yunnan Coffee Exchange</td>\n      <td>1450</td>\n      <td>...</td>\n      <td>Green</td>\n      <td>0 full defects</td>\n      <td>April 7th, 2017</td>\n      <td>Yunnan Coffee Exchange</td>\n      <td>Warehouse of YCE, Chuangye Road, Munaihe Indus...</td>\n      <td>Zooey Li - +8608792891121</td>\n      <td>1450</td>\n      <td>meters</td>\n      <td>1450</td>\n      <td>None</td>\n    </tr>\n    <tr>\n      <td>19</td>\n      <td>87.25</td>\n      <td>Arabica</td>\n      <td>EssenceCoffee</td>\n      <td>Ethiopia</td>\n      <td>Drima Zede</td>\n      <td></td>\n      <td>Drima Zede</td>\n      <td>100181006</td>\n      <td>Essence Coffee</td>\n      <td>1700-2000m</td>\n      <td>...</td>\n      <td></td>\n      <td>8 full defects</td>\n      <td>March 24th, 2016</td>\n      <td>Blossom Valley International</td>\n      <td>No.72 Mo-Fan St. Taiwan Zip: 403</td>\n      <td>Damon Chen - +886-4-23022323</td>\n      <td>1700-2000</td>\n      <td>meters</td>\n      <td>1700</td>\n      <td>2000</td>\n    </tr>\n    <tr>\n      <td>20</td>\n      <td>87.25</td>\n      <td>Arabica</td>\n      <td>CQI Q Coffee Sample Representative</td>\n      <td>United States</td>\n      <td>El Rodeo</td>\n      <td></td>\n      <td></td>\n      <td>unknown</td>\n      <td>Coffee Quality Institute</td>\n      <td>Meters above sea level: 2.019</td>\n      <td>...</td>\n      <td>None</td>\n      <td>0 full defects</td>\n      <td>March 12th, 2016</td>\n      <td>Almacafé</td>\n      <td>Calle 73 No. 8-13 Piso 2 Torre B Bogota, Colombia</td>\n      <td>Rodrigo Alarcon - 3136600</td>\n      <td>2019</td>\n      <td>meters</td>\n      <td>2019</td>\n      <td>None</td>\n    </tr>\n    <tr>\n      <td>21</td>\n      <td>87.17</td>\n      <td>Arabica</td>\n      <td>The Coffee Source Inc.</td>\n      <td>Costa Rica</td>\n      <td>SEVERAL</td>\n      <td></td>\n      <td>CAFE DE ALTURA SAN RAMON</td>\n      <td>5-562-0015</td>\n      <td>The Coffee Source Inc.</td>\n      <td>1300 MSNM</td>\n      <td>...</td>\n      <td>Green</td>\n      <td>2 full defects</td>\n      <td>April 2nd, 2015</td>\n      <td>Specialty Coffee Association</td>\n      <td>117 W 4th St, Suite 300 Santa Ana, CA 92701</td>\n      <td>Chris Buck - (562) 624-4100</td>\n      <td>1300</td>\n      <td>meters</td>\n      <td>1300</td>\n      <td>None</td>\n    </tr>\n    <tr>\n      <td>22</td>\n      <td>87.17</td>\n      <td>Arabica</td>\n      <td>ROBERTO LICONA FRANCO</td>\n      <td>Mexico</td>\n      <td>LA HERRADURA</td>\n      <td></td>\n      <td>LA HERRADURA</td>\n      <td>0</td>\n      <td></td>\n      <td>1320</td>\n      <td>...</td>\n      <td>Green</td>\n      <td>0 full defects</td>\n      <td>July 26th, 2013</td>\n      <td>AMECAFE</td>\n      <td>Tenayuca 107 Col. Vertiz Narvarte México D.F. ...</td>\n      <td>Sylvia Gutiérrez - 52-55-56884569 ext 6792</td>\n      <td>1320</td>\n      <td>meters</td>\n      <td>1320</td>\n      <td>None</td>\n    </tr>\n    <tr>\n      <td>23</td>\n      <td>87.08</td>\n      <td>Arabica</td>\n      <td>CQI Q Coffee Sample Representative</td>\n      <td>United States</td>\n      <td>La curva</td>\n      <td></td>\n      <td></td>\n      <td>unknown</td>\n      <td>Coffee Quality Institute</td>\n      <td>Meters above sea level: 2.112</td>\n      <td>...</td>\n      <td></td>\n      <td>0 full defects</td>\n      <td>March 12th, 2016</td>\n      <td>Almacafé</td>\n      <td>Calle 73 No. 8-13 Piso 2 Torre B Bogota, Colombia</td>\n      <td>Rodrigo Alarcon - 3136600</td>\n      <td>2112</td>\n      <td>meters</td>\n      <td>2112</td>\n      <td>None</td>\n    </tr>\n    <tr>\n      <td>24</td>\n      <td>87.08</td>\n      <td>Arabica</td>\n      <td>Ji-Ae Ahn</td>\n      <td>Ethiopia</td>\n      <td></td>\n      <td></td>\n      <td></td>\n      <td></td>\n      <td></td>\n      <td></td>\n      <td>...</td>\n      <td>Bluish-Green</td>\n      <td>1 full defects</td>\n      <td>September 3rd, 2014</td>\n      <td>Specialty Coffee Institute of Asia</td>\n      <td>3F, 259-1 Ulgiro-3-ga, Joong-gu, Seoul, South ...</td>\n      <td>Sung-Yong Steven Kil - 82-10-7912-1456-English...</td>\n      <td></td>\n      <td>None</td>\n      <td></td>\n      <td>None</td>\n    </tr>\n    <tr>\n      <td>25</td>\n      <td>86.92</td>\n      <td>Arabica</td>\n      <td>NUCOFFEE</td>\n      <td>Brazil</td>\n      <td>Fazenda Kaquend</td>\n      <td></td>\n      <td></td>\n      <td>002/1251/0073</td>\n      <td>NUCOFFEE</td>\n      <td>1250m</td>\n      <td>...</td>\n      <td>Green</td>\n      <td>2 full defects</td>\n      <td>December 2nd, 2012</td>\n      <td>NUCOFFEE</td>\n      <td>Av. Nações Unidas, 18.001 - 5° floor</td>\n      <td>-</td>\n      <td>1250</td>\n      <td>meters</td>\n      <td>1250</td>\n      <td>None</td>\n    </tr>\n    <tr>\n      <td>26</td>\n      <td>86.92</td>\n      <td>Arabica</td>\n      <td>Ethiopia Commodity Exchange</td>\n      <td>Ethiopia</td>\n      <td></td>\n      <td></td>\n      <td></td>\n      <td>010/0056/Sidamo</td>\n      <td></td>\n      <td></td>\n      <td>...</td>\n      <td></td>\n      <td>2 full defects</td>\n      <td>June 16th, 2011</td>\n      <td>Ethiopia Commodity Exchange</td>\n      <td>Al-Sam Tower 2, 3rd Floor Lideta, Addis Ababa,...</td>\n      <td>- +251 11 554 7001</td>\n      <td></td>\n      <td>None</td>\n      <td></td>\n      <td>None</td>\n    </tr>\n    <tr>\n      <td>27</td>\n      <td>86.83</td>\n      <td>Arabica</td>\n      <td>Kabum Trading company</td>\n      <td>Uganda</td>\n      <td>Chebonet (23) women coffee</td>\n      <td></td>\n      <td>Kabum trading company</td>\n      <td>0</td>\n      <td>Kabum Trading company</td>\n      <td>1950</td>\n      <td>...</td>\n      <td>Green</td>\n      <td>1 full defects</td>\n      <td>June 26th, 2015</td>\n      <td>Uganda Coffee Development Authority</td>\n      <td>Coffee House, Plot 35, Jinja Road, P.O. Box 72...</td>\n      <td>Clare Rwakatogoro - 256-41-256940/233073</td>\n      <td>1950</td>\n      <td>meters</td>\n      <td>1950</td>\n      <td>None</td>\n    </tr>\n    <tr>\n      <td>28</td>\n      <td>86.67</td>\n      <td>Arabica</td>\n      <td>Bismarck Castro</td>\n      <td>Honduras</td>\n      <td>Los Hicaques</td>\n      <td>102</td>\n      <td>CIGRAH S.A. DE C.V.</td>\n      <td>13-111-053</td>\n      <td>CIGRAH S.A DE C.V</td>\n      <td>1400</td>\n      <td>...</td>\n      <td>Green</td>\n      <td>3 full defects</td>\n      <td>May 18th, 2018</td>\n      <td>Instituto Hondureño del Café</td>\n      <td>Laboratorio de Control de Calidad de Café ( CN...</td>\n      <td>Ramon Reyes - + 504 9693-9042</td>\n      <td>1400</td>\n      <td>meters</td>\n      <td>1400</td>\n      <td>None</td>\n    </tr>\n    <tr>\n      <td>29</td>\n      <td>86.58</td>\n      <td>Arabica</td>\n      <td>Lin, Che-Hao Krude 林哲豪</td>\n      <td>Taiwan</td>\n      <td>Tsoustructive Garden 鄒築園</td>\n      <td>Tsoustructive 2015 Sumatra Typica</td>\n      <td>Tsoustructive Garden 鄒築園</td>\n      <td>Taiwan</td>\n      <td>Taiwan Coffee Laboratory</td>\n      <td>1200</td>\n      <td>...</td>\n      <td>Green</td>\n      <td>0 full defects</td>\n      <td>May 18th, 2017</td>\n      <td>Specialty Coffee Association</td>\n      <td>117 W 4th St, Suite 300 Santa Ana, CA 92701</td>\n      <td>Chris Buck - (562) 624-4100</td>\n      <td>1200</td>\n      <td>meters</td>\n      <td>1200</td>\n      <td>None</td>\n    </tr>\n    <tr>\n      <td>30</td>\n      <td>86.58</td>\n      <td>Arabica</td>\n      <td>Nora Zeas</td>\n      <td>Nicaragua</td>\n      <td></td>\n      <td></td>\n      <td>Beneficio Atlantic Condega</td>\n      <td>790-0013</td>\n      <td></td>\n      <td></td>\n      <td>...</td>\n      <td></td>\n      <td>2 full defects</td>\n      <td>May 18th, 2011</td>\n      <td>Specialty Coffee Association</td>\n      <td>117 W 4th St, Suite 300 Santa Ana, CA 92701</td>\n      <td>Chris Buck - (562) 624-4100</td>\n      <td></td>\n      <td>None</td>\n      <td></td>\n      <td>None</td>\n    </tr>\n    <tr>\n      <td>31</td>\n      <td>86.50</td>\n      <td>Arabica</td>\n      <td>Specialty Coffee-Korea</td>\n      <td>Tanzania, United Republic Of</td>\n      <td></td>\n      <td></td>\n      <td></td>\n      <td>A019116</td>\n      <td></td>\n      <td></td>\n      <td>...</td>\n      <td>Bluish-Green</td>\n      <td>1 full defects</td>\n      <td>September 3rd, 2014</td>\n      <td>Specialty Coffee Institute of Asia</td>\n      <td>3F, 259-1 Ulgiro-3-ga, Joong-gu, Seoul, South ...</td>\n      <td>Sung-Yong Steven Kil - 82-10-7912-1456-English...</td>\n      <td></td>\n      <td>None</td>\n      <td></td>\n      <td>None</td>\n    </tr>\n    <tr>\n      <td>32</td>\n      <td>86.42</td>\n      <td>Arabica</td>\n      <td>NUCOFFEE</td>\n      <td>Brazil</td>\n      <td>Fazenda Recreio</td>\n      <td></td>\n      <td></td>\n      <td>002/1251/0068</td>\n      <td>NUCOFFEE</td>\n      <td>1300</td>\n      <td>...</td>\n      <td>Green</td>\n      <td>2 full defects</td>\n      <td>December 2nd, 2012</td>\n      <td>NUCOFFEE</td>\n      <td>Av. Nações Unidas, 18.001 - 5° floor</td>\n      <td>-</td>\n      <td>1300</td>\n      <td>meters</td>\n      <td>1300</td>\n      <td>None</td>\n    </tr>\n    <tr>\n      <td>33</td>\n      <td>86.33</td>\n      <td>Arabica</td>\n      <td>Francisco A Mena</td>\n      <td>Costa Rica</td>\n      <td>Exclusive Coffees S.A.</td>\n      <td></td>\n      <td>Exclusive Coffees S.A,</td>\n      <td>5818009</td>\n      <td>Exclusive Coffees S.A.</td>\n      <td>1300</td>\n      <td>...</td>\n      <td>Blue-Green</td>\n      <td>0 full defects</td>\n      <td>December 2nd, 2016</td>\n      <td>Specialty Coffee Association of Costa Rica</td>\n      <td>Blvd Rohrmoser, de Prisma Dental 200 norte y 2...</td>\n      <td>Noelia Villalobos - (506) 2220 0685</td>\n      <td>1300</td>\n      <td>meters</td>\n      <td>1300</td>\n      <td>None</td>\n    </tr>\n    <tr>\n      <td>34</td>\n      <td>86.25</td>\n      <td>Arabica</td>\n      <td>Hider Abamecha</td>\n      <td>Ethiopia</td>\n      <td>Haider Abamecha Coffee Plantation</td>\n      <td></td>\n      <td>Faysal Abamecha Processing Plant at yebu Town</td>\n      <td>2014/15</td>\n      <td>Haider Abamecha Coffee Export</td>\n      <td>1750-1800</td>\n      <td>...</td>\n      <td>Green</td>\n      <td>3 full defects</td>\n      <td>March 26th, 2016</td>\n      <td>METAD Agricultural Development plc</td>\n      <td>BAWA Center, 3rd Floor (Gerji), Addis Ababa, E...</td>\n      <td>Aman Adinew (Emebet Dinku) - +251-116-292534, ...</td>\n      <td>1750-1800</td>\n      <td>meters</td>\n      <td>1750</td>\n      <td>1800</td>\n    </tr>\n    <tr>\n      <td>35</td>\n      <td>86.25</td>\n      <td>Arabica</td>\n      <td>Daniel Magu</td>\n      <td>Kenya</td>\n      <td>Kangunu</td>\n      <td></td>\n      <td>central kenya coffee mills</td>\n      <td>0</td>\n      <td>C dorman Ltd</td>\n      <td>1800</td>\n      <td>...</td>\n      <td>Blue-Green</td>\n      <td>1 full defects</td>\n      <td>May 30th, 2015</td>\n      <td>Kenya Coffee Traders Association</td>\n      <td>P.O. Box 646 00100Nairobi, Kenya</td>\n      <td>Ivy Sarah Nderitu - +254 786 821 621</td>\n      <td>1800</td>\n      <td>meters</td>\n      <td>1800</td>\n      <td>None</td>\n    </tr>\n    <tr>\n      <td>36</td>\n      <td>86.25</td>\n      <td>Arabica</td>\n      <td>Kona Pacific Farmers Cooperative</td>\n      <td>United States (Hawaii)</td>\n      <td></td>\n      <td></td>\n      <td></td>\n      <td>220452</td>\n      <td>Kona Pacific Farmers Cooperative</td>\n      <td></td>\n      <td>...</td>\n      <td></td>\n      <td>4 full defects</td>\n      <td>April 6th, 2013</td>\n      <td>Specialty Coffee Association</td>\n      <td>117 W 4th St, Suite 300 Santa Ana, CA 92701</td>\n      <td>Chris Buck - (562) 624-4100</td>\n      <td></td>\n      <td>None</td>\n      <td></td>\n      <td>None</td>\n    </tr>\n    <tr>\n      <td>37</td>\n      <td>86.25</td>\n      <td>Arabica</td>\n      <td>Kona Pacific Farmers Cooperative</td>\n      <td>United States (Hawaii)</td>\n      <td>Kona Pacific Farmers Co-Op</td>\n      <td></td>\n      <td></td>\n      <td>HDOA 210128 Kona Fancy</td>\n      <td></td>\n      <td></td>\n      <td>...</td>\n      <td></td>\n      <td>1 full defects</td>\n      <td>January 28th, 2012</td>\n      <td>Specialty Coffee Association</td>\n      <td>117 W 4th St, Suite 300 Santa Ana, CA 92701</td>\n      <td>Chris Buck - (562) 624-4100</td>\n      <td></td>\n      <td>None</td>\n      <td></td>\n      <td>None</td>\n    </tr>\n    <tr>\n      <td>38</td>\n      <td>86.25</td>\n      <td>Arabica</td>\n      <td>Ethiopia Commodity Exchange</td>\n      <td>Ethiopia</td>\n      <td>Phone number | 0911-51-08-01, Email | at</td>\n      <td></td>\n      <td></td>\n      <td>010/0170</td>\n      <td></td>\n      <td></td>\n      <td>...</td>\n      <td></td>\n      <td>2 full defects</td>\n      <td>June 17th, 2011</td>\n      <td>Ethiopia Commodity Exchange</td>\n      <td>Al-Sam Tower 2, 3rd Floor Lideta, Addis Ababa,...</td>\n      <td>- +251 11 554 7001</td>\n      <td></td>\n      <td>None</td>\n      <td></td>\n      <td>None</td>\n    </tr>\n    <tr>\n      <td>39</td>\n      <td>86.17</td>\n      <td>Arabica</td>\n      <td>CQI Q Coffee Sample Representative</td>\n      <td>United States</td>\n      <td>La Primavera</td>\n      <td></td>\n      <td></td>\n      <td>unknown</td>\n      <td>Coffee Quality Institute</td>\n      <td>Meters above sea level: 1.941</td>\n      <td>...</td>\n      <td></td>\n      <td>0 full defects</td>\n      <td>March 12th, 2016</td>\n      <td>Almacafé</td>\n      <td>Calle 73 No. 8-13 Piso 2 Torre B Bogota, Colombia</td>\n      <td>Rodrigo Alarcon - 3136600</td>\n      <td>1941</td>\n      <td>meters</td>\n      <td>1941</td>\n      <td>None</td>\n    </tr>\n    <tr>\n      <td>40</td>\n      <td>86.17</td>\n      <td>Arabica</td>\n      <td>ITDP International</td>\n      <td>Thailand</td>\n      <td>Co-op #12</td>\n      <td></td>\n      <td></td>\n      <td>01-011-512</td>\n      <td>Lanna Cafe</td>\n      <td>1300</td>\n      <td>...</td>\n      <td>Green</td>\n      <td>9 full defects</td>\n      <td>April 12th, 2013</td>\n      <td>Specialty Coffee Association</td>\n      <td>117 W 4th St, Suite 300 Santa Ana, CA 92701</td>\n      <td>Chris Buck - (562) 624-4100</td>\n      <td>1300</td>\n      <td>meters</td>\n      <td>1300</td>\n      <td>None</td>\n    </tr>\n    <tr>\n      <td>41</td>\n      <td>86.17</td>\n      <td>Arabica</td>\n      <td>Jacques Pereira Carneiro</td>\n      <td>Brazil</td>\n      <td>Pereira Estate Coffee</td>\n      <td></td>\n      <td>Cocarive</td>\n      <td>002/1352/0045</td>\n      <td></td>\n      <td>1.2</td>\n      <td>...</td>\n      <td></td>\n      <td>2 full defects</td>\n      <td>January 4th, 2012</td>\n      <td>Specialty Coffee Association</td>\n      <td>117 W 4th St, Suite 300 Santa Ana, CA 92701</td>\n      <td>Chris Buck - (562) 624-4100</td>\n      <td></td>\n      <td>meters</td>\n      <td></td>\n      <td>None</td>\n    </tr>\n    <tr>\n      <td>42</td>\n      <td>86.17</td>\n      <td>Arabica</td>\n      <td>Jacques Pereira Carneiro</td>\n      <td>Brazil</td>\n      <td>Pereira Estate Coffee</td>\n      <td></td>\n      <td>Cocarive</td>\n      <td>002/1352/0045</td>\n      <td></td>\n      <td>1.2</td>\n      <td>...</td>\n      <td></td>\n      <td>3 full defects</td>\n      <td>January 4th, 2012</td>\n      <td>Specialty Coffee Association</td>\n      <td>117 W 4th St, Suite 300 Santa Ana, CA 92701</td>\n      <td>Chris Buck - (562) 624-4100</td>\n      <td></td>\n      <td>meters</td>\n      <td></td>\n      <td>None</td>\n    </tr>\n    <tr>\n      <td>43</td>\n      <td>86.08</td>\n      <td>Arabica</td>\n      <td>Lin, Che-Hao Krude 林哲豪</td>\n      <td>Taiwan</td>\n      <td>Sunshine Valley Estate 向陽高山咖啡</td>\n      <td></td>\n      <td>Sunshine Valley Estate 向陽高山咖啡</td>\n      <td>Taiwan</td>\n      <td>Taiwan Coffee Laboratory</td>\n      <td>1000 M</td>\n      <td>...</td>\n      <td>Green</td>\n      <td>0 full defects</td>\n      <td>June 9th, 2016</td>\n      <td>Specialty Coffee Association</td>\n      <td>117 W 4th St, Suite 300 Santa Ana, CA 92701</td>\n      <td>Chris Buck - (562) 624-4100</td>\n      <td>1000</td>\n      <td>meters</td>\n      <td>1000</td>\n      <td>None</td>\n    </tr>\n    <tr>\n      <td>44</td>\n      <td>86.08</td>\n      <td>Arabica</td>\n      <td>Jungle Estate</td>\n      <td>Kenya</td>\n      <td>JUNGLE ESTATE</td>\n      <td></td>\n      <td>NKG COFFEE MILLS</td>\n      <td>NIL</td>\n      <td>Keremara Limited</td>\n      <td>1754</td>\n      <td>...</td>\n      <td>Bluish-Green</td>\n      <td>2 full defects</td>\n      <td>January 29th, 2016</td>\n      <td>Kenya Coffee Traders Association</td>\n      <td>P.O. Box 646 00100Nairobi, Kenya</td>\n      <td>Ivy Sarah Nderitu - +254 786 821 621</td>\n      <td>1754</td>\n      <td>meters</td>\n      <td>1754</td>\n      <td>None</td>\n    </tr>\n    <tr>\n      <td>45</td>\n      <td>86.08</td>\n      <td>Arabica</td>\n      <td>NUCOFFEE</td>\n      <td>Brazil</td>\n      <td>Fazenda Kaquend</td>\n      <td></td>\n      <td></td>\n      <td>002/1251/0071</td>\n      <td>NUCOFFEE</td>\n      <td>1250m</td>\n      <td>...</td>\n      <td>Blue-Green</td>\n      <td>2 full defects</td>\n      <td>December 2nd, 2012</td>\n      <td>NUCOFFEE</td>\n      <td>Av. Nações Unidas, 18.001 - 5° floor</td>\n      <td>-</td>\n      <td>1250</td>\n      <td>meters</td>\n      <td>1250</td>\n      <td>None</td>\n    </tr>\n    <tr>\n      <td>46</td>\n      <td>86.00</td>\n      <td>Arabica</td>\n      <td>Great Lakes Coffee Uganda</td>\n      <td>Uganda</td>\n      <td>Kaasayi</td>\n      <td></td>\n      <td>Great Lakes</td>\n      <td>0</td>\n      <td>UCDA</td>\n      <td></td>\n      <td>...</td>\n      <td></td>\n      <td>0 full defects</td>\n      <td>October 1st, 2015</td>\n      <td>Uganda Coffee Development Authority</td>\n      <td>Coffee House, Plot 35, Jinja Road, P.O. Box 72...</td>\n      <td>Clare Rwakatogoro - 256-41-256940/233073</td>\n      <td></td>\n      <td>None</td>\n      <td></td>\n      <td>None</td>\n    </tr>\n    <tr>\n      <td>47</td>\n      <td>86.00</td>\n      <td>Arabica</td>\n      <td>LUSSO LAB</td>\n      <td>Colombia</td>\n      <td>Ecobio Colombia</td>\n      <td></td>\n      <td></td>\n      <td>NONE</td>\n      <td>LUSSO COFFEE LAB</td>\n      <td>900-1,500m</td>\n      <td>...</td>\n      <td>Green</td>\n      <td>1 full defects</td>\n      <td>March 20th, 2015</td>\n      <td>Specialty Coffee Association</td>\n      <td>117 W 4th St, Suite 300 Santa Ana, CA 92701</td>\n      <td>Chris Buck - (562) 624-4100</td>\n      <td>900-1500</td>\n      <td>meters</td>\n      <td>900</td>\n      <td>1500</td>\n    </tr>\n    <tr>\n      <td>48</td>\n      <td>86.00</td>\n      <td>Arabica</td>\n      <td>LUSSO LAB</td>\n      <td>Kenya</td>\n      <td>KIANJAVI</td>\n      <td></td>\n      <td></td>\n      <td>NONE</td>\n      <td>LUSSO COFFEE LAB</td>\n      <td>1520m-2200m</td>\n      <td>...</td>\n      <td>Green</td>\n      <td>1 full defects</td>\n      <td>February 6th, 2015</td>\n      <td>Specialty Coffee Association</td>\n      <td>117 W 4th St, Suite 300 Santa Ana, CA 92701</td>\n      <td>Chris Buck - (562) 624-4100</td>\n      <td>1520-2200</td>\n      <td>meters</td>\n      <td>1520</td>\n      <td>2200</td>\n    </tr>\n    <tr>\n      <td>49</td>\n      <td>86.00</td>\n      <td>Arabica</td>\n      <td>AFCA</td>\n      <td>Uganda</td>\n      <td></td>\n      <td></td>\n      <td></td>\n      <td>x</td>\n      <td>Kawacom Ltd</td>\n      <td>1400-1900M</td>\n      <td>...</td>\n      <td>Blue-Green</td>\n      <td>0 full defects</td>\n      <td>February 12th, 2013</td>\n      <td>Africa Fine Coffee Association</td>\n      <td>P.O.Box 27405, Plot 4, Bazarabuza Drive, Bugol...</td>\n      <td>Faith Asaji - +256 414 269 140</td>\n      <td>1400-1900</td>\n      <td>meters</td>\n      <td>1400</td>\n      <td>1900</td>\n    </tr>\n  </tbody>\n</table>\n<p>50 rows × 44 columns</p>\n</div>"
     },
     "metadata": {},
     "execution_count": 21
    }
   ],
   "source": [
    "# Split strings to new columns for upper and lower alts\n",
    "list_split = df2[\"New_Altitude\"].str.split(\"-\", expand = True) \n",
    "df2['Lower_Altitude'] = list_split[0]\n",
    "df2['Upper_Altitude'] = list_split[1]\n",
    "\n",
    "# Check results\n",
    "df2.head(50)"
   ]
  },
  {
   "cell_type": "code",
   "execution_count": 22,
   "metadata": {},
   "outputs": [],
   "source": [
    "df3 = df2.drop(columns=['Altitude', 'New_Altitude', 'ICO Number', 'Species', 'Lot Number', 'Mill'])\n",
    "df3.to_csv('clean_cqi_')"
   ]
  },
  {
   "cell_type": "code",
   "execution_count": 32,
   "metadata": {},
   "outputs": [
    {
     "output_type": "error",
     "ename": "TypeError",
     "evalue": "object of type 'float' has no len()",
     "traceback": [
      "\u001b[1;31m---------------------------------------------------------------------------\u001b[0m",
      "\u001b[1;31mTypeError\u001b[0m                                 Traceback (most recent call last)",
      "\u001b[1;32m<ipython-input-32-3ee099302cea>\u001b[0m in \u001b[0;36m<module>\u001b[1;34m\u001b[0m\n\u001b[0;32m      3\u001b[0m \u001b[1;32mfor\u001b[0m \u001b[0mrow\u001b[0m \u001b[1;32min\u001b[0m \u001b[0mdf3\u001b[0m\u001b[1;33m[\u001b[0m\u001b[1;34m'Harvest Year'\u001b[0m\u001b[1;33m]\u001b[0m\u001b[1;33m:\u001b[0m\u001b[1;33m\u001b[0m\u001b[1;33m\u001b[0m\u001b[0m\n\u001b[0;32m      4\u001b[0m     \u001b[0mcounter\u001b[0m \u001b[1;33m+=\u001b[0m \u001b[1;36m1\u001b[0m\u001b[1;33m\u001b[0m\u001b[1;33m\u001b[0m\u001b[0m\n\u001b[1;32m----> 5\u001b[1;33m     \u001b[1;32mif\u001b[0m \u001b[0mlen\u001b[0m\u001b[1;33m(\u001b[0m\u001b[0mrow\u001b[0m\u001b[1;33m)\u001b[0m \u001b[1;33m!=\u001b[0m \u001b[1;36m4\u001b[0m\u001b[1;33m:\u001b[0m\u001b[1;33m\u001b[0m\u001b[1;33m\u001b[0m\u001b[0m\n\u001b[0m\u001b[0;32m      6\u001b[0m       \u001b[0mdf3\u001b[0m\u001b[1;33m.\u001b[0m\u001b[0miloc\u001b[0m\u001b[1;33m[\u001b[0m\u001b[0mcounter\u001b[0m\u001b[1;33m,\u001b[0m \u001b[1;36m15\u001b[0m\u001b[1;33m]\u001b[0m \u001b[1;33m=\u001b[0m \u001b[1;34m\"\"\u001b[0m\u001b[1;33m\u001b[0m\u001b[1;33m\u001b[0m\u001b[0m\n\u001b[0;32m      7\u001b[0m     \u001b[1;32mif\u001b[0m \u001b[0mrow\u001b[0m \u001b[1;33m==\u001b[0m \u001b[1;34m\"TEST\"\u001b[0m\u001b[1;33m:\u001b[0m\u001b[1;33m\u001b[0m\u001b[1;33m\u001b[0m\u001b[0m\n",
      "\u001b[1;31mTypeError\u001b[0m: object of type 'float' has no len()"
     ]
    }
   ],
   "source": [
    "## Drop all entries that are not in the YYYY format \n",
    "counter =-1\n",
    "for row in df3['Harvest Year']:\n",
    "    counter += 1\n",
    "    if len(row) != 4:\n",
    "      df3.iloc[counter, 15] = \"\"\n",
    "    if row == \"TEST\":\n",
    "      df3.iloc[counter, 15] =\"\""
   ]
  },
  {
   "cell_type": "code",
   "execution_count": 28,
   "metadata": {},
   "outputs": [],
   "source": [
    "df3['Harvest Year']= df3['Harvest Year'].replace(r'^(?![0-9]{4}).*$', np.nan, regex=True)"
   ]
  },
  {
   "cell_type": "code",
   "execution_count": 29,
   "metadata": {},
   "outputs": [
    {
     "output_type": "execute_result",
     "data": {
      "text/plain": "Index(['quality_score', 'Owner', 'Country_of_Origin', 'Farm_Name', 'Company',\n       'Region', 'Producer', 'Number_of_Bags', 'Bag_Weight',\n       'In-Country_Partner', 'Harvest_Year', 'Grading_Date', 'Variety',\n       'Status', 'Processing_Method', 'Aroma', 'Flavor', 'Aftertaste',\n       'Acidity', 'Body', 'Balance', 'Uniformity', 'Clean_Cup', 'Sweetness',\n       'Cupper_Points', 'Total_Cup_Points', 'Moisture', 'Category_One_Defects',\n       'Quakers', 'Color', 'Category_Two_Defects', 'Expiration',\n       'Certification_Body', 'Certification_Address', 'Certification_Contact',\n       'Altitude_Units', 'Lower_Altitude', 'Upper_Altitude'],\n      dtype='object')"
     },
     "metadata": {},
     "execution_count": 29
    }
   ],
   "source": [
    "df3_rename = df3.copy()\n",
    "list = df3_rename.columns\n",
    "                  \n",
    "res = [sub.replace(' ', '_') for sub in list] \n",
    "df3_rename.columns = res\n",
    "df3_rename.columns"
   ]
  },
  {
   "cell_type": "code",
   "execution_count": 30,
   "metadata": {},
   "outputs": [
    {
     "output_type": "execute_result",
     "data": {
      "text/plain": "ID\n0       2014\n1       2014\n2        NaN\n3       2014\n4       2014\n        ... \n1307    2012\n1308    2016\n1309    2012\n1310     NaN\n1311    2017\nName: Harvest_Year, Length: 1312, dtype: object"
     },
     "metadata": {},
     "execution_count": 30
    }
   ],
   "source": [
    "df3_rename['Harvest_Year']"
   ]
  },
  {
   "cell_type": "code",
   "execution_count": 31,
   "metadata": {},
   "outputs": [],
   "source": [
    "df3_rename.to_csv('Final_ArabicaQuality_Cleaned.csv', index = False)"
   ]
  },
  {
   "cell_type": "code",
   "execution_count": null,
   "metadata": {},
   "outputs": [],
   "source": []
  }
 ],
 "metadata": {
  "kernelspec": {
   "display_name": "Python 3",
   "language": "python",
   "name": "python3"
  },
  "language_info": {
   "codemirror_mode": {
    "name": "ipython",
    "version": 3
   },
   "file_extension": ".py",
   "mimetype": "text/x-python",
   "name": "python",
   "nbconvert_exporter": "python",
   "pygments_lexer": "ipython3",
   "version": "3.7.4-final"
  }
 },
 "nbformat": 4,
 "nbformat_minor": 2
}