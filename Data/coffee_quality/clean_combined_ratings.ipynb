{
 "cells": [
  {
   "cell_type": "markdown",
   "metadata": {},
   "source": [
    "## Clean up script for combined_raw\n",
    "Decisions arround data management will be recorded here.\n"
   ]
  },
  {
   "cell_type": "code",
   "execution_count": 1,
   "metadata": {},
   "outputs": [],
   "source": [
    "# Dependencies\n",
    "import pandas as pd\n",
    "import numpy as np\n",
    "import re"
   ]
  },
  {
   "cell_type": "code",
   "execution_count": 3,
   "metadata": {},
   "outputs": [
    {
     "output_type": "execute_result",
     "data": {
      "text/plain": "   Unnamed: 0  quality_score  view_certificate_1  view_certificate_2  \\\n0           0          90.58                 NaN                 NaN   \n1           1          89.92                 NaN                 NaN   \n2           2          89.75                 NaN                 NaN   \n3           3          89.00                 NaN                 NaN   \n4           4          88.83                 NaN                 NaN   \n\n   Cupping Protocol and Descriptors  View Green Analysis Details  \\\n0                               NaN                          NaN   \n1                               NaN                          NaN   \n2                               NaN                          NaN   \n3                               NaN                          NaN   \n4                               NaN                          NaN   \n\n   Request a Sample  Species                     Owner Country of Origin  ...  \\\n0               NaN  Arabica                 metad plc          Ethiopia  ...   \n1               NaN  Arabica                 metad plc          Ethiopia  ...   \n2               NaN  Arabica  Grounds for Health Admin         Guatemala  ...   \n3               NaN  Arabica       Yidnekachew Dabessa          Ethiopia  ...   \n4               NaN  Arabica                 metad plc          Ethiopia  ...   \n\n  Quakers  Color Category Two Defects NA.3        Expiration  \\\n0     0.0  Green       0 full defects  NaN   April 3rd, 2016   \n1     0.0  Green       1 full defects  NaN   April 3rd, 2016   \n2     0.0    NaN       0 full defects  NaN    May 31st, 2011   \n3     0.0  Green       2 full defects  NaN  March 25th, 2016   \n4     0.0  Green       2 full defects  NaN   April 3rd, 2016   \n\n                   Certification Body  \\\n0  METAD Agricultural Development plc   \n1  METAD Agricultural Development plc   \n2        Specialty Coffee Association   \n3  METAD Agricultural Development plc   \n4  METAD Agricultural Development plc   \n\n                               Certification Address  \\\n0  BAWA Center, 3rd Floor (Gerji), Addis Ababa, E...   \n1  BAWA Center, 3rd Floor (Gerji), Addis Ababa, E...   \n2        117 W 4th St, Suite 300 Santa Ana, CA 92701   \n3  BAWA Center, 3rd Floor (Gerji), Addis Ababa, E...   \n4  BAWA Center, 3rd Floor (Gerji), Addis Ababa, E...   \n\n                               Certification Contact  Unnamed: 51 Notes  \n0  Aman Adinew (Emebet Dinku) - +251-116-292534, ...          NaN   NaN  \n1  Aman Adinew (Emebet Dinku) - +251-116-292534, ...          NaN   NaN  \n2                        Chris Buck - (562) 624-4100          NaN   NaN  \n3  Aman Adinew (Emebet Dinku) - +251-116-292534, ...          NaN   NaN  \n4  Aman Adinew (Emebet Dinku) - +251-116-292534, ...          NaN   NaN  \n\n[5 rows x 53 columns]",
      "text/html": "<div>\n<style scoped>\n    .dataframe tbody tr th:only-of-type {\n        vertical-align: middle;\n    }\n\n    .dataframe tbody tr th {\n        vertical-align: top;\n    }\n\n    .dataframe thead th {\n        text-align: right;\n    }\n</style>\n<table border=\"1\" class=\"dataframe\">\n  <thead>\n    <tr style=\"text-align: right;\">\n      <th></th>\n      <th>Unnamed: 0</th>\n      <th>quality_score</th>\n      <th>view_certificate_1</th>\n      <th>view_certificate_2</th>\n      <th>Cupping Protocol and Descriptors</th>\n      <th>View Green Analysis Details</th>\n      <th>Request a Sample</th>\n      <th>Species</th>\n      <th>Owner</th>\n      <th>Country of Origin</th>\n      <th>...</th>\n      <th>Quakers</th>\n      <th>Color</th>\n      <th>Category Two Defects</th>\n      <th>NA.3</th>\n      <th>Expiration</th>\n      <th>Certification Body</th>\n      <th>Certification Address</th>\n      <th>Certification Contact</th>\n      <th>Unnamed: 51</th>\n      <th>Notes</th>\n    </tr>\n  </thead>\n  <tbody>\n    <tr>\n      <td>0</td>\n      <td>0</td>\n      <td>90.58</td>\n      <td>NaN</td>\n      <td>NaN</td>\n      <td>NaN</td>\n      <td>NaN</td>\n      <td>NaN</td>\n      <td>Arabica</td>\n      <td>metad plc</td>\n      <td>Ethiopia</td>\n      <td>...</td>\n      <td>0.0</td>\n      <td>Green</td>\n      <td>0 full defects</td>\n      <td>NaN</td>\n      <td>April 3rd, 2016</td>\n      <td>METAD Agricultural Development plc</td>\n      <td>BAWA Center, 3rd Floor (Gerji), Addis Ababa, E...</td>\n      <td>Aman Adinew (Emebet Dinku) - +251-116-292534, ...</td>\n      <td>NaN</td>\n      <td>NaN</td>\n    </tr>\n    <tr>\n      <td>1</td>\n      <td>1</td>\n      <td>89.92</td>\n      <td>NaN</td>\n      <td>NaN</td>\n      <td>NaN</td>\n      <td>NaN</td>\n      <td>NaN</td>\n      <td>Arabica</td>\n      <td>metad plc</td>\n      <td>Ethiopia</td>\n      <td>...</td>\n      <td>0.0</td>\n      <td>Green</td>\n      <td>1 full defects</td>\n      <td>NaN</td>\n      <td>April 3rd, 2016</td>\n      <td>METAD Agricultural Development plc</td>\n      <td>BAWA Center, 3rd Floor (Gerji), Addis Ababa, E...</td>\n      <td>Aman Adinew (Emebet Dinku) - +251-116-292534, ...</td>\n      <td>NaN</td>\n      <td>NaN</td>\n    </tr>\n    <tr>\n      <td>2</td>\n      <td>2</td>\n      <td>89.75</td>\n      <td>NaN</td>\n      <td>NaN</td>\n      <td>NaN</td>\n      <td>NaN</td>\n      <td>NaN</td>\n      <td>Arabica</td>\n      <td>Grounds for Health Admin</td>\n      <td>Guatemala</td>\n      <td>...</td>\n      <td>0.0</td>\n      <td>NaN</td>\n      <td>0 full defects</td>\n      <td>NaN</td>\n      <td>May 31st, 2011</td>\n      <td>Specialty Coffee Association</td>\n      <td>117 W 4th St, Suite 300 Santa Ana, CA 92701</td>\n      <td>Chris Buck - (562) 624-4100</td>\n      <td>NaN</td>\n      <td>NaN</td>\n    </tr>\n    <tr>\n      <td>3</td>\n      <td>3</td>\n      <td>89.00</td>\n      <td>NaN</td>\n      <td>NaN</td>\n      <td>NaN</td>\n      <td>NaN</td>\n      <td>NaN</td>\n      <td>Arabica</td>\n      <td>Yidnekachew Dabessa</td>\n      <td>Ethiopia</td>\n      <td>...</td>\n      <td>0.0</td>\n      <td>Green</td>\n      <td>2 full defects</td>\n      <td>NaN</td>\n      <td>March 25th, 2016</td>\n      <td>METAD Agricultural Development plc</td>\n      <td>BAWA Center, 3rd Floor (Gerji), Addis Ababa, E...</td>\n      <td>Aman Adinew (Emebet Dinku) - +251-116-292534, ...</td>\n      <td>NaN</td>\n      <td>NaN</td>\n    </tr>\n    <tr>\n      <td>4</td>\n      <td>4</td>\n      <td>88.83</td>\n      <td>NaN</td>\n      <td>NaN</td>\n      <td>NaN</td>\n      <td>NaN</td>\n      <td>NaN</td>\n      <td>Arabica</td>\n      <td>metad plc</td>\n      <td>Ethiopia</td>\n      <td>...</td>\n      <td>0.0</td>\n      <td>Green</td>\n      <td>2 full defects</td>\n      <td>NaN</td>\n      <td>April 3rd, 2016</td>\n      <td>METAD Agricultural Development plc</td>\n      <td>BAWA Center, 3rd Floor (Gerji), Addis Ababa, E...</td>\n      <td>Aman Adinew (Emebet Dinku) - +251-116-292534, ...</td>\n      <td>NaN</td>\n      <td>NaN</td>\n    </tr>\n  </tbody>\n</table>\n<p>5 rows × 53 columns</p>\n</div>"
     },
     "metadata": {},
     "execution_count": 3
    }
   ],
   "source": [
    "# Read CSV into pandas dataframe.\n",
    "df = pd.read_csv('combined_raw.csv')\n",
    "df.head()"
   ]
  },
  {
   "cell_type": "code",
   "execution_count": 4,
   "metadata": {},
   "outputs": [
    {
     "output_type": "execute_result",
     "data": {
      "text/plain": "Index(['quality_score', 'Species', 'Owner', 'Country of Origin', 'Farm Name',\n       'Lot Number', 'Mill', 'ICO Number', 'Company', 'Altitude', 'Region',\n       'Producer', 'Number of Bags', 'Bag Weight', 'In-Country Partner',\n       'Harvest Year', 'Grading Date', 'Variety', 'Status',\n       'Processing Method', 'Aroma', 'Flavor', 'Aftertaste', 'Acidity', 'Body',\n       'Balance', 'Uniformity', 'Clean Cup', 'Sweetness', 'Cupper Points',\n       'Total Cup Points', 'Moisture', 'Category One Defects', 'Quakers',\n       'Color', 'Category Two Defects', 'Expiration', 'Certification Body',\n       'Certification Address', 'Certification Contact'],\n      dtype='object')"
     },
     "metadata": {},
     "execution_count": 4
    }
   ],
   "source": [
    "## Drop columns, view_certificate_1, view_certificate_2, Cupping Protocol and Descriptors, View Green Analysis Details, Request a Sample. No data\n",
    "\n",
    "df1 = df.drop(columns =['Unnamed: 0','Owner.1','NA','Unnamed: 51','Notes','view_certificate_1','view_certificate_2','Cupping Protocol and Descriptors','View Green Analysis Details','Request a Sample','NA.1','NA.2','NA.3'])\n",
    "df1.columns"
   ]
  },
  {
   "cell_type": "code",
   "execution_count": 5,
   "metadata": {},
   "outputs": [],
   "source": [
    "## Scan for N/A and convert to blank\n",
    "## Count number of blanks per column \n",
    "df1=df1.replace('n/a',\"\",regex=True)\n",
    "df1=df1.replace(np.nan,\"\",regex=True)\n"
   ]
  },
  {
   "cell_type": "code",
   "execution_count": 6,
   "metadata": {},
   "outputs": [],
   "source": [
    "df1.index.name = 'ID'\n"
   ]
  },
  {
   "cell_type": "code",
   "execution_count": 7,
   "metadata": {},
   "outputs": [
    {
     "output_type": "execute_result",
     "data": {
      "text/plain": "quality_score              int32\nSpecies                   object\nOwner                     object\nCountry of Origin         object\nFarm Name                 object\nLot Number                object\nMill                      object\nICO Number                object\nCompany                   object\nAltitude                  object\nRegion                    object\nProducer                  object\nNumber of Bags             int64\nBag Weight                object\nIn-Country Partner        object\nHarvest Year              object\nGrading Date              object\nVariety                   object\nStatus                    object\nProcessing Method         object\nAroma                    float64\nFlavor                   float64\nAftertaste               float64\nAcidity                  float64\nBody                     float64\nBalance                  float64\nUniformity               float64\nClean Cup                float64\nSweetness                float64\nCupper Points            float64\nTotal Cup Points          object\nMoisture                  object\nCategory One Defects      object\nQuakers                   object\nColor                     object\nCategory Two Defects      object\nExpiration                object\nCertification Body        object\nCertification Address     object\nCertification Contact     object\ndtype: object"
     },
     "metadata": {},
     "execution_count": 7
    }
   ],
   "source": [
    "## quality score convert to int\n",
    "df1.astype({'quality_score':'int32'}).dtypes"
   ]
  },
  {
   "cell_type": "code",
   "execution_count": 8,
   "metadata": {},
   "outputs": [],
   "source": [
    "df2 = df1.copy()\n",
    "df3 = df1.copy()"
   ]
  },
  {
   "cell_type": "code",
   "execution_count": 9,
   "metadata": {},
   "outputs": [],
   "source": [
    "## remove lbs/kgs before counter\n",
    "counter = -1\n",
    "        \n",
    "for row in df3['Bag Weight']:\n",
    "   counter += 1\n",
    "   if \"kg\" in row and \"lbs\" in row:\n",
    "        df3.iloc[counter, 13] = \"\""
   ]
  },
  {
   "cell_type": "code",
   "execution_count": 10,
   "metadata": {},
   "outputs": [],
   "source": [
    "## list keeping track of cells with lbs for conversion later\n",
    "counter = 0\n",
    "idx_lst = []\n",
    "for idx, row in enumerate(df3['Bag Weight']):\n",
    "    if \"lbs\" in row:\n",
    "        counter += 1\n",
    "\n",
    "        idx_lst.append(idx)"
   ]
  },
  {
   "cell_type": "code",
   "execution_count": 11,
   "metadata": {},
   "outputs": [],
   "source": [
    "counter = -1\n",
    "        \n",
    "for row in df2['Bag Weight']:\n",
    "   counter += 1\n",
    "   if \"kg\" in row and \"lbs\" in row: \n",
    "        df2.iloc[counter, 13] = 0"
   ]
  },
  {
   "cell_type": "code",
   "execution_count": 12,
   "metadata": {
    "tags": [
     "outputPrepend"
    ]
   },
   "outputs": [],
   "source": [
    "## Bag Weight convert to all kg. Drop all letters and make int\n",
    "# if the cell has lbs and kg make the cell empty\n",
    "\n",
    "counter = -1\n",
    "        \n",
    "for row in df2['Bag Weight']:\n",
    "   counter += 1\n",
    "   if row ==0:\n",
    "       continue\n",
    "   if \"kg\" in row:\n",
    "        fixed = re.sub(r'[a-z]+','',row,re.I) \n",
    "        df2.iloc[counter, 13] = fixed\n",
    "   if \"lbs\" in row:\n",
    "        fixed= re.sub(r'[a-z]+','',row,re.I)\n",
    "        df2.iloc[counter, 13] = fixed\n"
   ]
  },
  {
   "cell_type": "code",
   "execution_count": 14,
   "metadata": {},
   "outputs": [],
   "source": [
    "#type conversion\n",
    "\n",
    "df2['Bag Weight'] = df2['Bag Weight'].astype(int)"
   ]
  },
  {
   "cell_type": "code",
   "execution_count": 15,
   "metadata": {},
   "outputs": [],
   "source": [
    "## convert lbs to kg\n",
    "for i in idx_lst:\n",
    "   df2.iloc[i,13]=df2.iloc[i,13]*.453592\n",
    "\n"
   ]
  },
  {
   "cell_type": "markdown",
   "metadata": {},
   "source": [
    "## Altitude String Observations\n",
    "\n",
    "### Observed\n",
    "1. Since this data collects from bilingual participants, abbreviations differ. \n",
    "    - MSNM: Spanish — meters above sea level\n",
    "    - MASL: English — meters above sea level\n",
    "    - F: English — feet\n",
    "    - 公尺: Chinese — meter\n",
    "2. There is the appearance of ranges (i.e. 640m-1400m).\n",
    "    - This is difficult because it requires making a decision about the data. Maybe we set the data for ranges in separate columns.\n",
    "    \n",
    "### Conclusions\n",
    "The majority of the data is in meters, so it will be our goal to convert all values to meters, therefore:\n",
    "1. First, cleaned of any debris (non-values).\n",
    "2. Second, the data must be sorted to find values that are not meters and convert them.\n",
    "3. Third, the data must be split by lower and upper ranges.\n",
    "\n",
    "### Results\n",
    "After printing using a for loop and if statements, it was discovered:\n",
    "<br>\n",
    " - 'm' is present 360 times. <br>\n",
    " - 'f' is present 26 times. <br>\n",
    " - Otherwise, a number is present 700 times. <br>\n",
    " - Garbage present 226 times. <br> <br>\n",
    "\n",
    "Total count: 1312 <br>\n",
    "Expected count: 1312"
   ]
  },
  {
   "cell_type": "code",
   "execution_count": 16,
   "metadata": {},
   "outputs": [],
   "source": [
    "# Get length of index for reference\n",
    "len_index = len(df2.index)"
   ]
  },
  {
   "cell_type": "markdown",
   "metadata": {},
   "source": [
    "## Cleaning Altitude Code\n",
    "The following code iterates over each element in 'Altitude' and checks it against some rules. Does it contain 'm' for meter, 'f' for foot, neither? Once checked, it appends a corrected string into a corresponding new column for replacement."
   ]
  },
  {
   "cell_type": "code",
   "execution_count": 17,
   "metadata": {
    "scrolled": true,
    "tags": [
     "outputPrepend"
    ]
   },
   "outputs": [
    {
     "output_type": "stream",
     "name": "stdout",
     "text": "      -------------------------\n                \n\n                    Digit result: 1400 meters\n                    Non-digit result: \n                    \n\n                ---(String Conversion 3)---\n                Working on [1200]\n                -------------------------\n                \n\n                    Digit result: 1200 meters\n                    Non-digit result: \n                    \n\n                ---(String Conversion 3)---\n                Working on [1500]\n                -------------------------\n                \n\n                    Digit result: 1500 meters\n                    Non-digit result: \n                    \n\n        ---(String Conversion 1)---\n        Working on [4000 P.S.N.M]\n        -------------------------\n        \n\n        Digit result: 4000 meters\n        Non-digit result:  P.S.N.M\n        \n\n                ---(String Conversion 3)---\n                Working on [4300]\n                -------------------------\n                \n\n                    Digit result: 4300 feet\n                    Non-digit result: \n                    \n\n                ---(String Conversion 3)---\n                Working on [1300]\n                -------------------------\n                \n\n                    Digit result: 1300 meters\n                    Non-digit result: \n                    \n\n                ---(String Conversion 3)---\n                Working on [1300]\n                -------------------------\n                \n\n                    Digit result: 1300 meters\n                    Non-digit result: \n                    \n\n                ---(String Conversion 3)---\n                Working on [1050]\n                -------------------------\n                \n\n                    Digit result: 1050 meters\n                    Non-digit result: \n                    \n\n                ---(String Conversion 3)---\n                Working on [650]\n                -------------------------\n                \n\n                    Digit result: 650 meters\n                    Non-digit result: \n                    \n\n                ---(String Conversion 3)---\n                Working on [1350]\n                -------------------------\n                \n\n                    Digit result: 1350 meters\n                    Non-digit result: \n                    \n\n        ---(String Conversion 1)---\n        Working on [4000 P.S.N.M]\n        -------------------------\n        \n\n        Digit result: 4000 meters\n        Non-digit result:  P.S.N.M\n        \n\n        ---(String Conversion 1)---\n        Working on [1200 meters]\n        -------------------------\n        \n\n        Digit result: 1200 meters\n        Non-digit result:  meters\n        \n\n                ---(String Conversion 3)---\n                Working on [4300]\n                -------------------------\n                \n\n                    Digit result: 4300 feet\n                    Non-digit result: \n                    \n\n                ---(String Conversion 3)---\n                Working on [850]\n                -------------------------\n                \n\n                    Digit result: 850 meters\n                    Non-digit result: \n                    \n\n        ---(String Conversion 1)---\n        Working on [1200 msm]\n        -------------------------\n        \n\n        Digit result: 1200 meters\n        Non-digit result:  msm\n        \n\n                ---(String Conversion 3)---\n                Working on [1248]\n                -------------------------\n                \n\n                    Digit result: 1248 meters\n                    Non-digit result: \n                    \n\n                ---(String Conversion 3)---\n                Working on [1000]\n                -------------------------\n                \n\n                    Digit result: 1000 meters\n                    Non-digit result: \n                    \n\n                ---(String Conversion 3)---\n                Working on [4300]\n                -------------------------\n                \n\n                    Digit result: 4300 feet\n                    Non-digit result: \n                    \n\n        ---(String Conversion 1)---\n        Working on [750-800 M]\n        -------------------------\n        \n\n        Digit result: 750-800 meters\n        Non-digit result:  M\n        \n\n                ---(String Conversion 3)---\n                Working on [1300]\n                -------------------------\n                \n\n                    Digit result: 1300 meters\n                    Non-digit result: \n                    \n\n                ---(String Conversion 3)---\n                Working on [4300]\n                -------------------------\n                \n\n                    Digit result: 4300 feet\n                    Non-digit result: \n                    \n\n                ---(String Conversion 3)---\n                Working on [890]\n                -------------------------\n                \n\n                    Digit result: 890 meters\n                    Non-digit result: \n                    \n\n        ---(String Conversion 1)---\n        Working on [4000 P.S.N.M.]\n        -------------------------\n        \n\n        Digit result: 4000 meters\n        Non-digit result:  P.S.N.M.\n        \n\n                ---(String Conversion 3)---\n                Working on [1500]\n                -------------------------\n                \n\n                    Digit result: 1500 meters\n                    Non-digit result: \n                    \n\n        ---(String Conversion 1)---\n        Working on [400-1250m]\n        -------------------------\n        \n\n        Digit result: 400-1250 meters\n        Non-digit result: m\n        \n\n                ---(String Conversion 3)---\n                Working on [1200]\n                -------------------------\n                \n\n                    Digit result: 1200 meters\n                    Non-digit result: \n                    \n\n        ---(String Conversion 1)---\n        Working on [900-1500 masl]\n        -------------------------\n        \n\n        Digit result: 900-1500 meters\n        Non-digit result:  masl\n        \n\n        ---(String Conversion 1)---\n        Working on [1200 m]\n        -------------------------\n        \n\n        Digit result: 1200 meters\n        Non-digit result:  m\n        \n\n                ---(String Conversion 3)---\n                Working on [1100]\n                -------------------------\n                \n\n                    Digit result: 1100 meters\n                    Non-digit result: \n                    \n\n                ---(String Conversion 3)---\n                Working on [4300]\n                -------------------------\n                \n\n                    Digit result: 4300 feet\n                    Non-digit result: \n                    \n\n                ---(String Conversion 3)---\n                Working on [1400]\n                -------------------------\n                \n\n                    Digit result: 1400 meters\n                    Non-digit result: \n                    \n\n                ---(String Conversion 3)---\n                Working on [3500]\n                -------------------------\n                \n\n                    Digit result: 3500 feet\n                    Non-digit result: \n                    \n\n                ---(String Conversion 3)---\n                Working on [1250]\n                -------------------------\n                \n\n                    Digit result: 1250 meters\n                    Non-digit result: \n                    \n\n                ---(String Conversion 3)---\n                Working on [1350]\n                -------------------------\n                \n\n                    Digit result: 1350 meters\n                    Non-digit result: \n                    \n\n        ---(String Conversion 1)---\n        Working on [1000+ meters]\n        -------------------------\n        \n\n        Digit result: 1000 meters\n        Non-digit result: + meters\n        \n\n                ---(String Conversion 3)---\n                Working on [4300]\n                -------------------------\n                \n\n                    Digit result: 4300 feet\n                    Non-digit result: \n                    \n\n                ---(String Conversion 3)---\n                Working on [1100]\n                -------------------------\n                \n\n                    Digit result: 1100 meters\n                    Non-digit result: \n                    \n\n                ---(String Conversion 3)---\n                Working on [1200]\n                -------------------------\n                \n\n                    Digit result: 1200 meters\n                    Non-digit result: \n                    \n\n                ---(String Conversion 3)---\n                Working on [1100]\n                -------------------------\n                \n\n                    Digit result: 1100 meters\n                    Non-digit result: \n                    \n\n                ---(String Conversion 3)---\n                Working on [1280]\n                -------------------------\n                \n\n                    Digit result: 1280 meters\n                    Non-digit result: \n                    \n\n                ---(String Conversion 3)---\n                Working on [850]\n                -------------------------\n                \n\n                    Digit result: 850 meters\n                    Non-digit result: \n                    \n\n                ---(String Conversion 3)---\n                Working on [1500]\n                -------------------------\n                \n\n                    Digit result: 1500 meters\n                    Non-digit result: \n                    \n\n                ---(String Conversion 3)---\n                Working on [1250]\n                -------------------------\n                \n\n                    Digit result: 1250 meters\n                    Non-digit result: \n                    \n\n                ---(String Conversion 3)---\n                Working on [1700]\n                -------------------------\n                \n\n                    Digit result: 1700 meters\n                    Non-digit result: \n                    \n\n                ---(String Conversion 3)---\n                Working on [4300]\n                -------------------------\n                \n\n                    Digit result: 4300 feet\n                    Non-digit result: \n                    \n\n                ---(String Conversion 3)---\n                Working on [1140]\n                -------------------------\n                \n\n                    Digit result: 1140 meters\n                    Non-digit result: \n                    \n\n                ---(String Conversion 3)---\n                Working on [1200]\n                -------------------------\n                \n\n                    Digit result: 1200 meters\n                    Non-digit result: \n                    \n\n                ---(String Conversion 3)---\n                Working on [1250]\n                -------------------------\n                \n\n                    Digit result: 1250 meters\n                    Non-digit result: \n                    \n\n                ---(String Conversion 3)---\n                Working on [1350]\n                -------------------------\n                \n\n                    Digit result: 1350 meters\n                    Non-digit result: \n                    \n\n        ---(String Conversion 1)---\n        Working on [1,200 meters]\n        -------------------------\n        \n\n        Digit result: 1200 meters\n        Non-digit result: , meters\n        \n\n        ---(String Conversion 1)---\n        Working on [640m-1400m]\n        -------------------------\n        \n\n        Digit result: 640-1400 meters\n        Non-digit result: mm\n        \n\n        ---(String Conversion 1)---\n        Working on [1200 msm]\n        -------------------------\n        \n\n        Digit result: 1200 meters\n        Non-digit result:  msm\n        \n\n                ---(String Conversion 3)---\n                Working on [800]\n                -------------------------\n                \n\n                    Digit result: 800 meters\n                    Non-digit result: \n                    \n\n                ---(String Conversion 3)---\n                Working on [1800]\n                -------------------------\n                \n\n                    Digit result: 1800 meters\n                    Non-digit result: \n                    \n\n        ---(String Conversion 1)---\n        Working on [1,000 meters]\n        -------------------------\n        \n\n        Digit result: 1000 meters\n        Non-digit result: , meters\n        \n\n        ---(String Conversion 1)---\n        Working on [1450 msnm]\n        -------------------------\n        \n\n        Digit result: 1450 meters\n        Non-digit result:  msnm\n        \n\n        ---(String Conversion 1)---\n        Working on [1450 msnm]\n        -------------------------\n        \n\n        Digit result: 1450 meters\n        Non-digit result:  msnm\n        \n\n        ---(String Conversion 1)---\n        Working on [1450 msnm]\n        -------------------------\n        \n\n        Digit result: 1450 meters\n        Non-digit result:  msnm\n        \n\n                ---(String Conversion 3)---\n                Working on [900]\n                -------------------------\n                \n\n                    Digit result: 900 meters\n                    Non-digit result: \n                    \n\n        ---(String Conversion 1)---\n        Working on [~350m]\n        -------------------------\n        \n\n        Digit result: 350 meters\n        Non-digit result: ~m\n        \n\n                ---(String Conversion 3)---\n                Working on [1100]\n                -------------------------\n                \n\n                    Digit result: 1100 meters\n                    Non-digit result: \n                    \n\n                ---(String Conversion 3)---\n                Working on [4650]\n                -------------------------\n                \n\n                    Digit result: 4650 feet\n                    Non-digit result: \n                    \n\n                ---(String Conversion 3)---\n                Working on [1400]\n                -------------------------\n                \n\n                    Digit result: 1400 meters\n                    Non-digit result: \n                    \n\n                ---(String Conversion 3)---\n                Working on [1488]\n                -------------------------\n                \n\n                    Digit result: 1488 meters\n                    Non-digit result: \n                    \n\n                ---(String Conversion 3)---\n                Working on [3170]\n                -------------------------\n                \n\n                    Digit result: 3170 feet\n                    Non-digit result: \n                    \n\n        ---(String Conversion 1)---\n        Working on [1000m]\n        -------------------------\n        \n\n        Digit result: 1000 meters\n        Non-digit result: m\n        \n\n                ---(String Conversion 3)---\n                Working on [1212]\n                -------------------------\n                \n\n                    Digit result: 1212 meters\n                    Non-digit result: \n                    \n\n                ---(String Conversion 3)---\n                Working on [1200-1300]\n                -------------------------\n                \n!!! — Converted range: [1200-1300 meters]\n\n                ---(String Conversion 3)---\n                Working on [3,000']\n                -------------------------\n                \n\n                    Digit result: 3000 meters\n                    Non-digit result: ,'\n                    \n\n        ---(String Conversion 1)---\n        Working on [750m]\n        -------------------------\n        \n\n        Digit result: 750 meters\n        Non-digit result: m\n        \n\n                ---(String Conversion 3)---\n                Working on [3140]\n                -------------------------\n                \n\n                    Digit result: 3140 feet\n                    Non-digit result: \n                    \n\n                ---(String Conversion 3)---\n                Working on [1000]\n                -------------------------\n                \n\n                    Digit result: 1000 meters\n                    Non-digit result: \n                    \n\n                ---(String Conversion 3)---\n                Working on [900-1300]\n                -------------------------\n                \n!!! — Converted range: [900-1300 meters]\n\n                ---(String Conversion 3)---\n                Working on [1095]\n                -------------------------\n                \n\n                    Digit result: 1095 meters\n                    Non-digit result: \n                    \n\n                ---(String Conversion 3)---\n                Working on [1000]\n                -------------------------\n                \n\n                    Digit result: 1000 meters\n                    Non-digit result: \n                    \n\n        ---(String Conversion 1)---\n        Working on [750m]\n        -------------------------\n        \n\n        Digit result: 750 meters\n        Non-digit result: m\n        \n\n                ---(String Conversion 3)---\n                Working on [1367]\n                -------------------------\n                \n\n                    Digit result: 1367 meters\n                    Non-digit result: \n                    \n\n                ---(String Conversion 3)---\n                Working on [1488]\n                -------------------------\n                \n\n                    Digit result: 1488 meters\n                    Non-digit result: \n                    \n\n        ---(String Conversion 1)---\n        Working on [1000m]\n        -------------------------\n        \n\n        Digit result: 1000 meters\n        Non-digit result: m\n        \n\n        ---(String Conversion 1)---\n        Working on [750m]\n        -------------------------\n        \n\n        Digit result: 750 meters\n        Non-digit result: m\n        \n\n                ---(String Conversion 3)---\n                Working on [1600]\n                -------------------------\n                \n\n                    Digit result: 1600 meters\n                    Non-digit result: \n                    \n\n                ---(String Conversion 3)---\n                Working on [1745]\n                -------------------------\n                \n\n                    Digit result: 1745 meters\n                    Non-digit result: \n                    \n\n                ---(String Conversion 3)---\n                Working on [1200]\n                -------------------------\n                \n\n                    Digit result: 1200 meters\n                    Non-digit result: \n                    \n\n        ---(String Conversion 1)---\n        Working on [750m]\n        -------------------------\n        \n\n        Digit result: 750 meters\n        Non-digit result: m\n        \n\n        ---(String Conversion 1)---\n        Working on [750m]\n        -------------------------\n        \n\n        Digit result: 750 meters\n        Non-digit result: m\n        \n\n                ---(String Conversion 3)---\n                Working on [3,000']\n                -------------------------\n                \n\n                    Digit result: 3000 meters\n                    Non-digit result: ,'\n                    \n\n                ---(String Conversion 3)---\n                Working on [40]\n                -------------------------\n                \n\n                    Digit result: 40 meters\n                    Non-digit result: \n                    \n\n        ---(String Conversion 1)---\n        Working on [795 meters]\n        -------------------------\n        \n\n        Digit result: 795 meters\n        Non-digit result:  meters\n        \n----- SUCCESS -----\n\nMeters is present 362 times.\nFeet is present 26 times.\nOtherwise, number is present 724 times.\nGarbage present 228 times.\n---\nProcess count: 1340\nCanon count (canon_col): 1340\nExpected count: 1340\n\n"
    }
   ],
   "source": [
    "##Fix altitude data\n",
    "\n",
    "# Function for checking string for number\n",
    "def hasNumbers(inputString):\n",
    "    return any(char.isdigit() for char in inputString)\n",
    "\n",
    "# Assign alt column to variable (as series)\n",
    "alt = df2['Altitude']\n",
    "count_y = 0\n",
    "count_y_num = 0\n",
    "count_y_f = 0\n",
    "count_garb = 0\n",
    "\n",
    "str_meter = []\n",
    "str_feet = []\n",
    "str_garb = []\n",
    "str_num = []\n",
    "\n",
    "# New column for appending\n",
    "canon_col = []\n",
    "\n",
    "for idx, elt in enumerate(alt):\n",
    "    # if element contains m (suggesting meters)\n",
    "    if 'm' in elt.lower() or '公尺' in elt.lower():\n",
    "        count_y += 1\n",
    "        \n",
    "        ### --- Begin Canonincalizing --- ###\n",
    "        elt_new = \"\"\n",
    "        elt_garb = \"\"\n",
    "\n",
    "        # Print for user\n",
    "        print(f\"\"\"\n",
    "        ---(String Conversion 1)---\n",
    "        Working on [{elt}]\n",
    "        -------------------------\n",
    "        \"\"\")\n",
    "\n",
    "        # Itertate over each character in a string\n",
    "        for char in elt:\n",
    "\n",
    "            # If character is numeric, add to new string in elt\n",
    "            if char.isdigit() or \"-\" in char:\n",
    "                elt_new += char\n",
    "\n",
    "            # If not, add to garbage variable\n",
    "            else:\n",
    "                elt_garb += char\n",
    "\n",
    "        elt_new = elt_new + \" meters\"\n",
    "\n",
    "        print(f\"\"\"\n",
    "        Digit result: {elt_new}\n",
    "        Non-digit result: {elt_garb}\n",
    "        \"\"\")\n",
    "\n",
    "        # Append canon_col with new string\n",
    "        canon_col.append(elt_new)\n",
    "\n",
    "        ### --- End Canonicalizing --- ###\n",
    "        \n",
    "    # if not, it must be a different type\n",
    "    else:\n",
    "        \n",
    "        # if element has numbers, what kind?\n",
    "        if hasNumbers(elt):\n",
    "            \n",
    "            # are they feet?\n",
    "            if 'f' in elt.lower():\n",
    "                count_y_f += 1\n",
    "                str_feet.append(elt)\n",
    "                \n",
    "                ### --- Begin Canonincalizing --- ###\n",
    "                elt_new = \"\"\n",
    "                elt_garb = \"\"\n",
    "\n",
    "                # Print for user\n",
    "                print(f\"\"\"\n",
    "                ---(String Conversion 2)---\n",
    "                Working on [{elt}]\n",
    "                -------------------------\n",
    "                \"\"\")\n",
    "\n",
    "                # Itertate over each character in a string\n",
    "                for char in elt:\n",
    "\n",
    "                    # If character is numeric, add to new string in elt\n",
    "                    if char.isdigit() or \"-\" in char:\n",
    "                        elt_new += char\n",
    "\n",
    "                    # If not, add to garbage variable\n",
    "                    else:\n",
    "                        elt_garb += char\n",
    "                        \n",
    "                elt_new = elt_new + \" feet\"\n",
    "\n",
    "                print(f\"\"\"\n",
    "                Digit result: {elt_new}\n",
    "                Non-digit result: {elt_garb}\n",
    "                \"\"\")\n",
    "                \n",
    "                # Append canon_col with new string\n",
    "                canon_col.append(elt_new)\n",
    "                \n",
    "                ### --- End Canonicalizing --- ###\n",
    "                \n",
    "            # are they other?\n",
    "            if 'f' not in elt.lower():\n",
    "                count_y_num += 1\n",
    "                \n",
    "                ### --- Begin Canonincalizing --- ###\n",
    "                elt_new = \"\"\n",
    "                elt_garb = \"\"\n",
    "\n",
    "                # Print for user\n",
    "                print(f\"\"\"\n",
    "                ---(String Conversion 3)---\n",
    "                Working on [{elt}]\n",
    "                -------------------------\n",
    "                \"\"\")\n",
    "\n",
    "                # Itertate over each character in a string\n",
    "                for char in elt:\n",
    "\n",
    "                    # If character is numeric, add to new string in elt\n",
    "                    if char.isdigit() or \"-\" in char:\n",
    "                        elt_new += char\n",
    "\n",
    "                    # If not, add to garbage variable\n",
    "                    else:\n",
    "                        elt_garb += char\n",
    "               \n",
    "                # Try checking if value is metric\n",
    "                try:\n",
    "                    if int(elt_new) > 3000:\n",
    "                        elt_new = elt_new + \" feet\"\n",
    "                    else:\n",
    "                        elt_new = elt_new + \" meters\"\n",
    "                    print(f\"\"\"\n",
    "                    Digit result: {elt_new}\n",
    "                    Non-digit result: {elt_garb}\n",
    "                    \"\"\")\n",
    "                    \n",
    "                # On values that error, add 'range'\n",
    "                except:\n",
    "                    \n",
    "                    # Split this range into list with (2 elements)\n",
    "                    list = elt_new.split(\"-\", 1)\n",
    "                    # Is the larger number meters?\n",
    "                    if int(list[1]) > 3000:\n",
    "                        elt_new = elt_new + \" feet\"\n",
    "                    else:\n",
    "                        elt_new = elt_new + \" meters\"\n",
    "\n",
    "                    print(f\"!!! — Converted range: [{elt_new}]\")\n",
    "\n",
    "                \n",
    "                # Append canon_col with new string\n",
    "                canon_col.append(elt_new)\n",
    "                \n",
    "                ### --- End Canonicalizing --- ###\n",
    "        else:\n",
    "            count_garb += 1\n",
    "            canon_col.append(elt)\n",
    "\n",
    "q_sum = count_y+count_y_f+count_y_num+count_garb\n",
    "\n",
    "if q_sum != len_index or len(canon_col) != len_index:\n",
    "    print(\"ERROR\")\n",
    "else:\n",
    "    print(\"----- SUCCESS -----\")\n",
    "            \n",
    "print(f\"\"\"\n",
    "Meters is present {count_y} times.\n",
    "Feet is present {count_y_f} times.\n",
    "Otherwise, number is present {count_y_num} times.\n",
    "Garbage present {count_garb} times.\n",
    "---\n",
    "Process count: {count_y+count_y_f+count_y_num+count_garb}\n",
    "Canon count (canon_col): {len(canon_col)}\n",
    "Expected count: {len_index}\n",
    "\"\"\")"
   ]
  },
  {
   "cell_type": "code",
   "execution_count": 18,
   "metadata": {
    "scrolled": true
   },
   "outputs": [],
   "source": [
    "# Split strings to new columns for units\n",
    "df2['New_Altitude'] = canon_col\n",
    "list_split = df2[\"New_Altitude\"].str.split(\" \", expand = True) \n",
    "df2['New_Altitude'] = list_split[0]\n",
    "df2['Altitude_Units'] = list_split[1]"
   ]
  },
  {
   "cell_type": "code",
   "execution_count": 19,
   "metadata": {},
   "outputs": [
    {
     "output_type": "stream",
     "name": "stdout",
     "text": "1950-2200\n1950-2200\n1600-1800\n1800-2200\n1950-2200\n\n\n1570-1700\n1570-1700\n1795-1850\n1855-1955\n1872\n1943\n2000\n1570-1700\n2080\n1200-1800\n\n1450\n1700-2000\n2019\n1300\n1320\n2112\n\n1250\n\n1950\n1400\n1200\n\n\n1300\n1300\n1750-1800\n1800\n\n\n\n1941\n1300\n12\n12\n1000\n1754\n1250\n\n900-1500\n1520-2200\n1400-1900\n1500-2000\n1400\n\n1400-1900\n1800\n1600\n1800-2000\n5000\n4650\n\n\n1700\n1500\n13001400\n\n1680\n1900\n1800-2000\n1600\n5600-5760\n1800-2000\n1950\n\n1250\n1400\n1700\n1770\n1300\n1300\n1600\n1200\n\n\n\n1550\n1550\n1250-1400\n1400\n\n2560\n1700\n\n2136\n\n\n\n1800\n\n1900\n1300\n-1\n1580\n1100\n1400\n\n3500-5200\n\n16001950\n800\n1620\n16001950\n1200\n1200\n1000\n\n350\n1400-1900\n\n1500-2000\n1500-2000\n\n1800\n1450\n1200\n800-1050\n1350\n1200\n170\n1150\n1600\n1750\n1900\n1750\n1200\n\n1000\n1550\n2000\n4300\n5000\n1200\n1700-1850\n\n1500-2000\n1754\n1500\n\n1800\n5000\n4000\n1550\n16001900\n\n1750\n14501700\n1800\n1300\n1100\n1200\n1750\n1680\n1700\n1800\n1100\n4300\n2000\n1350\n1500\n\n\nTEST\n1300\n1400\n\n16001950\n1200\n\n900\n\n1800\n1500\n\n1500\n\n442\n1800\n1700\n12001350\n900-1200\n3600-6200\n4400-4700\n1000\n1200\n2560\n1500\n3607\n1400\n16001950\n16001950\n1800\n442\n1620\n1600\n4000\n1700\n\n1450\n1170\n1400\n1700\n1700\n\n1700\n3664\n1565\n3280\n16001950\n9001100\n1150\n1850\n1545-1668\n1400\n1530\n\n1500\n894-1183\n4300\n1500\n1750\n\n1500-1700\n\n442\n968\n\n16001950\n1550\n\n1480\n1800\n\n1800\n1500\n5440-5760\n1600\n4000\n4000\n1480\n1450\n16001950\n1550\n1260\n1700\n1200\n-\n1650\n1700\n\n890\n1300\n1350\n934\n1200\n442\n\nnone\n\n\n16001950\n950\n1550\n900\n1500\n1400\n2527\n\n1850\n1500\n1200\n1\n480-570\n1650-1703\n1200\n1200-1400\n4000\n1260\n800\n1750\n4300\n1218\n1300\n1250\n4921\n\n\n1800\n890\n442\n750\n\n1650\n442\n1400\n2800\n16001950\n1500-1600\n1750\n1750\n\n700\n1300\n1600\n1600\n\n890\n1700\n1400\n1250\n934\n1200\n1350\n800\n1550-1700\n4451\n1750\n1800-2000\n4300\n4300\n1750\n1450\n4300\n1100\n1200-1600\n5000\n\n890\n3702\n\n1100\n16001950\n1200\n1700-2000\n1800\n1600\n1550\n1550\n1000\n16001950\n1000\n2136\n1100\n1799\n\n1850\n1000\n4000\n16001950\n1400\n1500\n1600\n\n1850\n1400\n1650\n1350\n1750\n1750\n1170\n940\n1400\n5000\n16001950\n4600\n\n1600\n439\n1700\n442\n1850\n\n1800\n1200\n1330\n442\n\n1600\n1813\n4000\n1500\n4300\n\n1450\n\n\n\n900-1200\n1650\n\n\n1227\n1200\n1650\n1700\n1100\n1300\n\n1100-1300\n\n4200\n1000\n4300\n\n1880\n1750\n\n\n1600\n1900\n\n2100\n\n\n442\n1261\n1000\n800\n1483\n1500\n1750\n1300\n\n\n1000\n4300\n1200\n175\n16001950\n1600-1800\n1880\n1800\n890\n1901\n168\n\n1550\n1500\n1450\n1200\n1600\n1350\n1500\n1400-1900\n1500\n800\n1653\n16001950\n1800\nunkown\n1450\n1350\n5000\n\n1800\n4300\n1500\n532\n1089\n16001950\n700\n1750\n1380\n1000\n950\n4600\n1000\n900\n1200\n1850\n1799\n\n905\n1\n700-800\n\n1200\n1200-1400\n\n1300\n\n1400\n\n\n16001950\n1880\n1300-1400\n\n890\n894\n872\n1473\n1645\n442\n1550\n13001800\n4500\n1500\n900-1100\n1200\n1800\n2800\n1500\n1100-1300\n1250\n1600-1950\n1750\n1000\n1000\n16001950\n750\n1200\n1200\n\n1500-1750\n1750\n4500\n1600-1950\n\n1050-1850\n\n\n1800\n\n\n890\n1350\n1500\n350\n2000\n775\n1200\n1600\n1059\n1300\n11000\n1400-1900\n1400\n1500\n1500\n\n1800-2000\n1750\n5440-5760\n1450\n1248\n1040\n1400\n\n1050-1850\n\n1754\n1700\n905\n1250\n1900\n1040\n4000\n900\n1200-2000\n1200\n1500\n1800\n16001950\n1400\n1550\n1250\n4300\n1380\n1200\n1100\n1800\n1700\n4000\n4000\n1500\n518\n650\n1250\n1850\n1400\n905\n1100\n1500\n16001950\n1442\n5000\n165\n\n\n1300\n1550\n1200\n1200\n14001850\n16001950\n\n1100\n\n890\n934\n1300\n1200\n1300\n\n1\n\n1700\n1550\n1200\n1296\n1400-1900\n1240\n1500\n1800\n\n1500\n-\n1100\n950\n18005900\n\n1400\n1800\n\n4000\n1050\n\n200\n\n1200-1300\n800\n1400-1500\n1317\n1400-1900\n1200-1400\n\n\n1750\n1750\n1750\n1250\n1150\n16001950\n900-1050\n890\n1250\n1400\n4000\n800\n1400-1500\n1600\n\n1500-1700\n1260\n4300\n1750\n4300\n1679\n1100\n1650\n\n1250\n16001950\n\n1600\n1500\n1700\n1700\n518\n\n1600\n1600\n\n2285\n1\n1400\n1296\n1000\nHuanuco\n1260\n1170\n\n16001950\n1560\n1400\n1300\n1170\n1300\n1350\n1150\n1250\n1450\n442\n\n1750\n1750\n1396\n982\n\n934\n1850\n1550\n1580\n1268\n\n5500\n1450\n1100\n5000\n\n1300\n200\n600\n4300\n1750\n1300\n\n5500-6000\n441\n1170\n4300\n1100\n12001400\n950\n442\n1100\n\n1450\n1\n1500\n1350\n1180\n1100\n650\n1338\n\n533\n4563\n1170\n1250\n\n1100\n900\n1750\n16001950\n\n\n934\n1500\n1000\n1500-1800\n1600\n1\n800\n1350\n1500\n\n1700\n1100\n1200-1600\n1200\n800\n1750\n1144\n1350\n1000\n1200\n1800\n1300\n\n894\n1\n1200-1400\n1500\n1500-1700\n\n13\n\n1300\n1800\n1250\n1040\n1250\n\n1600\n1600\n1600\n944\n1500-1800\n1250\n1300-1400\n2500\n600\n800\n1200-1400\n1400\n1800-2000\n600-700\n894-1183\n940\n1000\n1050\n\n950\n4600\n16001950\n1901\n4000\n1400\n1020\n1250\n13001800\n1877\n\n1000-1500\n\n1000\n1300\n981\n690\n1650\n1000\n1100\n1600\n518\n1900\n973\n1250\n3280\n1\n1\n4001\n1350-1500\n1400\n1200-1400\n700\n1300\n1556\n1100\n1350\n1550\n16001950\n\n1250\n4300\n1500\n1250\n900-950\n1600-1800\n\n1700\n1040\n1500-1700\n\n774\n1250\n1100\n1550\n1650\n1750\n16001950\n890\n1700\n4000\n1450\n1800\n\n\n1\n1200-1800\n1700\n1260\n\n1400\n1850\n\n150\n750\n1400\n5500-6000\n1650\n1400\n1200\n1400\n940\n\n1200\n190164\n800\n13\n1800\n1100\n850\n1260\n4300\n1400\n1600\n1650\n4921\n\n4500-6000\n4000\n1100\n1400\n\n160-200\n4000\n1200\n1599\n4000\n900\n1200\n400-1250\n600\n1150\n1600\n1100\n1000\n1250\n1100\n1200-1600\n125\n\n1050-1850\n\n1100\n4500\n1100\n1400\n110\n1422\n1100\n1550\n1550\n\n4300\n763\n1100\n1750\n1880\n\n\n1500\n1130\n1100\n1350\n1200\n1400\n1200\n1450\n1800\n1000\n1100\n680\n1\n1100\n1400\n1700\n1700\n650\n5000\n1500\n1200\n1002000\n1200\n1200-1400\n1450\n1400-1500\n1200\n1550\n990-1000\n1200-1400\n\n1800\n1450\n1000\n\n0\n695\n1100\n5600\n1456\n1500\n2800\n1650\n1300\n1642\n1200\n\n\n1450\n\n3280\n1600\n4000\n758\n1350\n\n1525\n1700\n1100\n800\n950\n1100\n200\n1901\n1600\n1100\n3500\n\n1700\n1200\n550\n1100\n7001400\n5000\n900\n688\n300\n1186\n\n1300\n1200\n1210\n1100\n100\n\n1800\n\n3825\n5440-5760\n110000\n1450\n1680\n1350\n1450\n1300\n1200\n1000\n\n\n1200-1500\n1500\n185\n990-1000\n1200\n1550\n1550\n\n\n\n\n\n1400\n1200\n1400\n4540\n\n\n50\n1500\n1650\n280\n1250\n3800\n4000\n1250\n\n6100\n1450\n1450\n600\n1450\n1700\n600\n1050\n1550\n1700\n1700\n\n600\n4300\n940\n\n\n995\n1400\n1600\n3000\n4287\n900\n\n\n700\n1400\n808\n1550\n1100-1275\n1400\n4300\n1250\n1550\n1000\n4300\n\n1100\n850\n\n200\n150\n250\n1300\n1300\n1250\n3845\n13001500\n250\n800\n1250\n1100\n\n\n\n1300\n1100\n1100\n1100\n1250\n1250\n\n1500\n1700\n1250\n1300\n\n190164\n800-1200\n500-700\n800\n\n1100\n1400\n1022\n1300\n1450\n1050\n\n1100\n4000\n1250\n800\n4300\n1400\n975\n1264\n\n1250\n1550\n1800\n3500-5200\n1050\n700\n1550\n1550\n1100\n4000\n4000\n800\n200\n1200\n950\n750\n\n850\n1000\n4000\n1650\n1320\n13001800\n\n1550\n1450\n1200\n1700\n2800\n1500\n1100\n1200\n\n4000\n1350\n1400\n1300\n1550\n12\n1300\n1400\n1100\n\n4300\n1320\n1250\n1350\n1850\n1150\n\n\n4000\n800\n1400\n1300\n\n1600\n1400\n1200\n\n1500\n\n4000\n4300\n1300\n\n\n\n1300\n1050\n650\n1350\n\n4000\n1200\n4300\n850\n\n1200\n1248\n\n1000\n\n4300\n750-800\n\n1300\n4300\n890\n4000\n1500\n400-1250\n\n1200\n900-1500\n\n1200\n\n1100\n4300\n\n\n\n1400\n3500\n1250\n1350\n1000\n\n4300\n\n1100\n1200\n1100\n1280\n850\n1500\n1250\n\n\n1700\n\n4300\n1140\n1200\n1250\n\n\n1350\n1200\n\n\n640-1400\n1200\n800\n1800\n1000\n\n1450\n1450\n1450\n900\n350\n1100\n4650\nTEST\n1400\n1488\n3170\n1000\n1212\n1200-1300\n3000\n750\n3140\n1000\n900-1300\n1095\n1000\n750\n1367\n1488\n1000\n750\n1600\n1745\n1200\n750\n750\n3000\n\n40\n795\n\n\n"
    }
   ],
   "source": [
    "# Get rid of random string values\n",
    "for idx, i in enumerate(df2['New_Altitude']):\n",
    "    if hasNumbers(i):\n",
    "        pass\n",
    "    else:\n",
    "        df2['New_Altitude'][idx] = \"\"\n",
    "    print(i)"
   ]
  },
  {
   "cell_type": "code",
   "execution_count": 20,
   "metadata": {},
   "outputs": [
    {
     "output_type": "stream",
     "name": "stdout",
     "text": "1300-1400\n1600-1950\n1600-1950\n1600-1900\n1450-1700\n1600-1950\n1200-1350\n1600-1950\n1600-1950\n1600-1950\n9001-100\n1600-1950\n1600-1950\n1600-1950\n1600-1950\n1600-1950\n1600-1950\n1600-1950\n1600-1950\n1600-1950\n1600-1950\n1600-1950\n1600-1950\n1300-1800\n1600-1950\n1100-0\n1600-1950\n1600-1950\n1400-1850\n1600-1950\n1800-5900\n1600-1950\n1600-1950\n1600-1950\n1200-1400\n1600-1950\n1600-1950\n1300-1800\n1600-1950\n1600-1950\n1901-64\n1002-000\n7001-400\n1100-00\n1300-1500\n1901-64\n1300-1800\n"
    }
   ],
   "source": [
    "for idx, i in enumerate(df2['New_Altitude']):\n",
    "    try:\n",
    "        if int(i) > 9000:   \n",
    "            df2['New_Altitude'][idx] = print(i[:4]+'-'+i[4:])\n",
    "        if int(i) < 500:\n",
    "            df2['New_Altitude'][idx] = \"\"\n",
    "    except:\n",
    "        pass"
   ]
  },
  {
   "cell_type": "code",
   "execution_count": 21,
   "metadata": {
    "scrolled": false
   },
   "outputs": [],
   "source": [
    "# Split strings to new columns for upper and lower alts\n",
    "list_split = df2[\"New_Altitude\"].str.split(\"-\", expand = True) \n",
    "df2['Lower_Altitude'] = list_split[0]\n",
    "df2['Upper_Altitude'] = list_split[1]\n",
    "\n"
   ]
  },
  {
   "cell_type": "code",
   "execution_count": 22,
   "metadata": {},
   "outputs": [],
   "source": [
    "df3 = df2.drop(columns=['Altitude', 'New_Altitude', 'ICO Number', 'Species', 'Lot Number', 'Mill'])\n",
    "df3.to_csv('clean_cqi_')"
   ]
  },
  {
   "cell_type": "code",
   "execution_count": 23,
   "metadata": {},
   "outputs": [],
   "source": [
    "## Drop all entries that are not in the YYYY format \n",
    "counter =-1\n",
    "for row in df3['Harvest Year']:\n",
    "    counter += 1\n",
    "    if len(row) != 4:\n",
    "      df3.iloc[counter, 15] = \"\"\n",
    "    if row == \"TEST\":\n",
    "      df3.iloc[counter, 15] =\"\""
   ]
  },
  {
   "cell_type": "code",
   "execution_count": 24,
   "metadata": {},
   "outputs": [],
   "source": [
    "df3['Harvest Year']= df3['Harvest Year'].replace(r'^(?![0-9]{4}).*$', np.nan, regex=True)"
   ]
  },
  {
   "cell_type": "code",
   "execution_count": 25,
   "metadata": {},
   "outputs": [
    {
     "output_type": "execute_result",
     "data": {
      "text/plain": "Index(['quality_score', 'Owner', 'Country_of_Origin', 'Farm_Name', 'Company',\n       'Region', 'Producer', 'Number_of_Bags', 'Bag_Weight',\n       'In-Country_Partner', 'Harvest_Year', 'Grading_Date', 'Variety',\n       'Status', 'Processing_Method', 'Aroma', 'Flavor', 'Aftertaste',\n       'Acidity', 'Body', 'Balance', 'Uniformity', 'Clean_Cup', 'Sweetness',\n       'Cupper_Points', 'Total_Cup_Points', 'Moisture', 'Category_One_Defects',\n       'Quakers', 'Color', 'Category_Two_Defects', 'Expiration',\n       'Certification_Body', 'Certification_Address', 'Certification_Contact',\n       'Altitude_Units', 'Lower_Altitude', 'Upper_Altitude'],\n      dtype='object')"
     },
     "metadata": {},
     "execution_count": 25
    }
   ],
   "source": [
    "df3_rename = df3.copy()\n",
    "list = df3_rename.columns\n",
    "                  \n",
    "res = [sub.replace(' ', '_') for sub in list] \n",
    "df3_rename.columns = res\n",
    "df3_rename.columns"
   ]
  },
  {
   "cell_type": "code",
   "execution_count": 34,
   "metadata": {},
   "outputs": [],
   "source": [
    "df3_rename['Harvest Year Corrected'] = df3_rename['Harvest_Year'].astype(str).str[:4]"
   ]
  },
  {
   "cell_type": "code",
   "execution_count": 37,
   "metadata": {},
   "outputs": [],
   "source": [
    "df3_rename['Harvest Year Corrected'] = df3_rename['Harvest Year Corrected'].apply (pd.to_numeric, errors='coerce')\n",
    "df3_rename = df3_rename.dropna(subset=['Harvest Year Corrected'])"
   ]
  },
  {
   "cell_type": "code",
   "execution_count": 39,
   "metadata": {},
   "outputs": [],
   "source": [
    "df3_rename.to_csv('Combined_Quality_Cleaned.csv', index = False)"
   ]
  },
  {
   "cell_type": "code",
   "execution_count": null,
   "metadata": {},
   "outputs": [],
   "source": []
  }
 ],
 "metadata": {
  "kernelspec": {
   "display_name": "Python 3",
   "language": "python",
   "name": "python3"
  },
  "language_info": {
   "codemirror_mode": {
    "name": "ipython",
    "version": 3
   },
   "file_extension": ".py",
   "mimetype": "text/x-python",
   "name": "python",
   "nbconvert_exporter": "python",
   "pygments_lexer": "ipython3",
   "version": "3.7.4-final"
  }
 },
 "nbformat": 4,
 "nbformat_minor": 2
}