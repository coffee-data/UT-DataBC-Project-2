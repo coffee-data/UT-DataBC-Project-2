{
 "cells": [
  {
   "cell_type": "code",
   "execution_count": 1,
   "metadata": {},
   "outputs": [],
   "source": [
    "import pandas as pd"
   ]
  },
  {
   "cell_type": "code",
   "execution_count": 2,
   "metadata": {},
   "outputs": [],
   "source": [
    "df_retail_prices = pd.read_csv(\"RetailPrice_CLEANED_VIZREADY_countrynameupdated.csv\")"
   ]
  },
  {
   "cell_type": "code",
   "execution_count": 6,
   "metadata": {},
   "outputs": [],
   "source": [
    "df_exchange = pd.read_csv(\"../exchange_merge_OPTIMIZED.csv\")"
   ]
  },
  {
   "cell_type": "code",
   "execution_count": 9,
   "metadata": {},
   "outputs": [],
   "source": [
    "df_retail_prices.drop(columns=df_retail_prices.iloc[:,:3].columns.tolist(), inplace=True)"
   ]
  },
  {
   "cell_type": "code",
   "execution_count": 10,
   "metadata": {},
   "outputs": [
    {
     "data": {
      "text/html": [
       "<div>\n",
       "<style scoped>\n",
       "    .dataframe tbody tr th:only-of-type {\n",
       "        vertical-align: middle;\n",
       "    }\n",
       "\n",
       "    .dataframe tbody tr th {\n",
       "        vertical-align: top;\n",
       "    }\n",
       "\n",
       "    .dataframe thead th {\n",
       "        text-align: right;\n",
       "    }\n",
       "</style>\n",
       "<table border=\"1\" class=\"dataframe\">\n",
       "  <thead>\n",
       "    <tr style=\"text-align: right;\">\n",
       "      <th></th>\n",
       "      <th>Country</th>\n",
       "      <th>Region</th>\n",
       "      <th>Unit</th>\n",
       "      <th>Country_Code</th>\n",
       "      <th>Weight</th>\n",
       "      <th>Date</th>\n",
       "      <th>Price</th>\n",
       "      <th>unit_price(/kg)</th>\n",
       "    </tr>\n",
       "  </thead>\n",
       "  <tbody>\n",
       "    <tr>\n",
       "      <th>0</th>\n",
       "      <td>Cyprus</td>\n",
       "      <td>Europe</td>\n",
       "      <td>kg</td>\n",
       "      <td>CYP</td>\n",
       "      <td>1.0</td>\n",
       "      <td>Oct-1963</td>\n",
       "      <td>0.65</td>\n",
       "      <td>0.65</td>\n",
       "    </tr>\n",
       "    <tr>\n",
       "      <th>1</th>\n",
       "      <td>Italy</td>\n",
       "      <td>Europe</td>\n",
       "      <td>kg</td>\n",
       "      <td>ITL</td>\n",
       "      <td>1.0</td>\n",
       "      <td>Oct-1963</td>\n",
       "      <td>2051.00</td>\n",
       "      <td>2051.00</td>\n",
       "    </tr>\n",
       "    <tr>\n",
       "      <th>2</th>\n",
       "      <td>Norway</td>\n",
       "      <td>Europe</td>\n",
       "      <td>kg</td>\n",
       "      <td>NOK</td>\n",
       "      <td>1.0</td>\n",
       "      <td>Oct-1963</td>\n",
       "      <td>12.00</td>\n",
       "      <td>12.00</td>\n",
       "    </tr>\n",
       "    <tr>\n",
       "      <th>3</th>\n",
       "      <td>Sweden</td>\n",
       "      <td>Europe</td>\n",
       "      <td>kg</td>\n",
       "      <td>SEK</td>\n",
       "      <td>1.0</td>\n",
       "      <td>Oct-1963</td>\n",
       "      <td>8.45</td>\n",
       "      <td>8.45</td>\n",
       "    </tr>\n",
       "    <tr>\n",
       "      <th>4</th>\n",
       "      <td>Cyprus</td>\n",
       "      <td>Europe</td>\n",
       "      <td>kg</td>\n",
       "      <td>CYP</td>\n",
       "      <td>1.0</td>\n",
       "      <td>Nov-1963</td>\n",
       "      <td>0.65</td>\n",
       "      <td>0.65</td>\n",
       "    </tr>\n",
       "    <tr>\n",
       "      <th>...</th>\n",
       "      <td>...</td>\n",
       "      <td>...</td>\n",
       "      <td>...</td>\n",
       "      <td>...</td>\n",
       "      <td>...</td>\n",
       "      <td>...</td>\n",
       "      <td>...</td>\n",
       "      <td>...</td>\n",
       "    </tr>\n",
       "    <tr>\n",
       "      <th>13123</th>\n",
       "      <td>Slovak Rep.</td>\n",
       "      <td>Europe</td>\n",
       "      <td>g</td>\n",
       "      <td>EUR</td>\n",
       "      <td>250.0</td>\n",
       "      <td>Dec-2018</td>\n",
       "      <td>2.99</td>\n",
       "      <td>11.96</td>\n",
       "    </tr>\n",
       "    <tr>\n",
       "      <th>13124</th>\n",
       "      <td>Spain</td>\n",
       "      <td>Europe</td>\n",
       "      <td>g</td>\n",
       "      <td>EUR</td>\n",
       "      <td>250.0</td>\n",
       "      <td>Dec-2018</td>\n",
       "      <td>1.94</td>\n",
       "      <td>7.76</td>\n",
       "    </tr>\n",
       "    <tr>\n",
       "      <th>13125</th>\n",
       "      <td>Sweden</td>\n",
       "      <td>Europe</td>\n",
       "      <td>g</td>\n",
       "      <td>SEK</td>\n",
       "      <td>500.0</td>\n",
       "      <td>Dec-2018</td>\n",
       "      <td>28.62</td>\n",
       "      <td>57.24</td>\n",
       "    </tr>\n",
       "    <tr>\n",
       "      <th>13126</th>\n",
       "      <td>United Kingdom</td>\n",
       "      <td>Europe</td>\n",
       "      <td>½ lb</td>\n",
       "      <td>GBP</td>\n",
       "      <td>1.0</td>\n",
       "      <td>Dec-2018</td>\n",
       "      <td>2.92</td>\n",
       "      <td>NaN</td>\n",
       "    </tr>\n",
       "    <tr>\n",
       "      <th>13127</th>\n",
       "      <td>Brazil</td>\n",
       "      <td>South America</td>\n",
       "      <td>g</td>\n",
       "      <td>BRL</td>\n",
       "      <td>500.0</td>\n",
       "      <td>Dec-2018</td>\n",
       "      <td>7.38</td>\n",
       "      <td>14.76</td>\n",
       "    </tr>\n",
       "  </tbody>\n",
       "</table>\n",
       "<p>13128 rows × 8 columns</p>\n",
       "</div>"
      ],
      "text/plain": [
       "              Country         Region  Unit Country_Code  Weight      Date  \\\n",
       "0              Cyprus         Europe    kg          CYP     1.0  Oct-1963   \n",
       "1               Italy         Europe    kg          ITL     1.0  Oct-1963   \n",
       "2              Norway         Europe    kg          NOK     1.0  Oct-1963   \n",
       "3              Sweden         Europe    kg          SEK     1.0  Oct-1963   \n",
       "4              Cyprus         Europe    kg          CYP     1.0  Nov-1963   \n",
       "...               ...            ...   ...          ...     ...       ...   \n",
       "13123     Slovak Rep.         Europe     g          EUR   250.0  Dec-2018   \n",
       "13124           Spain         Europe     g          EUR   250.0  Dec-2018   \n",
       "13125          Sweden         Europe     g          SEK   500.0  Dec-2018   \n",
       "13126  United Kingdom         Europe  ½ lb          GBP     1.0  Dec-2018   \n",
       "13127          Brazil  South America     g          BRL   500.0  Dec-2018   \n",
       "\n",
       "         Price  unit_price(/kg)  \n",
       "0         0.65             0.65  \n",
       "1      2051.00          2051.00  \n",
       "2        12.00            12.00  \n",
       "3         8.45             8.45  \n",
       "4         0.65             0.65  \n",
       "...        ...              ...  \n",
       "13123     2.99            11.96  \n",
       "13124     1.94             7.76  \n",
       "13125    28.62            57.24  \n",
       "13126     2.92              NaN  \n",
       "13127     7.38            14.76  \n",
       "\n",
       "[13128 rows x 8 columns]"
      ]
     },
     "execution_count": 10,
     "metadata": {},
     "output_type": "execute_result"
    }
   ],
   "source": [
    "df_retail_prices"
   ]
  },
  {
   "cell_type": "code",
   "execution_count": 11,
   "metadata": {},
   "outputs": [],
   "source": [
    "df_retail_prices['Datetime'] = pd.to_datetime(df_retail_prices[\"Date\"], format='%b-%Y')"
   ]
  },
  {
   "cell_type": "code",
   "execution_count": 13,
   "metadata": {},
   "outputs": [],
   "source": [
    "df_retail_prices['Year'] = [d.year for d in df_retail_prices['Datetime']]\n",
    "df_retail_prices['Month'] = [d.month for d in df_retail_prices['Datetime']]"
   ]
  },
  {
   "cell_type": "code",
   "execution_count": 15,
   "metadata": {},
   "outputs": [],
   "source": [
    "df_retail_prices.drop(columns=['Date'], inplace=True)"
   ]
  },
  {
   "cell_type": "code",
   "execution_count": 17,
   "metadata": {},
   "outputs": [],
   "source": [
    "df_growers_merged = pd.merge(df_retail_prices, df_exchange, on=['Country', 'Year'])"
   ]
  },
  {
   "cell_type": "code",
   "execution_count": 19,
   "metadata": {},
   "outputs": [],
   "source": [
    "df_growers_merged.to_csv(\"grower_prices_MERGED_VIZREADY.csv\")"
   ]
  },
  {
   "cell_type": "code",
   "execution_count": null,
   "metadata": {},
   "outputs": [],
   "source": []
  }
 ],
 "metadata": {
  "kernelspec": {
   "display_name": "Python 3",
   "language": "python",
   "name": "python3"
  },
  "language_info": {
   "codemirror_mode": {
    "name": "ipython",
    "version": 3
   },
   "file_extension": ".py",
   "mimetype": "text/x-python",
   "name": "python",
   "nbconvert_exporter": "python",
   "pygments_lexer": "ipython3",
   "version": "3.7.6"
  }
 },
 "nbformat": 4,
 "nbformat_minor": 4
}
