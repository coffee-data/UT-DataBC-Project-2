{
 "cells": [
  {
   "cell_type": "code",
   "execution_count": 1,
   "metadata": {},
   "outputs": [],
   "source": [
    "import pandas as pd"
   ]
  },
  {
   "cell_type": "code",
   "execution_count": 2,
   "metadata": {},
   "outputs": [],
   "source": [
    "file = \"RetailPrices_CLEANED.csv\"\n",
    "df = pd.read_csv(file)"
   ]
  },
  {
   "cell_type": "code",
   "execution_count": 3,
   "metadata": {},
   "outputs": [],
   "source": [
    "df.fillna(value={'Weight':1}, inplace=True)\n",
    "df = df[df['Price'].notna()]\n",
    "df = df[df['Unit'].notna()]\n",
    "df = df[(df[['Price']] != 0).all(axis=1)]"
   ]
  },
  {
   "cell_type": "code",
   "execution_count": 4,
   "metadata": {},
   "outputs": [
    {
     "data": {
      "text/html": [
       "<div>\n",
       "<style scoped>\n",
       "    .dataframe tbody tr th:only-of-type {\n",
       "        vertical-align: middle;\n",
       "    }\n",
       "\n",
       "    .dataframe tbody tr th {\n",
       "        vertical-align: top;\n",
       "    }\n",
       "\n",
       "    .dataframe thead th {\n",
       "        text-align: right;\n",
       "    }\n",
       "</style>\n",
       "<table border=\"1\" class=\"dataframe\">\n",
       "  <thead>\n",
       "    <tr style=\"text-align: right;\">\n",
       "      <th></th>\n",
       "      <th>Unnamed: 0</th>\n",
       "      <th>Country</th>\n",
       "      <th>Region</th>\n",
       "      <th>Unit</th>\n",
       "      <th>Country_Code</th>\n",
       "      <th>Weight</th>\n",
       "      <th>Date</th>\n",
       "      <th>Price</th>\n",
       "      <th>unit_price(/kg)</th>\n",
       "    </tr>\n",
       "  </thead>\n",
       "  <tbody>\n",
       "    <tr>\n",
       "      <th>2665</th>\n",
       "      <td>2665</td>\n",
       "      <td>Cyprus</td>\n",
       "      <td>Europe</td>\n",
       "      <td>kg</td>\n",
       "      <td>CYP</td>\n",
       "      <td>1.0</td>\n",
       "      <td>Oct-1963</td>\n",
       "      <td>0.65</td>\n",
       "      <td></td>\n",
       "    </tr>\n",
       "    <tr>\n",
       "      <th>2668</th>\n",
       "      <td>2668</td>\n",
       "      <td>Italy</td>\n",
       "      <td>Europe</td>\n",
       "      <td>kg</td>\n",
       "      <td>ITL</td>\n",
       "      <td>1.0</td>\n",
       "      <td>Oct-1963</td>\n",
       "      <td>2051.00</td>\n",
       "      <td></td>\n",
       "    </tr>\n",
       "    <tr>\n",
       "      <th>2670</th>\n",
       "      <td>2670</td>\n",
       "      <td>Norway</td>\n",
       "      <td>Europe</td>\n",
       "      <td>kg</td>\n",
       "      <td>NOK</td>\n",
       "      <td>1.0</td>\n",
       "      <td>Oct-1963</td>\n",
       "      <td>12.00</td>\n",
       "      <td></td>\n",
       "    </tr>\n",
       "    <tr>\n",
       "      <th>2671</th>\n",
       "      <td>2671</td>\n",
       "      <td>Sweden</td>\n",
       "      <td>Europe</td>\n",
       "      <td>kg</td>\n",
       "      <td>SEK</td>\n",
       "      <td>1.0</td>\n",
       "      <td>Oct-1963</td>\n",
       "      <td>8.45</td>\n",
       "      <td></td>\n",
       "    </tr>\n",
       "    <tr>\n",
       "      <th>2961</th>\n",
       "      <td>2961</td>\n",
       "      <td>Cyprus</td>\n",
       "      <td>Europe</td>\n",
       "      <td>kg</td>\n",
       "      <td>CYP</td>\n",
       "      <td>1.0</td>\n",
       "      <td>Nov-1963</td>\n",
       "      <td>0.65</td>\n",
       "      <td></td>\n",
       "    </tr>\n",
       "  </tbody>\n",
       "</table>\n",
       "</div>"
      ],
      "text/plain": [
       "      Unnamed: 0 Country  Region Unit Country_Code  Weight      Date    Price  \\\n",
       "2665        2665  Cyprus  Europe   kg          CYP     1.0  Oct-1963     0.65   \n",
       "2668        2668   Italy  Europe   kg          ITL     1.0  Oct-1963  2051.00   \n",
       "2670        2670  Norway  Europe   kg          NOK     1.0  Oct-1963    12.00   \n",
       "2671        2671  Sweden  Europe   kg          SEK     1.0  Oct-1963     8.45   \n",
       "2961        2961  Cyprus  Europe   kg          CYP     1.0  Nov-1963     0.65   \n",
       "\n",
       "     unit_price(/kg)  \n",
       "2665                  \n",
       "2668                  \n",
       "2670                  \n",
       "2671                  \n",
       "2961                  "
      ]
     },
     "execution_count": 4,
     "metadata": {},
     "output_type": "execute_result"
    }
   ],
   "source": [
    "df[\"unit_price(/kg)\"]=\"\"\n",
    "df.head()"
   ]
  },
  {
   "cell_type": "code",
   "execution_count": 5,
   "metadata": {},
   "outputs": [],
   "source": [
    "df.loc[df[\"Unit\"]==\"kg\",\"unit_price(/kg)\"]= (df[\"Price\"]/ df[\"Weight\"]).round(2)\n",
    "df.loc[df[\"Unit\"]==\"g\",\"unit_price(/kg)\"]= (df[\"Price\"]/ df[\"Weight\"]/0.001).round(2)\n",
    "df.loc[df[\"Unit\"]==\"lb\",\"unit_price(/kg)\"]= (df[\"Price\"]/ df[\"Weight\"]/0.45).round(2)\n",
    "df.loc[df[\"Unit\"]==\"1/2 lb\",\"unit_price(/kg)\"]= (df[\"Price\"]/ df[\"Weight\"]/0.225).round(2)"
   ]
  },
  {
   "cell_type": "code",
   "execution_count": 6,
   "metadata": {},
   "outputs": [],
   "source": [
    "df.to_csv(\"RetailPrice_CLEANED_VIZREADY.csv\")"
   ]
  },
  {
   "cell_type": "code",
   "execution_count": null,
   "metadata": {},
   "outputs": [],
   "source": []
  }
 ],
 "metadata": {
  "kernelspec": {
   "display_name": "Python 3",
   "language": "python",
   "name": "python3"
  },
  "language_info": {
   "codemirror_mode": {
    "name": "ipython",
    "version": 3
   },
   "file_extension": ".py",
   "mimetype": "text/x-python",
   "name": "python",
   "nbconvert_exporter": "python",
   "pygments_lexer": "ipython3",
   "version": "3.7.6"
  }
 },
 "nbformat": 4,
 "nbformat_minor": 2
}
